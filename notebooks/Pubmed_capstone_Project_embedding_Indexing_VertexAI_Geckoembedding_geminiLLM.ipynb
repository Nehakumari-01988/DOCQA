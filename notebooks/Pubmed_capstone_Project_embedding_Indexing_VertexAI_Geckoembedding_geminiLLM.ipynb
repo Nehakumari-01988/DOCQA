{
  "nbformat": 4,
  "nbformat_minor": 0,
  "metadata": {
    "colab": {
      "provenance": []
    },
    "kernelspec": {
      "name": "python3",
      "display_name": "Python 3"
    },
    "language_info": {
      "name": "python"
    }
  },
  "cells": [
    {
      "cell_type": "markdown",
      "source": [
        "## Introduction\n",
        "\n",
        "In this tutorial, you learn how to use Google Cloud AI tools to quickly bring the power of Large Language Models to enterprise systems.  \n",
        "\n",
        "This tutorial covers the following -\n",
        "\n",
        "*   What are embeddings - what business challenges do they help solve ?\n",
        "*   Understanding Text with Vertex AI Text Embeddings\n",
        "*   Find Embeddings fast with Vertex AI Vector Search\n",
        "*   Grounding LLM outputs with Vector Search\n",
        "\n",
        "This tutorial is based on [the blog post](https://cloud.google.com/blog/products/ai-machine-learning/how-to-use-grounding-for-your-llms-with-text-embeddings), combined with sample code.\n",
        "\n",
        "\n",
        "### Prerequisites\n",
        "\n",
        "This tutorial is designed for developers who has basic knowledge and experience with Python programming and machine learning.\n",
        "\n",
        "If you are not reading this tutorial in Qwiklab, then you need to have a Google Cloud project that is linked to a billing account to run this. Please go through [this document](https://cloud.google.com/vertex-ai/docs/start/cloud-environment) to create a project and setup a billing account for it.\n",
        "\n",
        "### Choose the runtime environment\n",
        "\n",
        "The notebook can be run on either Google Colab or [Vertex AI Workbench](https://cloud.google.com/vertex-ai-workbench).\n",
        "\n",
        "- To use Colab: Click [this link](https://colab.research.google.com/github/GoogleCloudPlatform/generative-ai/blob/main/embeddings/intro-textemb-vectorsearch.ipynb) to open the tutorial in Colab.\n",
        "\n",
        "- To use Workbench: If it is the first time to use Workbench in your Google Cloud project, open [the Workbench console](https://console.cloud.google.com/vertex-ai/workbench) and click ENABLE button to enable Notebooks API. Then click [this link](https://console.cloud.google.com/vertex-ai/workbench/deploy-notebook?download_url=https://raw.githubusercontent.com/GoogleCloudPlatform/generative-ai/main/embeddings/intro-textemb-vectorsearch.ipynb),  and select an existing notebook or create a new notebook.\n"
      ],
      "metadata": {
        "id": "exfOIAby7buQ"
      }
    },
    {
      "cell_type": "markdown",
      "source": [
        "### How much will this cost?\n",
        "\n",
        "In case you are using your own Cloud project, not a temporary project on Qwiklab, you need to spend roughly a few US dollars to finish this tutorial.\n",
        "\n",
        "The pricing of the Cloud services we will use in this tutorial are avilable in the following pages:\n",
        "\n",
        "- [Vertex AI Embeddings for Text](https://cloud.google.com/vertex-ai/pricing#generative_ai_models)\n",
        "- [Vertex AI Vector Search](https://cloud.google.com/vertex-ai/pricing#matchingengine)\n",
        "- [BigQuery](https://cloud.google.com/bigquery/pricing)\n",
        "- [Cloud Storage](https://cloud.google.com/storage/pricing)\n",
        "- [Vertex AI Workbench](https://cloud.google.com/vertex-ai/pricing#notebooks) if you use one\n",
        "\n",
        "You can use the [Pricing Calculator](https://cloud.google.com/products/calculator) to generate a cost estimate based on your projected usage. The following is an example of rough cost estimation with the calculator, assuming you will go through this tutorial a couple of time.\n",
        "\n",
        "<img src=\"https://storage.googleapis.com/github-repo/img/embeddings/vs-quickstart/pricing.png\" width=\"50%\"/>\n",
        "\n",
        "### **Warning: delete your objects after the tutorial**\n",
        "\n",
        "In case you are using your own Cloud project, please make sure to delete all the Indexes, Index Endpoints and Cloud Storage buckets (and the Workbench instance if you use one) after finishing this tutorial. Otherwise the remaining assets would incur unexpected costs.\n"
      ],
      "metadata": {
        "id": "G0tWrc9b8J1D"
      }
    },
    {
      "cell_type": "markdown",
      "source": [
        "# Bringing Gen AI and LLMs to production services\n",
        "\n",
        "Many people are now starting to think about how to bring Gen AI and LLMs to production services, and facing with several challenges.\n",
        "\n",
        "- \"How to integrate LLMs or AI chatbots with existing IT systems, databases and business data?\"\n",
        "- \"We have thousands of products. How can I let LLM memorize them all precisely?\"\n",
        "- \"How to handle the hallucination issues in AI chatbots to build a reliable service?\"\n",
        "\n",
        "Here is a quick solution: **grounding** with **embeddings** and **vector search**.\n",
        "\n",
        "What is grounding? What are embedding and vector search? In this tutorial, we will learn these crucial concepts to build reliable Gen AI services for enterprise use. But before we dive deeper, let's try the demo below."
      ],
      "metadata": {
        "id": "K3e0ZgCp8QfX"
      }
    },
    {
      "cell_type": "markdown",
      "source": [
        "# Vertex AI Embeddings for Text\n",
        "\n",
        "With the [Vertex AI Embeddings for Text](https://cloud.google.com/vertex-ai/docs/generative-ai/embeddings/get-text-embeddings), you can easily create a text embedding with LLM. The product is also available on [Vertex AI Model Garden](https://cloud.google.com/model-garden)\n",
        "\n",
        "![](https://storage.googleapis.com/github-repo/img/embeddings/textemb-vs-notebook/7.png)\n",
        "\n",
        "This API is designed to extract embeddings from texts. It can take text input up to 3,072 input tokens, and outputs 768 dimensional text embeddings."
      ],
      "metadata": {
        "id": "Y6N7s9Lj8U8T"
      }
    },
    {
      "cell_type": "markdown",
      "source": [
        "# Text Embeddings in Action\n",
        "## Setup\n",
        "\n",
        "Before get started with the Vertex AI services, we need to setup the following.\n",
        "\n",
        "* Install Python SDK\n",
        "* Environment variables\n",
        "* Authentication (Colab only)\n",
        "* Enable APIs\n",
        "* Set IAM permissions"
      ],
      "metadata": {
        "id": "kw3qE14-8rJL"
      }
    },
    {
      "cell_type": "markdown",
      "source": [
        "### Install Python SDK"
      ],
      "metadata": {
        "id": "_-mOaNaJ800V"
      }
    },
    {
      "cell_type": "code",
      "source": [
        "# Install Vertex AI LLM SDK\n",
        "! pip install --user --upgrade google-cloud-aiplatform==1.47.0 langchain==0.1.14 langchain-google-vertexai==0.1.3 typing_extensions==4.9.0\n",
        "\n",
        "# Dependencies required by Unstructured PDF loader\n",
        "! sudo apt -y -qq install tesseract-ocr libtesseract-dev\n",
        "! sudo apt-get -y -qq install poppler-utils\n",
        "! pip install --user --upgrade unstructured==0.12.4 pdf2image==1.17.0 pytesseract==0.3.10 pdfminer.six==20221105\n",
        "! pip install --user --upgrade pillow-heif==0.15.0 opencv-python==4.9.0.80 unstructured-inference==0.7.24 pikepdf==8.13.0 pypdf==4.0.1\n",
        "\n",
        "# For Matching Engine integration dependencies (default embeddings)\n",
        "! pip install --user --upgrade tensorflow_hub==0.16.1 tensorflow_text==2.15.0"
      ],
      "metadata": {
        "colab": {
          "base_uri": "https://localhost:8080/",
          "height": 1000
        },
        "id": "1yOib9qscyzd",
        "outputId": "fc9631e6-8191-4137-f980-d801f89809e9"
      },
      "execution_count": null,
      "outputs": [
        {
          "metadata": {
            "tags": null
          },
          "name": "stdout",
          "output_type": "stream",
          "text": [
            "Collecting google-cloud-aiplatform==1.47.0\n",
            "  Downloading google_cloud_aiplatform-1.47.0-py2.py3-none-any.whl (4.8 MB)\n",
            "\u001b[2K     \u001b[90m━━━━━━━━━━━━━━━━━━━━━━━━━━━━━━━━━━━━━━━━\u001b[0m \u001b[32m4.8/4.8 MB\u001b[0m \u001b[31m8.2 MB/s\u001b[0m eta \u001b[36m0:00:00\u001b[0m\n",
            "\u001b[?25hCollecting langchain==0.1.14\n",
            "  Downloading langchain-0.1.14-py3-none-any.whl (812 kB)\n",
            "\u001b[2K     \u001b[90m━━━━━━━━━━━━━━━━━━━━━━━━━━━━━━━━━━━━━━━━\u001b[0m \u001b[32m812.8/812.8 kB\u001b[0m \u001b[31m9.8 MB/s\u001b[0m eta \u001b[36m0:00:00\u001b[0m\n",
            "\u001b[?25hCollecting langchain-google-vertexai==0.1.3\n",
            "  Downloading langchain_google_vertexai-0.1.3-py3-none-any.whl (52 kB)\n",
            "\u001b[2K     \u001b[90m━━━━━━━━━━━━━━━━━━━━━━━━━━━━━━━━━━━━━━━━\u001b[0m \u001b[32m52.7/52.7 kB\u001b[0m \u001b[31m1.5 MB/s\u001b[0m eta \u001b[36m0:00:00\u001b[0m\n",
            "\u001b[?25hCollecting typing_extensions==4.9.0\n",
            "  Downloading typing_extensions-4.9.0-py3-none-any.whl (32 kB)\n",
            "Requirement already satisfied: google-api-core[grpc]!=2.0.*,!=2.1.*,!=2.2.*,!=2.3.*,!=2.4.*,!=2.5.*,!=2.6.*,!=2.7.*,<3.0.0dev,>=1.34.1 in /usr/local/lib/python3.10/dist-packages (from google-cloud-aiplatform==1.47.0) (2.11.1)\n",
            "Requirement already satisfied: google-auth<3.0.0dev,>=2.14.1 in /usr/local/lib/python3.10/dist-packages (from google-cloud-aiplatform==1.47.0) (2.27.0)\n",
            "Requirement already satisfied: proto-plus<2.0.0dev,>=1.22.0 in /usr/local/lib/python3.10/dist-packages (from google-cloud-aiplatform==1.47.0) (1.23.0)\n",
            "Requirement already satisfied: protobuf!=3.20.0,!=3.20.1,!=4.21.0,!=4.21.1,!=4.21.2,!=4.21.3,!=4.21.4,!=4.21.5,<5.0.0dev,>=3.19.5 in /usr/local/lib/python3.10/dist-packages (from google-cloud-aiplatform==1.47.0) (3.20.3)\n",
            "Requirement already satisfied: packaging>=14.3 in /usr/local/lib/python3.10/dist-packages (from google-cloud-aiplatform==1.47.0) (24.0)\n",
            "Requirement already satisfied: google-cloud-storage<3.0.0dev,>=1.32.0 in /usr/local/lib/python3.10/dist-packages (from google-cloud-aiplatform==1.47.0) (2.8.0)\n",
            "Requirement already satisfied: google-cloud-bigquery!=3.20.0,<4.0.0dev,>=1.15.0 in /usr/local/lib/python3.10/dist-packages (from google-cloud-aiplatform==1.47.0) (3.12.0)\n",
            "Requirement already satisfied: google-cloud-resource-manager<3.0.0dev,>=1.3.3 in /usr/local/lib/python3.10/dist-packages (from google-cloud-aiplatform==1.47.0) (1.12.3)\n",
            "Requirement already satisfied: shapely<3.0.0dev in /usr/local/lib/python3.10/dist-packages (from google-cloud-aiplatform==1.47.0) (2.0.4)\n",
            "Requirement already satisfied: pydantic<3 in /usr/local/lib/python3.10/dist-packages (from google-cloud-aiplatform==1.47.0) (2.7.0)\n",
            "Requirement already satisfied: docstring-parser<1 in /usr/local/lib/python3.10/dist-packages (from google-cloud-aiplatform==1.47.0) (0.16)\n",
            "Requirement already satisfied: PyYAML>=5.3 in /usr/local/lib/python3.10/dist-packages (from langchain==0.1.14) (6.0.1)\n",
            "Requirement already satisfied: SQLAlchemy<3,>=1.4 in /usr/local/lib/python3.10/dist-packages (from langchain==0.1.14) (2.0.29)\n",
            "Requirement already satisfied: aiohttp<4.0.0,>=3.8.3 in /usr/local/lib/python3.10/dist-packages (from langchain==0.1.14) (3.9.5)\n",
            "Requirement already satisfied: async-timeout<5.0.0,>=4.0.0 in /usr/local/lib/python3.10/dist-packages (from langchain==0.1.14) (4.0.3)\n",
            "Collecting dataclasses-json<0.7,>=0.5.7 (from langchain==0.1.14)\n",
            "  Downloading dataclasses_json-0.6.4-py3-none-any.whl (28 kB)\n",
            "Collecting jsonpatch<2.0,>=1.33 (from langchain==0.1.14)\n",
            "  Downloading jsonpatch-1.33-py2.py3-none-any.whl (12 kB)\n",
            "Collecting langchain-community<0.1,>=0.0.30 (from langchain==0.1.14)\n",
            "  Downloading langchain_community-0.0.34-py3-none-any.whl (1.9 MB)\n",
            "\u001b[2K     \u001b[90m━━━━━━━━━━━━━━━━━━━━━━━━━━━━━━━━━━━━━━━━\u001b[0m \u001b[32m1.9/1.9 MB\u001b[0m \u001b[31m21.7 MB/s\u001b[0m eta \u001b[36m0:00:00\u001b[0m\n",
            "\u001b[?25hCollecting langchain-core<0.2.0,>=0.1.37 (from langchain==0.1.14)\n",
            "  Downloading langchain_core-0.1.45-py3-none-any.whl (291 kB)\n",
            "\u001b[2K     \u001b[90m━━━━━━━━━━━━━━━━━━━━━━━━━━━━━━━━━━━━━━━━\u001b[0m \u001b[32m291.3/291.3 kB\u001b[0m \u001b[31m18.6 MB/s\u001b[0m eta \u001b[36m0:00:00\u001b[0m\n",
            "\u001b[?25hCollecting langchain-text-splitters<0.1,>=0.0.1 (from langchain==0.1.14)\n",
            "  Downloading langchain_text_splitters-0.0.1-py3-none-any.whl (21 kB)\n",
            "Collecting langsmith<0.2.0,>=0.1.17 (from langchain==0.1.14)\n",
            "  Downloading langsmith-0.1.50-py3-none-any.whl (115 kB)\n",
            "\u001b[2K     \u001b[90m━━━━━━━━━━━━━━━━━━━━━━━━━━━━━━━━━━━━━━━━\u001b[0m \u001b[32m115.5/115.5 kB\u001b[0m \u001b[31m3.8 MB/s\u001b[0m eta \u001b[36m0:00:00\u001b[0m\n",
            "\u001b[?25hRequirement already satisfied: numpy<2,>=1 in /usr/local/lib/python3.10/dist-packages (from langchain==0.1.14) (1.25.2)\n",
            "Requirement already satisfied: requests<3,>=2 in /usr/local/lib/python3.10/dist-packages (from langchain==0.1.14) (2.31.0)\n",
            "Requirement already satisfied: tenacity<9.0.0,>=8.1.0 in /usr/local/lib/python3.10/dist-packages (from langchain==0.1.14) (8.2.3)\n",
            "Collecting google-cloud-storage<3.0.0dev,>=1.32.0 (from google-cloud-aiplatform==1.47.0)\n",
            "  Downloading google_cloud_storage-2.16.0-py2.py3-none-any.whl (125 kB)\n",
            "\u001b[2K     \u001b[90m━━━━━━━━━━━━━━━━━━━━━━━━━━━━━━━━━━━━━━━━\u001b[0m \u001b[32m125.6/125.6 kB\u001b[0m \u001b[31m5.8 MB/s\u001b[0m eta \u001b[36m0:00:00\u001b[0m\n",
            "\u001b[?25hCollecting types-protobuf<5.0.0.0,>=4.24.0.4 (from langchain-google-vertexai==0.1.3)\n",
            "  Downloading types_protobuf-4.25.0.20240417-py3-none-any.whl (67 kB)\n",
            "\u001b[2K     \u001b[90m━━━━━━━━━━━━━━━━━━━━━━━━━━━━━━━━━━━━━━━━\u001b[0m \u001b[32m67.9/67.9 kB\u001b[0m \u001b[31m4.1 MB/s\u001b[0m eta \u001b[36m0:00:00\u001b[0m\n",
            "\u001b[?25hCollecting types-requests<3.0.0,>=2.31.0 (from langchain-google-vertexai==0.1.3)\n",
            "  Downloading types_requests-2.31.0.20240406-py3-none-any.whl (15 kB)\n",
            "Requirement already satisfied: aiosignal>=1.1.2 in /usr/local/lib/python3.10/dist-packages (from aiohttp<4.0.0,>=3.8.3->langchain==0.1.14) (1.3.1)\n",
            "Requirement already satisfied: attrs>=17.3.0 in /usr/local/lib/python3.10/dist-packages (from aiohttp<4.0.0,>=3.8.3->langchain==0.1.14) (23.2.0)\n",
            "Requirement already satisfied: frozenlist>=1.1.1 in /usr/local/lib/python3.10/dist-packages (from aiohttp<4.0.0,>=3.8.3->langchain==0.1.14) (1.4.1)\n",
            "Requirement already satisfied: multidict<7.0,>=4.5 in /usr/local/lib/python3.10/dist-packages (from aiohttp<4.0.0,>=3.8.3->langchain==0.1.14) (6.0.5)\n",
            "Requirement already satisfied: yarl<2.0,>=1.0 in /usr/local/lib/python3.10/dist-packages (from aiohttp<4.0.0,>=3.8.3->langchain==0.1.14) (1.9.4)\n",
            "Collecting marshmallow<4.0.0,>=3.18.0 (from dataclasses-json<0.7,>=0.5.7->langchain==0.1.14)\n",
            "  Downloading marshmallow-3.21.1-py3-none-any.whl (49 kB)\n",
            "\u001b[2K     \u001b[90m━━━━━━━━━━━━━━━━━━━━━━━━━━━━━━━━━━━━━━━━\u001b[0m \u001b[32m49.4/49.4 kB\u001b[0m \u001b[31m3.4 MB/s\u001b[0m eta \u001b[36m0:00:00\u001b[0m\n",
            "\u001b[?25hCollecting typing-inspect<1,>=0.4.0 (from dataclasses-json<0.7,>=0.5.7->langchain==0.1.14)\n",
            "  Downloading typing_inspect-0.9.0-py3-none-any.whl (8.8 kB)\n",
            "Requirement already satisfied: googleapis-common-protos<2.0.dev0,>=1.56.2 in /usr/local/lib/python3.10/dist-packages (from google-api-core[grpc]!=2.0.*,!=2.1.*,!=2.2.*,!=2.3.*,!=2.4.*,!=2.5.*,!=2.6.*,!=2.7.*,<3.0.0dev,>=1.34.1->google-cloud-aiplatform==1.47.0) (1.63.0)\n",
            "Requirement already satisfied: grpcio<2.0dev,>=1.33.2 in /usr/local/lib/python3.10/dist-packages (from google-api-core[grpc]!=2.0.*,!=2.1.*,!=2.2.*,!=2.3.*,!=2.4.*,!=2.5.*,!=2.6.*,!=2.7.*,<3.0.0dev,>=1.34.1->google-cloud-aiplatform==1.47.0) (1.62.2)\n",
            "Requirement already satisfied: grpcio-status<2.0.dev0,>=1.33.2 in /usr/local/lib/python3.10/dist-packages (from google-api-core[grpc]!=2.0.*,!=2.1.*,!=2.2.*,!=2.3.*,!=2.4.*,!=2.5.*,!=2.6.*,!=2.7.*,<3.0.0dev,>=1.34.1->google-cloud-aiplatform==1.47.0) (1.48.2)\n",
            "Requirement already satisfied: cachetools<6.0,>=2.0.0 in /usr/local/lib/python3.10/dist-packages (from google-auth<3.0.0dev,>=2.14.1->google-cloud-aiplatform==1.47.0) (5.3.3)\n",
            "Requirement already satisfied: pyasn1-modules>=0.2.1 in /usr/local/lib/python3.10/dist-packages (from google-auth<3.0.0dev,>=2.14.1->google-cloud-aiplatform==1.47.0) (0.4.0)\n",
            "Requirement already satisfied: rsa<5,>=3.1.4 in /usr/local/lib/python3.10/dist-packages (from google-auth<3.0.0dev,>=2.14.1->google-cloud-aiplatform==1.47.0) (4.9)\n",
            "Requirement already satisfied: google-cloud-core<3.0.0dev,>=1.6.0 in /usr/local/lib/python3.10/dist-packages (from google-cloud-bigquery!=3.20.0,<4.0.0dev,>=1.15.0->google-cloud-aiplatform==1.47.0) (2.3.3)\n",
            "Requirement already satisfied: google-resumable-media<3.0dev,>=0.6.0 in /usr/local/lib/python3.10/dist-packages (from google-cloud-bigquery!=3.20.0,<4.0.0dev,>=1.15.0->google-cloud-aiplatform==1.47.0) (2.7.0)\n",
            "Requirement already satisfied: python-dateutil<3.0dev,>=2.7.2 in /usr/local/lib/python3.10/dist-packages (from google-cloud-bigquery!=3.20.0,<4.0.0dev,>=1.15.0->google-cloud-aiplatform==1.47.0) (2.8.2)\n",
            "Requirement already satisfied: grpc-google-iam-v1<1.0.0dev,>=0.12.4 in /usr/local/lib/python3.10/dist-packages (from google-cloud-resource-manager<3.0.0dev,>=1.3.3->google-cloud-aiplatform==1.47.0) (0.13.0)\n",
            "INFO: pip is looking at multiple versions of google-cloud-storage to determine which version is compatible with other requirements. This could take a while.\n",
            "Collecting google-cloud-storage<3.0.0dev,>=1.32.0 (from google-cloud-aiplatform==1.47.0)\n",
            "  Downloading google_cloud_storage-2.15.0-py2.py3-none-any.whl (123 kB)\n",
            "\u001b[2K     \u001b[90m━━━━━━━━━━━━━━━━━━━━━━━━━━━━━━━━━━━━━━━━\u001b[0m \u001b[32m123.5/123.5 kB\u001b[0m \u001b[31m5.6 MB/s\u001b[0m eta \u001b[36m0:00:00\u001b[0m\n",
            "\u001b[?25h  Downloading google_cloud_storage-2.14.0-py2.py3-none-any.whl (121 kB)\n",
            "\u001b[2K     \u001b[90m━━━━━━━━━━━━━━━━━━━━━━━━━━━━━━━━━━━━━━━━\u001b[0m \u001b[32m121.6/121.6 kB\u001b[0m \u001b[31m7.5 MB/s\u001b[0m eta \u001b[36m0:00:00\u001b[0m\n",
            "\u001b[?25hRequirement already satisfied: google-crc32c<2.0dev,>=1.0 in /usr/local/lib/python3.10/dist-packages (from google-cloud-storage<3.0.0dev,>=1.32.0->google-cloud-aiplatform==1.47.0) (1.5.0)\n",
            "Collecting jsonpointer>=1.9 (from jsonpatch<2.0,>=1.33->langchain==0.1.14)\n",
            "  Downloading jsonpointer-2.4-py2.py3-none-any.whl (7.8 kB)\n",
            "Collecting packaging>=14.3 (from google-cloud-aiplatform==1.47.0)\n",
            "  Downloading packaging-23.2-py3-none-any.whl (53 kB)\n",
            "\u001b[2K     \u001b[90m━━━━━━━━━━━━━━━━━━━━━━━━━━━━━━━━━━━━━━━━\u001b[0m \u001b[32m53.0/53.0 kB\u001b[0m \u001b[31m2.8 MB/s\u001b[0m eta \u001b[36m0:00:00\u001b[0m\n",
            "\u001b[?25hCollecting orjson<4.0.0,>=3.9.14 (from langsmith<0.2.0,>=0.1.17->langchain==0.1.14)\n",
            "  Downloading orjson-3.10.1-cp310-cp310-manylinux_2_17_x86_64.manylinux2014_x86_64.whl (141 kB)\n",
            "\u001b[2K     \u001b[90m━━━━━━━━━━━━━━━━━━━━━━━━━━━━━━━━━━━━━━━━\u001b[0m \u001b[32m141.1/141.1 kB\u001b[0m \u001b[31m2.4 MB/s\u001b[0m eta \u001b[36m0:00:00\u001b[0m\n",
            "\u001b[?25hRequirement already satisfied: annotated-types>=0.4.0 in /usr/local/lib/python3.10/dist-packages (from pydantic<3->google-cloud-aiplatform==1.47.0) (0.6.0)\n",
            "Requirement already satisfied: pydantic-core==2.18.1 in /usr/local/lib/python3.10/dist-packages (from pydantic<3->google-cloud-aiplatform==1.47.0) (2.18.1)\n",
            "Requirement already satisfied: charset-normalizer<4,>=2 in /usr/local/lib/python3.10/dist-packages (from requests<3,>=2->langchain==0.1.14) (3.3.2)\n",
            "Requirement already satisfied: idna<4,>=2.5 in /usr/local/lib/python3.10/dist-packages (from requests<3,>=2->langchain==0.1.14) (3.7)\n",
            "Requirement already satisfied: urllib3<3,>=1.21.1 in /usr/local/lib/python3.10/dist-packages (from requests<3,>=2->langchain==0.1.14) (2.0.7)\n",
            "Requirement already satisfied: certifi>=2017.4.17 in /usr/local/lib/python3.10/dist-packages (from requests<3,>=2->langchain==0.1.14) (2024.2.2)\n",
            "Requirement already satisfied: greenlet!=0.4.17 in /usr/local/lib/python3.10/dist-packages (from SQLAlchemy<3,>=1.4->langchain==0.1.14) (3.0.3)\n",
            "Requirement already satisfied: pyasn1<0.7.0,>=0.4.6 in /usr/local/lib/python3.10/dist-packages (from pyasn1-modules>=0.2.1->google-auth<3.0.0dev,>=2.14.1->google-cloud-aiplatform==1.47.0) (0.6.0)\n",
            "Requirement already satisfied: six>=1.5 in /usr/local/lib/python3.10/dist-packages (from python-dateutil<3.0dev,>=2.7.2->google-cloud-bigquery!=3.20.0,<4.0.0dev,>=1.15.0->google-cloud-aiplatform==1.47.0) (1.16.0)\n",
            "Collecting mypy-extensions>=0.3.0 (from typing-inspect<1,>=0.4.0->dataclasses-json<0.7,>=0.5.7->langchain==0.1.14)\n",
            "  Downloading mypy_extensions-1.0.0-py3-none-any.whl (4.7 kB)\n",
            "Installing collected packages: typing_extensions, types-requests, types-protobuf, packaging, orjson, mypy-extensions, jsonpointer, typing-inspect, marshmallow, jsonpatch, dataclasses-json, langsmith, langchain-core, google-cloud-storage, langchain-text-splitters, langchain-community, google-cloud-aiplatform, langchain-google-vertexai, langchain\n",
            "\u001b[33m  WARNING: The script langsmith is installed in '/root/.local/bin' which is not on PATH.\n",
            "  Consider adding this directory to PATH or, if you prefer to suppress this warning, use --no-warn-script-location.\u001b[0m\u001b[33m\n",
            "\u001b[0m\u001b[33m  WARNING: The script tb-gcp-uploader is installed in '/root/.local/bin' which is not on PATH.\n",
            "  Consider adding this directory to PATH or, if you prefer to suppress this warning, use --no-warn-script-location.\u001b[0m\u001b[33m\n",
            "\u001b[0m\u001b[33m  WARNING: The script langchain-server is installed in '/root/.local/bin' which is not on PATH.\n",
            "  Consider adding this directory to PATH or, if you prefer to suppress this warning, use --no-warn-script-location.\u001b[0m\u001b[33m\n",
            "\u001b[0m\u001b[31mERROR: pip's dependency resolver does not currently take into account all the packages that are installed. This behaviour is the source of the following dependency conflicts.\n",
            "torch 2.2.1+cu121 requires nvidia-cublas-cu12==12.1.3.1; platform_system == \"Linux\" and platform_machine == \"x86_64\", which is not installed.\n",
            "torch 2.2.1+cu121 requires nvidia-cuda-cupti-cu12==12.1.105; platform_system == \"Linux\" and platform_machine == \"x86_64\", which is not installed.\n",
            "torch 2.2.1+cu121 requires nvidia-cuda-nvrtc-cu12==12.1.105; platform_system == \"Linux\" and platform_machine == \"x86_64\", which is not installed.\n",
            "torch 2.2.1+cu121 requires nvidia-cuda-runtime-cu12==12.1.105; platform_system == \"Linux\" and platform_machine == \"x86_64\", which is not installed.\n",
            "torch 2.2.1+cu121 requires nvidia-cudnn-cu12==8.9.2.26; platform_system == \"Linux\" and platform_machine == \"x86_64\", which is not installed.\n",
            "torch 2.2.1+cu121 requires nvidia-cufft-cu12==11.0.2.54; platform_system == \"Linux\" and platform_machine == \"x86_64\", which is not installed.\n",
            "torch 2.2.1+cu121 requires nvidia-curand-cu12==10.3.2.106; platform_system == \"Linux\" and platform_machine == \"x86_64\", which is not installed.\n",
            "torch 2.2.1+cu121 requires nvidia-cusolver-cu12==11.4.5.107; platform_system == \"Linux\" and platform_machine == \"x86_64\", which is not installed.\n",
            "torch 2.2.1+cu121 requires nvidia-cusparse-cu12==12.1.0.106; platform_system == \"Linux\" and platform_machine == \"x86_64\", which is not installed.\n",
            "torch 2.2.1+cu121 requires nvidia-nccl-cu12==2.19.3; platform_system == \"Linux\" and platform_machine == \"x86_64\", which is not installed.\n",
            "torch 2.2.1+cu121 requires nvidia-nvtx-cu12==12.1.105; platform_system == \"Linux\" and platform_machine == \"x86_64\", which is not installed.\u001b[0m\u001b[31m\n",
            "\u001b[0mSuccessfully installed dataclasses-json-0.6.4 google-cloud-aiplatform-1.47.0 google-cloud-storage-2.14.0 jsonpatch-1.33 jsonpointer-2.4 langchain-0.1.14 langchain-community-0.0.34 langchain-core-0.1.45 langchain-google-vertexai-0.1.3 langchain-text-splitters-0.0.1 langsmith-0.1.50 marshmallow-3.21.1 mypy-extensions-1.0.0 orjson-3.10.1 packaging-23.2 types-protobuf-4.25.0.20240417 types-requests-2.31.0.20240406 typing-inspect-0.9.0 typing_extensions-4.9.0\n"
          ]
        },
        {
          "data": {
            "application/vnd.colab-display-data+json": {
              "id": "3f5967b91aa0475eae60b7abbd9d7057",
              "pip_warning": {
                "packages": [
                  "google"
                ]
              }
            }
          },
          "metadata": {},
          "output_type": "display_data"
        },
        {
          "output_type": "stream",
          "name": "stdout",
          "text": [
            "The following additional packages will be installed:\n",
            "  libarchive-dev libleptonica-dev tesseract-ocr-eng tesseract-ocr-osd\n",
            "The following NEW packages will be installed:\n",
            "  libarchive-dev libleptonica-dev libtesseract-dev tesseract-ocr\n",
            "  tesseract-ocr-eng tesseract-ocr-osd\n",
            "0 upgraded, 6 newly installed, 0 to remove and 45 not upgraded.\n",
            "Need to get 8,560 kB of archives.\n",
            "After this operation, 31.6 MB of additional disk space will be used.\n",
            "debconf: unable to initialize frontend: Dialog\n",
            "debconf: (No usable dialog-like program is installed, so the dialog based frontend cannot be used. at /usr/share/perl5/Debconf/FrontEnd/Dialog.pm line 78, <> line 6.)\n",
            "debconf: falling back to frontend: Readline\n",
            "debconf: unable to initialize frontend: Readline\n",
            "debconf: (This frontend requires a controlling tty.)\n",
            "debconf: falling back to frontend: Teletype\n",
            "dpkg-preconfigure: unable to re-open stdin: \n",
            "Selecting previously unselected package libarchive-dev:amd64.\n",
            "(Reading database ... 121752 files and directories currently installed.)\n",
            "Preparing to unpack .../0-libarchive-dev_3.6.0-1ubuntu1_amd64.deb ...\n",
            "Unpacking libarchive-dev:amd64 (3.6.0-1ubuntu1) ...\n",
            "Selecting previously unselected package libleptonica-dev.\n",
            "Preparing to unpack .../1-libleptonica-dev_1.82.0-3build1_amd64.deb ...\n",
            "Unpacking libleptonica-dev (1.82.0-3build1) ...\n",
            "Selecting previously unselected package libtesseract-dev:amd64.\n",
            "Preparing to unpack .../2-libtesseract-dev_4.1.1-2.1build1_amd64.deb ...\n",
            "Unpacking libtesseract-dev:amd64 (4.1.1-2.1build1) ...\n",
            "Selecting previously unselected package tesseract-ocr-eng.\n",
            "Preparing to unpack .../3-tesseract-ocr-eng_1%3a4.00~git30-7274cfa-1.1_all.deb ...\n",
            "Unpacking tesseract-ocr-eng (1:4.00~git30-7274cfa-1.1) ...\n",
            "Selecting previously unselected package tesseract-ocr-osd.\n",
            "Preparing to unpack .../4-tesseract-ocr-osd_1%3a4.00~git30-7274cfa-1.1_all.deb ...\n",
            "Unpacking tesseract-ocr-osd (1:4.00~git30-7274cfa-1.1) ...\n",
            "Selecting previously unselected package tesseract-ocr.\n",
            "Preparing to unpack .../5-tesseract-ocr_4.1.1-2.1build1_amd64.deb ...\n",
            "Unpacking tesseract-ocr (4.1.1-2.1build1) ...\n",
            "Setting up tesseract-ocr-eng (1:4.00~git30-7274cfa-1.1) ...\n",
            "Setting up libleptonica-dev (1.82.0-3build1) ...\n",
            "Setting up libarchive-dev:amd64 (3.6.0-1ubuntu1) ...\n",
            "Setting up tesseract-ocr-osd (1:4.00~git30-7274cfa-1.1) ...\n",
            "Setting up libtesseract-dev:amd64 (4.1.1-2.1build1) ...\n",
            "Setting up tesseract-ocr (4.1.1-2.1build1) ...\n",
            "Processing triggers for man-db (2.10.2-1) ...\n",
            "debconf: unable to initialize frontend: Dialog\n",
            "debconf: (No usable dialog-like program is installed, so the dialog based frontend cannot be used. at /usr/share/perl5/Debconf/FrontEnd/Dialog.pm line 78, <> line 1.)\n",
            "debconf: falling back to frontend: Readline\n",
            "debconf: unable to initialize frontend: Readline\n",
            "debconf: (This frontend requires a controlling tty.)\n",
            "debconf: falling back to frontend: Teletype\n",
            "dpkg-preconfigure: unable to re-open stdin: \n",
            "Selecting previously unselected package poppler-utils.\n",
            "(Reading database ... 121932 files and directories currently installed.)\n",
            "Preparing to unpack .../poppler-utils_22.02.0-2ubuntu0.3_amd64.deb ...\n",
            "Unpacking poppler-utils (22.02.0-2ubuntu0.3) ...\n",
            "Setting up poppler-utils (22.02.0-2ubuntu0.3) ...\n",
            "Processing triggers for man-db (2.10.2-1) ...\n",
            "Collecting unstructured==0.12.4\n",
            "  Downloading unstructured-0.12.4-py3-none-any.whl (1.8 MB)\n",
            "\u001b[2K     \u001b[90m━━━━━━━━━━━━━━━━━━━━━━━━━━━━━━━━━━━━━━━━\u001b[0m \u001b[32m1.8/1.8 MB\u001b[0m \u001b[31m9.7 MB/s\u001b[0m eta \u001b[36m0:00:00\u001b[0m\n",
            "\u001b[?25hCollecting pdf2image==1.17.0\n",
            "  Downloading pdf2image-1.17.0-py3-none-any.whl (11 kB)\n",
            "Collecting pytesseract==0.3.10\n",
            "  Downloading pytesseract-0.3.10-py3-none-any.whl (14 kB)\n",
            "Collecting pdfminer.six==20221105\n",
            "  Downloading pdfminer.six-20221105-py3-none-any.whl (5.6 MB)\n",
            "\u001b[2K     \u001b[90m━━━━━━━━━━━━━━━━━━━━━━━━━━━━━━━━━━━━━━━━\u001b[0m \u001b[32m5.6/5.6 MB\u001b[0m \u001b[31m22.7 MB/s\u001b[0m eta \u001b[36m0:00:00\u001b[0m\n",
            "\u001b[?25hRequirement already satisfied: chardet in /usr/local/lib/python3.10/dist-packages (from unstructured==0.12.4) (5.2.0)\n",
            "Collecting filetype (from unstructured==0.12.4)\n",
            "  Downloading filetype-1.2.0-py2.py3-none-any.whl (19 kB)\n",
            "Collecting python-magic (from unstructured==0.12.4)\n",
            "  Downloading python_magic-0.4.27-py2.py3-none-any.whl (13 kB)\n",
            "Requirement already satisfied: lxml in /usr/local/lib/python3.10/dist-packages (from unstructured==0.12.4) (4.9.4)\n",
            "Requirement already satisfied: nltk in /usr/local/lib/python3.10/dist-packages (from unstructured==0.12.4) (3.8.1)\n",
            "Requirement already satisfied: tabulate in /usr/local/lib/python3.10/dist-packages (from unstructured==0.12.4) (0.9.0)\n",
            "Requirement already satisfied: requests in /usr/local/lib/python3.10/dist-packages (from unstructured==0.12.4) (2.31.0)\n",
            "Requirement already satisfied: beautifulsoup4 in /usr/local/lib/python3.10/dist-packages (from unstructured==0.12.4) (4.12.3)\n",
            "Collecting emoji (from unstructured==0.12.4)\n",
            "  Downloading emoji-2.11.1-py2.py3-none-any.whl (433 kB)\n",
            "\u001b[2K     \u001b[90m━━━━━━━━━━━━━━━━━━━━━━━━━━━━━━━━━━━━━━━━\u001b[0m \u001b[32m433.8/433.8 kB\u001b[0m \u001b[31m22.1 MB/s\u001b[0m eta \u001b[36m0:00:00\u001b[0m\n",
            "\u001b[?25hRequirement already satisfied: dataclasses-json in /root/.local/lib/python3.10/site-packages (from unstructured==0.12.4) (0.6.4)\n",
            "Collecting python-iso639 (from unstructured==0.12.4)\n",
            "  Downloading python_iso639-2024.2.7-py3-none-any.whl (274 kB)\n",
            "\u001b[2K     \u001b[90m━━━━━━━━━━━━━━━━━━━━━━━━━━━━━━━━━━━━━━━━\u001b[0m \u001b[32m274.7/274.7 kB\u001b[0m \u001b[31m25.2 MB/s\u001b[0m eta \u001b[36m0:00:00\u001b[0m\n",
            "\u001b[?25hCollecting langdetect (from unstructured==0.12.4)\n",
            "  Downloading langdetect-1.0.9.tar.gz (981 kB)\n",
            "\u001b[2K     \u001b[90m━━━━━━━━━━━━━━━━━━━━━━━━━━━━━━━━━━━━━━━━\u001b[0m \u001b[32m981.5/981.5 kB\u001b[0m \u001b[31m29.8 MB/s\u001b[0m eta \u001b[36m0:00:00\u001b[0m\n",
            "\u001b[?25h  Preparing metadata (setup.py) ... \u001b[?25l\u001b[?25hdone\n",
            "Requirement already satisfied: numpy in /usr/local/lib/python3.10/dist-packages (from unstructured==0.12.4) (1.25.2)\n",
            "Collecting rapidfuzz (from unstructured==0.12.4)\n",
            "  Downloading rapidfuzz-3.8.1-cp310-cp310-manylinux_2_17_x86_64.manylinux2014_x86_64.whl (3.4 MB)\n",
            "\u001b[2K     \u001b[90m━━━━━━━━━━━━━━━━━━━━━━━━━━━━━━━━━━━━━━━━\u001b[0m \u001b[32m3.4/3.4 MB\u001b[0m \u001b[31m37.4 MB/s\u001b[0m eta \u001b[36m0:00:00\u001b[0m\n",
            "\u001b[?25hCollecting backoff (from unstructured==0.12.4)\n",
            "  Downloading backoff-2.2.1-py3-none-any.whl (15 kB)\n",
            "Requirement already satisfied: typing-extensions in /root/.local/lib/python3.10/site-packages (from unstructured==0.12.4) (4.9.0)\n",
            "Collecting unstructured-client>=0.15.1 (from unstructured==0.12.4)\n",
            "  Downloading unstructured_client-0.22.0-py3-none-any.whl (28 kB)\n",
            "Requirement already satisfied: wrapt in /usr/local/lib/python3.10/dist-packages (from unstructured==0.12.4) (1.14.1)\n",
            "Requirement already satisfied: pillow in /usr/local/lib/python3.10/dist-packages (from pdf2image==1.17.0) (9.4.0)\n",
            "Requirement already satisfied: packaging>=21.3 in /root/.local/lib/python3.10/site-packages (from pytesseract==0.3.10) (23.2)\n",
            "Requirement already satisfied: charset-normalizer>=2.0.0 in /usr/local/lib/python3.10/dist-packages (from pdfminer.six==20221105) (3.3.2)\n",
            "Requirement already satisfied: cryptography>=36.0.0 in /usr/local/lib/python3.10/dist-packages (from pdfminer.six==20221105) (42.0.5)\n",
            "Requirement already satisfied: cffi>=1.12 in /usr/local/lib/python3.10/dist-packages (from cryptography>=36.0.0->pdfminer.six==20221105) (1.16.0)\n",
            "Requirement already satisfied: certifi>=2023.7.22 in /usr/local/lib/python3.10/dist-packages (from unstructured-client>=0.15.1->unstructured==0.12.4) (2024.2.2)\n",
            "Collecting deepdiff>=6.0 (from unstructured-client>=0.15.1->unstructured==0.12.4)\n",
            "  Downloading deepdiff-7.0.1-py3-none-any.whl (80 kB)\n",
            "\u001b[2K     \u001b[90m━━━━━━━━━━━━━━━━━━━━━━━━━━━━━━━━━━━━━━━━\u001b[0m \u001b[32m80.8/80.8 kB\u001b[0m \u001b[31m9.4 MB/s\u001b[0m eta \u001b[36m0:00:00\u001b[0m\n",
            "\u001b[?25hRequirement already satisfied: idna>=3.4 in /usr/local/lib/python3.10/dist-packages (from unstructured-client>=0.15.1->unstructured==0.12.4) (3.7)\n",
            "Collecting jsonpath-python>=1.0.6 (from unstructured-client>=0.15.1->unstructured==0.12.4)\n",
            "  Downloading jsonpath_python-1.0.6-py3-none-any.whl (7.6 kB)\n",
            "Requirement already satisfied: marshmallow>=3.19.0 in /root/.local/lib/python3.10/site-packages (from unstructured-client>=0.15.1->unstructured==0.12.4) (3.21.1)\n",
            "Requirement already satisfied: mypy-extensions>=1.0.0 in /root/.local/lib/python3.10/site-packages (from unstructured-client>=0.15.1->unstructured==0.12.4) (1.0.0)\n",
            "Collecting pypdf>=4.0 (from unstructured-client>=0.15.1->unstructured==0.12.4)\n",
            "  Downloading pypdf-4.2.0-py3-none-any.whl (290 kB)\n",
            "\u001b[2K     \u001b[90m━━━━━━━━━━━━━━━━━━━━━━━━━━━━━━━━━━━━━━━━\u001b[0m \u001b[32m290.4/290.4 kB\u001b[0m \u001b[31m19.5 MB/s\u001b[0m eta \u001b[36m0:00:00\u001b[0m\n",
            "\u001b[?25hRequirement already satisfied: python-dateutil>=2.8.2 in /usr/local/lib/python3.10/dist-packages (from unstructured-client>=0.15.1->unstructured==0.12.4) (2.8.2)\n",
            "Requirement already satisfied: six>=1.16.0 in /usr/local/lib/python3.10/dist-packages (from unstructured-client>=0.15.1->unstructured==0.12.4) (1.16.0)\n",
            "Requirement already satisfied: typing-inspect>=0.9.0 in /root/.local/lib/python3.10/site-packages (from unstructured-client>=0.15.1->unstructured==0.12.4) (0.9.0)\n",
            "Requirement already satisfied: urllib3>=1.26.18 in /usr/local/lib/python3.10/dist-packages (from unstructured-client>=0.15.1->unstructured==0.12.4) (2.0.7)\n",
            "Requirement already satisfied: soupsieve>1.2 in /usr/local/lib/python3.10/dist-packages (from beautifulsoup4->unstructured==0.12.4) (2.5)\n",
            "Requirement already satisfied: click in /usr/local/lib/python3.10/dist-packages (from nltk->unstructured==0.12.4) (8.1.7)\n",
            "Requirement already satisfied: joblib in /usr/local/lib/python3.10/dist-packages (from nltk->unstructured==0.12.4) (1.4.0)\n",
            "Requirement already satisfied: regex>=2021.8.3 in /usr/local/lib/python3.10/dist-packages (from nltk->unstructured==0.12.4) (2023.12.25)\n",
            "Requirement already satisfied: tqdm in /usr/local/lib/python3.10/dist-packages (from nltk->unstructured==0.12.4) (4.66.2)\n",
            "Requirement already satisfied: pycparser in /usr/local/lib/python3.10/dist-packages (from cffi>=1.12->cryptography>=36.0.0->pdfminer.six==20221105) (2.22)\n",
            "Collecting ordered-set<4.2.0,>=4.1.0 (from deepdiff>=6.0->unstructured-client>=0.15.1->unstructured==0.12.4)\n",
            "  Downloading ordered_set-4.1.0-py3-none-any.whl (7.6 kB)\n",
            "Building wheels for collected packages: langdetect\n",
            "  Building wheel for langdetect (setup.py) ... \u001b[?25l\u001b[?25hdone\n",
            "  Created wheel for langdetect: filename=langdetect-1.0.9-py3-none-any.whl size=993227 sha256=86a012e696c6bdb568ab08d71050275b97691604ba9104cc4a75a2a313b28720\n",
            "  Stored in directory: /root/.cache/pip/wheels/95/03/7d/59ea870c70ce4e5a370638b5462a7711ab78fba2f655d05106\n",
            "Successfully built langdetect\n",
            "Installing collected packages: filetype, rapidfuzz, python-magic, python-iso639, pytesseract, pypdf, pdf2image, ordered-set, langdetect, jsonpath-python, emoji, backoff, deepdiff, unstructured-client, pdfminer.six, unstructured\n",
            "\u001b[33m  WARNING: The script filetype is installed in '/root/.local/bin' which is not on PATH.\n",
            "  Consider adding this directory to PATH or, if you prefer to suppress this warning, use --no-warn-script-location.\u001b[0m\u001b[33m\n",
            "\u001b[0m\u001b[33m  WARNING: The script pytesseract is installed in '/root/.local/bin' which is not on PATH.\n",
            "  Consider adding this directory to PATH or, if you prefer to suppress this warning, use --no-warn-script-location.\u001b[0m\u001b[33m\n",
            "\u001b[0m\u001b[33m  WARNING: The script deep is installed in '/root/.local/bin' which is not on PATH.\n",
            "  Consider adding this directory to PATH or, if you prefer to suppress this warning, use --no-warn-script-location.\u001b[0m\u001b[33m\n",
            "\u001b[0m\u001b[33m  WARNING: The script unstructured-ingest is installed in '/root/.local/bin' which is not on PATH.\n",
            "  Consider adding this directory to PATH or, if you prefer to suppress this warning, use --no-warn-script-location.\u001b[0m\u001b[33m\n",
            "\u001b[0mSuccessfully installed backoff-2.2.1 deepdiff-7.0.1 emoji-2.11.1 filetype-1.2.0 jsonpath-python-1.0.6 langdetect-1.0.9 ordered-set-4.1.0 pdf2image-1.17.0 pdfminer.six-20221105 pypdf-4.2.0 pytesseract-0.3.10 python-iso639-2024.2.7 python-magic-0.4.27 rapidfuzz-3.8.1 unstructured-0.12.4 unstructured-client-0.22.0\n",
            "Collecting pillow-heif==0.15.0\n",
            "  Downloading pillow_heif-0.15.0-cp310-cp310-manylinux_2_17_x86_64.manylinux2014_x86_64.whl (7.5 MB)\n",
            "\u001b[2K     \u001b[90m━━━━━━━━━━━━━━━━━━━━━━━━━━━━━━━━━━━━━━━━\u001b[0m \u001b[32m7.5/7.5 MB\u001b[0m \u001b[31m15.7 MB/s\u001b[0m eta \u001b[36m0:00:00\u001b[0m\n",
            "\u001b[?25hCollecting opencv-python==4.9.0.80\n",
            "  Downloading opencv_python-4.9.0.80-cp37-abi3-manylinux_2_17_x86_64.manylinux2014_x86_64.whl (62.2 MB)\n",
            "\u001b[2K     \u001b[90m━━━━━━━━━━━━━━━━━━━━━━━━━━━━━━━━━━━━━━━━\u001b[0m \u001b[32m62.2/62.2 MB\u001b[0m \u001b[31m9.2 MB/s\u001b[0m eta \u001b[36m0:00:00\u001b[0m\n",
            "\u001b[?25hCollecting unstructured-inference==0.7.24\n",
            "  Downloading unstructured_inference-0.7.24-py3-none-any.whl (60 kB)\n",
            "\u001b[2K     \u001b[90m━━━━━━━━━━━━━━━━━━━━━━━━━━━━━━━━━━━━━━━━\u001b[0m \u001b[32m60.2/60.2 kB\u001b[0m \u001b[31m8.2 MB/s\u001b[0m eta \u001b[36m0:00:00\u001b[0m\n",
            "\u001b[?25hCollecting pikepdf==8.13.0\n",
            "  Downloading pikepdf-8.13.0-cp310-cp310-manylinux_2_17_x86_64.manylinux2014_x86_64.whl (2.4 MB)\n",
            "\u001b[2K     \u001b[90m━━━━━━━━━━━━━━━━━━━━━━━━━━━━━━━━━━━━━━━━\u001b[0m \u001b[32m2.4/2.4 MB\u001b[0m \u001b[31m85.4 MB/s\u001b[0m eta \u001b[36m0:00:00\u001b[0m\n",
            "\u001b[?25hCollecting pypdf==4.0.1\n",
            "  Downloading pypdf-4.0.1-py3-none-any.whl (283 kB)\n",
            "\u001b[2K     \u001b[90m━━━━━━━━━━━━━━━━━━━━━━━━━━━━━━━━━━━━━━━━\u001b[0m \u001b[32m284.0/284.0 kB\u001b[0m \u001b[31m30.2 MB/s\u001b[0m eta \u001b[36m0:00:00\u001b[0m\n",
            "\u001b[?25hRequirement already satisfied: pillow>=9.2.0 in /usr/local/lib/python3.10/dist-packages (from pillow-heif==0.15.0) (9.4.0)\n",
            "Requirement already satisfied: numpy>=1.21.2 in /usr/local/lib/python3.10/dist-packages (from opencv-python==4.9.0.80) (1.25.2)\n",
            "Collecting layoutparser[layoutmodels,tesseract] (from unstructured-inference==0.7.24)\n",
            "  Downloading layoutparser-0.3.4-py3-none-any.whl (19.2 MB)\n",
            "\u001b[2K     \u001b[90m━━━━━━━━━━━━━━━━━━━━━━━━━━━━━━━━━━━━━━━━\u001b[0m \u001b[32m19.2/19.2 MB\u001b[0m \u001b[31m65.9 MB/s\u001b[0m eta \u001b[36m0:00:00\u001b[0m\n",
            "\u001b[?25hCollecting python-multipart (from unstructured-inference==0.7.24)\n",
            "  Downloading python_multipart-0.0.9-py3-none-any.whl (22 kB)\n",
            "Requirement already satisfied: huggingface-hub in /usr/local/lib/python3.10/dist-packages (from unstructured-inference==0.7.24) (0.20.3)\n",
            "Collecting onnx (from unstructured-inference==0.7.24)\n",
            "  Downloading onnx-1.16.0-cp310-cp310-manylinux_2_17_x86_64.manylinux2014_x86_64.whl (15.9 MB)\n",
            "\u001b[2K     \u001b[90m━━━━━━━━━━━━━━━━━━━━━━━━━━━━━━━━━━━━━━━━\u001b[0m \u001b[32m15.9/15.9 MB\u001b[0m \u001b[31m69.0 MB/s\u001b[0m eta \u001b[36m0:00:00\u001b[0m\n",
            "\u001b[?25hCollecting onnxruntime<1.16 (from unstructured-inference==0.7.24)\n",
            "  Downloading onnxruntime-1.15.1-cp310-cp310-manylinux_2_17_x86_64.manylinux2014_x86_64.whl (5.9 MB)\n",
            "\u001b[2K     \u001b[90m━━━━━━━━━━━━━━━━━━━━━━━━━━━━━━━━━━━━━━━━\u001b[0m \u001b[32m5.9/5.9 MB\u001b[0m \u001b[31m82.6 MB/s\u001b[0m eta \u001b[36m0:00:00\u001b[0m\n",
            "\u001b[?25hRequirement already satisfied: transformers>=4.25.1 in /usr/local/lib/python3.10/dist-packages (from unstructured-inference==0.7.24) (4.40.0)\n",
            "Requirement already satisfied: rapidfuzz in /root/.local/lib/python3.10/site-packages (from unstructured-inference==0.7.24) (3.8.1)\n",
            "Collecting pillow>=9.2.0 (from pillow-heif==0.15.0)\n",
            "  Downloading pillow-10.3.0-cp310-cp310-manylinux_2_28_x86_64.whl (4.5 MB)\n",
            "\u001b[2K     \u001b[90m━━━━━━━━━━━━━━━━━━━━━━━━━━━━━━━━━━━━━━━━\u001b[0m \u001b[32m4.5/4.5 MB\u001b[0m \u001b[31m94.2 MB/s\u001b[0m eta \u001b[36m0:00:00\u001b[0m\n",
            "\u001b[?25hCollecting Deprecated (from pikepdf==8.13.0)\n",
            "  Downloading Deprecated-1.2.14-py2.py3-none-any.whl (9.6 kB)\n",
            "Requirement already satisfied: packaging in /root/.local/lib/python3.10/site-packages (from pikepdf==8.13.0) (23.2)\n",
            "Requirement already satisfied: lxml>=4.8 in /usr/local/lib/python3.10/dist-packages (from pikepdf==8.13.0) (4.9.4)\n",
            "Collecting coloredlogs (from onnxruntime<1.16->unstructured-inference==0.7.24)\n",
            "  Downloading coloredlogs-15.0.1-py2.py3-none-any.whl (46 kB)\n",
            "\u001b[2K     \u001b[90m━━━━━━━━━━━━━━━━━━━━━━━━━━━━━━━━━━━━━━━━\u001b[0m \u001b[32m46.0/46.0 kB\u001b[0m \u001b[31m5.7 MB/s\u001b[0m eta \u001b[36m0:00:00\u001b[0m\n",
            "\u001b[?25hRequirement already satisfied: flatbuffers in /usr/local/lib/python3.10/dist-packages (from onnxruntime<1.16->unstructured-inference==0.7.24) (24.3.25)\n",
            "Requirement already satisfied: protobuf in /usr/local/lib/python3.10/dist-packages (from onnxruntime<1.16->unstructured-inference==0.7.24) (3.20.3)\n",
            "Requirement already satisfied: sympy in /usr/local/lib/python3.10/dist-packages (from onnxruntime<1.16->unstructured-inference==0.7.24) (1.12)\n",
            "Requirement already satisfied: filelock in /usr/local/lib/python3.10/dist-packages (from transformers>=4.25.1->unstructured-inference==0.7.24) (3.13.4)\n",
            "Requirement already satisfied: pyyaml>=5.1 in /usr/local/lib/python3.10/dist-packages (from transformers>=4.25.1->unstructured-inference==0.7.24) (6.0.1)\n",
            "Requirement already satisfied: regex!=2019.12.17 in /usr/local/lib/python3.10/dist-packages (from transformers>=4.25.1->unstructured-inference==0.7.24) (2023.12.25)\n",
            "Requirement already satisfied: requests in /usr/local/lib/python3.10/dist-packages (from transformers>=4.25.1->unstructured-inference==0.7.24) (2.31.0)\n",
            "Requirement already satisfied: tokenizers<0.20,>=0.19 in /usr/local/lib/python3.10/dist-packages (from transformers>=4.25.1->unstructured-inference==0.7.24) (0.19.1)\n",
            "Requirement already satisfied: safetensors>=0.4.1 in /usr/local/lib/python3.10/dist-packages (from transformers>=4.25.1->unstructured-inference==0.7.24) (0.4.3)\n",
            "Requirement already satisfied: tqdm>=4.27 in /usr/local/lib/python3.10/dist-packages (from transformers>=4.25.1->unstructured-inference==0.7.24) (4.66.2)\n",
            "Requirement already satisfied: fsspec>=2023.5.0 in /usr/local/lib/python3.10/dist-packages (from huggingface-hub->unstructured-inference==0.7.24) (2023.6.0)\n",
            "Requirement already satisfied: typing-extensions>=3.7.4.3 in /root/.local/lib/python3.10/site-packages (from huggingface-hub->unstructured-inference==0.7.24) (4.9.0)\n",
            "Requirement already satisfied: wrapt<2,>=1.10 in /usr/local/lib/python3.10/dist-packages (from Deprecated->pikepdf==8.13.0) (1.14.1)\n",
            "Requirement already satisfied: scipy in /usr/local/lib/python3.10/dist-packages (from layoutparser[layoutmodels,tesseract]->unstructured-inference==0.7.24) (1.11.4)\n",
            "Requirement already satisfied: pandas in /usr/local/lib/python3.10/dist-packages (from layoutparser[layoutmodels,tesseract]->unstructured-inference==0.7.24) (2.0.3)\n",
            "Collecting iopath (from layoutparser[layoutmodels,tesseract]->unstructured-inference==0.7.24)\n",
            "  Downloading iopath-0.1.10.tar.gz (42 kB)\n",
            "\u001b[2K     \u001b[90m━━━━━━━━━━━━━━━━━━━━━━━━━━━━━━━━━━━━━━━━\u001b[0m \u001b[32m42.2/42.2 kB\u001b[0m \u001b[31m5.2 MB/s\u001b[0m eta \u001b[36m0:00:00\u001b[0m\n",
            "\u001b[?25h  Preparing metadata (setup.py) ... \u001b[?25l\u001b[?25hdone\n",
            "Collecting pdfplumber (from layoutparser[layoutmodels,tesseract]->unstructured-inference==0.7.24)\n",
            "  Downloading pdfplumber-0.11.0-py3-none-any.whl (56 kB)\n",
            "\u001b[2K     \u001b[90m━━━━━━━━━━━━━━━━━━━━━━━━━━━━━━━━━━━━━━━━\u001b[0m \u001b[32m56.4/56.4 kB\u001b[0m \u001b[31m7.9 MB/s\u001b[0m eta \u001b[36m0:00:00\u001b[0m\n",
            "\u001b[?25hRequirement already satisfied: pdf2image in /root/.local/lib/python3.10/site-packages (from layoutparser[layoutmodels,tesseract]->unstructured-inference==0.7.24) (1.17.0)\n",
            "Requirement already satisfied: pytesseract in /root/.local/lib/python3.10/site-packages (from layoutparser[layoutmodels,tesseract]->unstructured-inference==0.7.24) (0.3.10)\n",
            "Requirement already satisfied: torch in /usr/local/lib/python3.10/dist-packages (from layoutparser[layoutmodels,tesseract]->unstructured-inference==0.7.24) (2.2.1+cu121)\n",
            "Requirement already satisfied: torchvision in /usr/local/lib/python3.10/dist-packages (from layoutparser[layoutmodels,tesseract]->unstructured-inference==0.7.24) (0.17.1+cu121)\n",
            "Collecting effdet (from layoutparser[layoutmodels,tesseract]->unstructured-inference==0.7.24)\n",
            "  Downloading effdet-0.4.1-py3-none-any.whl (112 kB)\n",
            "\u001b[2K     \u001b[90m━━━━━━━━━━━━━━━━━━━━━━━━━━━━━━━━━━━━━━━━\u001b[0m \u001b[32m112.5/112.5 kB\u001b[0m \u001b[31m12.9 MB/s\u001b[0m eta \u001b[36m0:00:00\u001b[0m\n",
            "\u001b[?25hCollecting humanfriendly>=9.1 (from coloredlogs->onnxruntime<1.16->unstructured-inference==0.7.24)\n",
            "  Downloading humanfriendly-10.0-py2.py3-none-any.whl (86 kB)\n",
            "\u001b[2K     \u001b[90m━━━━━━━━━━━━━━━━━━━━━━━━━━━━━━━━━━━━━━━━\u001b[0m \u001b[32m86.8/86.8 kB\u001b[0m \u001b[31m10.3 MB/s\u001b[0m eta \u001b[36m0:00:00\u001b[0m\n",
            "\u001b[?25hCollecting timm>=0.9.2 (from effdet->layoutparser[layoutmodels,tesseract]->unstructured-inference==0.7.24)\n",
            "  Downloading timm-0.9.16-py3-none-any.whl (2.2 MB)\n",
            "\u001b[2K     \u001b[90m━━━━━━━━━━━━━━━━━━━━━━━━━━━━━━━━━━━━━━━━\u001b[0m \u001b[32m2.2/2.2 MB\u001b[0m \u001b[31m41.7 MB/s\u001b[0m eta \u001b[36m0:00:00\u001b[0m\n",
            "\u001b[?25hRequirement already satisfied: pycocotools>=2.0.2 in /usr/local/lib/python3.10/dist-packages (from effdet->layoutparser[layoutmodels,tesseract]->unstructured-inference==0.7.24) (2.0.7)\n",
            "Collecting omegaconf>=2.0 (from effdet->layoutparser[layoutmodels,tesseract]->unstructured-inference==0.7.24)\n",
            "  Downloading omegaconf-2.3.0-py3-none-any.whl (79 kB)\n",
            "\u001b[2K     \u001b[90m━━━━━━━━━━━━━━━━━━━━━━━━━━━━━━━━━━━━━━━━\u001b[0m \u001b[32m79.5/79.5 kB\u001b[0m \u001b[31m9.7 MB/s\u001b[0m eta \u001b[36m0:00:00\u001b[0m\n",
            "\u001b[?25hRequirement already satisfied: networkx in /usr/local/lib/python3.10/dist-packages (from torch->layoutparser[layoutmodels,tesseract]->unstructured-inference==0.7.24) (3.3)\n",
            "Requirement already satisfied: jinja2 in /usr/local/lib/python3.10/dist-packages (from torch->layoutparser[layoutmodels,tesseract]->unstructured-inference==0.7.24) (3.1.3)\n",
            "Collecting nvidia-cuda-nvrtc-cu12==12.1.105 (from torch->layoutparser[layoutmodels,tesseract]->unstructured-inference==0.7.24)\n",
            "  Using cached nvidia_cuda_nvrtc_cu12-12.1.105-py3-none-manylinux1_x86_64.whl (23.7 MB)\n",
            "Collecting nvidia-cuda-runtime-cu12==12.1.105 (from torch->layoutparser[layoutmodels,tesseract]->unstructured-inference==0.7.24)\n",
            "  Using cached nvidia_cuda_runtime_cu12-12.1.105-py3-none-manylinux1_x86_64.whl (823 kB)\n",
            "Collecting nvidia-cuda-cupti-cu12==12.1.105 (from torch->layoutparser[layoutmodels,tesseract]->unstructured-inference==0.7.24)\n",
            "  Using cached nvidia_cuda_cupti_cu12-12.1.105-py3-none-manylinux1_x86_64.whl (14.1 MB)\n",
            "Collecting nvidia-cudnn-cu12==8.9.2.26 (from torch->layoutparser[layoutmodels,tesseract]->unstructured-inference==0.7.24)\n",
            "  Using cached nvidia_cudnn_cu12-8.9.2.26-py3-none-manylinux1_x86_64.whl (731.7 MB)\n",
            "Collecting nvidia-cublas-cu12==12.1.3.1 (from torch->layoutparser[layoutmodels,tesseract]->unstructured-inference==0.7.24)\n",
            "  Using cached nvidia_cublas_cu12-12.1.3.1-py3-none-manylinux1_x86_64.whl (410.6 MB)\n",
            "Collecting nvidia-cufft-cu12==11.0.2.54 (from torch->layoutparser[layoutmodels,tesseract]->unstructured-inference==0.7.24)\n",
            "  Using cached nvidia_cufft_cu12-11.0.2.54-py3-none-manylinux1_x86_64.whl (121.6 MB)\n",
            "Collecting nvidia-curand-cu12==10.3.2.106 (from torch->layoutparser[layoutmodels,tesseract]->unstructured-inference==0.7.24)\n",
            "  Using cached nvidia_curand_cu12-10.3.2.106-py3-none-manylinux1_x86_64.whl (56.5 MB)\n",
            "Collecting nvidia-cusolver-cu12==11.4.5.107 (from torch->layoutparser[layoutmodels,tesseract]->unstructured-inference==0.7.24)\n",
            "  Using cached nvidia_cusolver_cu12-11.4.5.107-py3-none-manylinux1_x86_64.whl (124.2 MB)\n",
            "Collecting nvidia-cusparse-cu12==12.1.0.106 (from torch->layoutparser[layoutmodels,tesseract]->unstructured-inference==0.7.24)\n",
            "  Using cached nvidia_cusparse_cu12-12.1.0.106-py3-none-manylinux1_x86_64.whl (196.0 MB)\n",
            "Collecting nvidia-nccl-cu12==2.19.3 (from torch->layoutparser[layoutmodels,tesseract]->unstructured-inference==0.7.24)\n",
            "  Using cached nvidia_nccl_cu12-2.19.3-py3-none-manylinux1_x86_64.whl (166.0 MB)\n",
            "Collecting nvidia-nvtx-cu12==12.1.105 (from torch->layoutparser[layoutmodels,tesseract]->unstructured-inference==0.7.24)\n",
            "  Using cached nvidia_nvtx_cu12-12.1.105-py3-none-manylinux1_x86_64.whl (99 kB)\n",
            "Requirement already satisfied: triton==2.2.0 in /usr/local/lib/python3.10/dist-packages (from torch->layoutparser[layoutmodels,tesseract]->unstructured-inference==0.7.24) (2.2.0)\n",
            "Collecting nvidia-nvjitlink-cu12 (from nvidia-cusolver-cu12==11.4.5.107->torch->layoutparser[layoutmodels,tesseract]->unstructured-inference==0.7.24)\n",
            "  Using cached nvidia_nvjitlink_cu12-12.4.127-py3-none-manylinux2014_x86_64.whl (21.1 MB)\n",
            "Collecting portalocker (from iopath->layoutparser[layoutmodels,tesseract]->unstructured-inference==0.7.24)\n",
            "  Downloading portalocker-2.8.2-py3-none-any.whl (17 kB)\n",
            "Requirement already satisfied: python-dateutil>=2.8.2 in /usr/local/lib/python3.10/dist-packages (from pandas->layoutparser[layoutmodels,tesseract]->unstructured-inference==0.7.24) (2.8.2)\n",
            "Requirement already satisfied: pytz>=2020.1 in /usr/local/lib/python3.10/dist-packages (from pandas->layoutparser[layoutmodels,tesseract]->unstructured-inference==0.7.24) (2023.4)\n",
            "Requirement already satisfied: tzdata>=2022.1 in /usr/local/lib/python3.10/dist-packages (from pandas->layoutparser[layoutmodels,tesseract]->unstructured-inference==0.7.24) (2024.1)\n",
            "Collecting pdfminer.six==20231228 (from pdfplumber->layoutparser[layoutmodels,tesseract]->unstructured-inference==0.7.24)\n",
            "  Downloading pdfminer.six-20231228-py3-none-any.whl (5.6 MB)\n",
            "\u001b[2K     \u001b[90m━━━━━━━━━━━━━━━━━━━━━━━━━━━━━━━━━━━━━━━━\u001b[0m \u001b[32m5.6/5.6 MB\u001b[0m \u001b[31m76.9 MB/s\u001b[0m eta \u001b[36m0:00:00\u001b[0m\n",
            "\u001b[?25hCollecting pypdfium2>=4.18.0 (from pdfplumber->layoutparser[layoutmodels,tesseract]->unstructured-inference==0.7.24)\n",
            "  Downloading pypdfium2-4.29.0-py3-none-manylinux_2_17_x86_64.manylinux2014_x86_64.whl (2.8 MB)\n",
            "\u001b[2K     \u001b[90m━━━━━━━━━━━━━━━━━━━━━━━━━━━━━━━━━━━━━━━━\u001b[0m \u001b[32m2.8/2.8 MB\u001b[0m \u001b[31m23.2 MB/s\u001b[0m eta \u001b[36m0:00:00\u001b[0m\n",
            "\u001b[?25hRequirement already satisfied: charset-normalizer>=2.0.0 in /usr/local/lib/python3.10/dist-packages (from pdfminer.six==20231228->pdfplumber->layoutparser[layoutmodels,tesseract]->unstructured-inference==0.7.24) (3.3.2)\n",
            "Requirement already satisfied: cryptography>=36.0.0 in /usr/local/lib/python3.10/dist-packages (from pdfminer.six==20231228->pdfplumber->layoutparser[layoutmodels,tesseract]->unstructured-inference==0.7.24) (42.0.5)\n",
            "Requirement already satisfied: idna<4,>=2.5 in /usr/local/lib/python3.10/dist-packages (from requests->transformers>=4.25.1->unstructured-inference==0.7.24) (3.7)\n",
            "Requirement already satisfied: urllib3<3,>=1.21.1 in /usr/local/lib/python3.10/dist-packages (from requests->transformers>=4.25.1->unstructured-inference==0.7.24) (2.0.7)\n",
            "Requirement already satisfied: certifi>=2017.4.17 in /usr/local/lib/python3.10/dist-packages (from requests->transformers>=4.25.1->unstructured-inference==0.7.24) (2024.2.2)\n",
            "Requirement already satisfied: mpmath>=0.19 in /usr/local/lib/python3.10/dist-packages (from sympy->onnxruntime<1.16->unstructured-inference==0.7.24) (1.3.0)\n",
            "Collecting antlr4-python3-runtime==4.9.* (from omegaconf>=2.0->effdet->layoutparser[layoutmodels,tesseract]->unstructured-inference==0.7.24)\n",
            "  Downloading antlr4-python3-runtime-4.9.3.tar.gz (117 kB)\n",
            "\u001b[2K     \u001b[90m━━━━━━━━━━━━━━━━━━━━━━━━━━━━━━━━━━━━━━━━\u001b[0m \u001b[32m117.0/117.0 kB\u001b[0m \u001b[31m14.7 MB/s\u001b[0m eta \u001b[36m0:00:00\u001b[0m\n",
            "\u001b[?25h  Preparing metadata (setup.py) ... \u001b[?25l\u001b[?25hdone\n",
            "Requirement already satisfied: matplotlib>=2.1.0 in /usr/local/lib/python3.10/dist-packages (from pycocotools>=2.0.2->effdet->layoutparser[layoutmodels,tesseract]->unstructured-inference==0.7.24) (3.7.1)\n",
            "Requirement already satisfied: six>=1.5 in /usr/local/lib/python3.10/dist-packages (from python-dateutil>=2.8.2->pandas->layoutparser[layoutmodels,tesseract]->unstructured-inference==0.7.24) (1.16.0)\n",
            "Requirement already satisfied: MarkupSafe>=2.0 in /usr/local/lib/python3.10/dist-packages (from jinja2->torch->layoutparser[layoutmodels,tesseract]->unstructured-inference==0.7.24) (2.1.5)\n",
            "Requirement already satisfied: cffi>=1.12 in /usr/local/lib/python3.10/dist-packages (from cryptography>=36.0.0->pdfminer.six==20231228->pdfplumber->layoutparser[layoutmodels,tesseract]->unstructured-inference==0.7.24) (1.16.0)\n",
            "Requirement already satisfied: contourpy>=1.0.1 in /usr/local/lib/python3.10/dist-packages (from matplotlib>=2.1.0->pycocotools>=2.0.2->effdet->layoutparser[layoutmodels,tesseract]->unstructured-inference==0.7.24) (1.2.1)\n",
            "Requirement already satisfied: cycler>=0.10 in /usr/local/lib/python3.10/dist-packages (from matplotlib>=2.1.0->pycocotools>=2.0.2->effdet->layoutparser[layoutmodels,tesseract]->unstructured-inference==0.7.24) (0.12.1)\n",
            "Requirement already satisfied: fonttools>=4.22.0 in /usr/local/lib/python3.10/dist-packages (from matplotlib>=2.1.0->pycocotools>=2.0.2->effdet->layoutparser[layoutmodels,tesseract]->unstructured-inference==0.7.24) (4.51.0)\n",
            "Requirement already satisfied: kiwisolver>=1.0.1 in /usr/local/lib/python3.10/dist-packages (from matplotlib>=2.1.0->pycocotools>=2.0.2->effdet->layoutparser[layoutmodels,tesseract]->unstructured-inference==0.7.24) (1.4.5)\n",
            "Requirement already satisfied: pyparsing>=2.3.1 in /usr/local/lib/python3.10/dist-packages (from matplotlib>=2.1.0->pycocotools>=2.0.2->effdet->layoutparser[layoutmodels,tesseract]->unstructured-inference==0.7.24) (3.1.2)\n",
            "Requirement already satisfied: pycparser in /usr/local/lib/python3.10/dist-packages (from cffi>=1.12->cryptography>=36.0.0->pdfminer.six==20231228->pdfplumber->layoutparser[layoutmodels,tesseract]->unstructured-inference==0.7.24) (2.22)\n",
            "Building wheels for collected packages: iopath, antlr4-python3-runtime\n",
            "  Building wheel for iopath (setup.py) ... \u001b[?25l\u001b[?25hdone\n",
            "  Created wheel for iopath: filename=iopath-0.1.10-py3-none-any.whl size=31532 sha256=1695f3245812db2ec0f5c5906ea14158bddcba19aabcd62f1b16996ea71f0027\n",
            "  Stored in directory: /root/.cache/pip/wheels/9a/a3/b6/ac0fcd1b4ed5cfeb3db92e6a0e476cfd48ed0df92b91080c1d\n",
            "  Building wheel for antlr4-python3-runtime (setup.py) ... \u001b[?25l\u001b[?25hdone\n",
            "  Created wheel for antlr4-python3-runtime: filename=antlr4_python3_runtime-4.9.3-py3-none-any.whl size=144554 sha256=e1b03175419edbf0be4e49ce6f7fbb6ca000a7e35ec00ee96f2b3fd425181d52\n",
            "  Stored in directory: /root/.cache/pip/wheels/12/93/dd/1f6a127edc45659556564c5730f6d4e300888f4bca2d4c5a88\n",
            "Successfully built iopath antlr4-python3-runtime\n",
            "Installing collected packages: antlr4-python3-runtime, python-multipart, pypdfium2, pypdf, portalocker, pillow, opencv-python, onnx, omegaconf, nvidia-nvtx-cu12, nvidia-nvjitlink-cu12, nvidia-nccl-cu12, nvidia-curand-cu12, nvidia-cufft-cu12, nvidia-cuda-runtime-cu12, nvidia-cuda-nvrtc-cu12, nvidia-cuda-cupti-cu12, nvidia-cublas-cu12, humanfriendly, Deprecated, pillow-heif, pikepdf, nvidia-cusparse-cu12, nvidia-cudnn-cu12, iopath, coloredlogs, pdfminer.six, onnxruntime, nvidia-cusolver-cu12, pdfplumber, layoutparser, timm, effdet, unstructured-inference\n",
            "\u001b[33m  WARNING: The script pypdfium2 is installed in '/root/.local/bin' which is not on PATH.\n",
            "  Consider adding this directory to PATH or, if you prefer to suppress this warning, use --no-warn-script-location.\u001b[0m\u001b[33m\n",
            "\u001b[0m  Attempting uninstall: pypdf\n",
            "    Found existing installation: pypdf 4.2.0\n",
            "    Uninstalling pypdf-4.2.0:\n",
            "      Successfully uninstalled pypdf-4.2.0\n",
            "\u001b[33m  WARNING: The scripts backend-test-tools, check-model and check-node are installed in '/root/.local/bin' which is not on PATH.\n",
            "  Consider adding this directory to PATH or, if you prefer to suppress this warning, use --no-warn-script-location.\u001b[0m\u001b[33m\n",
            "\u001b[0m\u001b[33m  WARNING: The script humanfriendly is installed in '/root/.local/bin' which is not on PATH.\n",
            "  Consider adding this directory to PATH or, if you prefer to suppress this warning, use --no-warn-script-location.\u001b[0m\u001b[33m\n",
            "\u001b[0m\u001b[33m  WARNING: The script coloredlogs is installed in '/root/.local/bin' which is not on PATH.\n",
            "  Consider adding this directory to PATH or, if you prefer to suppress this warning, use --no-warn-script-location.\u001b[0m\u001b[33m\n",
            "\u001b[0m  Attempting uninstall: pdfminer.six\n",
            "    Found existing installation: pdfminer.six 20221105\n",
            "    Uninstalling pdfminer.six-20221105:\n",
            "      Successfully uninstalled pdfminer.six-20221105\n",
            "\u001b[33m  WARNING: The script onnxruntime_test is installed in '/root/.local/bin' which is not on PATH.\n",
            "  Consider adding this directory to PATH or, if you prefer to suppress this warning, use --no-warn-script-location.\u001b[0m\u001b[33m\n",
            "\u001b[0m\u001b[33m  WARNING: The script pdfplumber is installed in '/root/.local/bin' which is not on PATH.\n",
            "  Consider adding this directory to PATH or, if you prefer to suppress this warning, use --no-warn-script-location.\u001b[0m\u001b[33m\n",
            "\u001b[0m\u001b[31mERROR: pip's dependency resolver does not currently take into account all the packages that are installed. This behaviour is the source of the following dependency conflicts.\n",
            "imageio 2.31.6 requires pillow<10.1.0,>=8.3.2, but you have pillow 10.3.0 which is incompatible.\u001b[0m\u001b[31m\n",
            "\u001b[0mSuccessfully installed Deprecated-1.2.14 antlr4-python3-runtime-4.9.3 coloredlogs-15.0.1 effdet-0.4.1 humanfriendly-10.0 iopath-0.1.10 layoutparser-0.3.4 nvidia-cublas-cu12-12.1.3.1 nvidia-cuda-cupti-cu12-12.1.105 nvidia-cuda-nvrtc-cu12-12.1.105 nvidia-cuda-runtime-cu12-12.1.105 nvidia-cudnn-cu12-8.9.2.26 nvidia-cufft-cu12-11.0.2.54 nvidia-curand-cu12-10.3.2.106 nvidia-cusolver-cu12-11.4.5.107 nvidia-cusparse-cu12-12.1.0.106 nvidia-nccl-cu12-2.19.3 nvidia-nvjitlink-cu12-12.4.127 nvidia-nvtx-cu12-12.1.105 omegaconf-2.3.0 onnx-1.16.0 onnxruntime-1.15.1 opencv-python-4.9.0.80 pdfminer.six-20231228 pdfplumber-0.11.0 pikepdf-8.13.0 pillow-10.3.0 pillow-heif-0.15.0 portalocker-2.8.2 pypdf-4.0.1 pypdfium2-4.29.0 python-multipart-0.0.9 timm-0.9.16 unstructured-inference-0.7.24\n"
          ]
        },
        {
          "output_type": "display_data",
          "data": {
            "application/vnd.colab-display-data+json": {
              "pip_warning": {
                "packages": [
                  "PIL",
                  "pydevd_plugins"
                ]
              },
              "id": "7058653d46a54658866d2f0ee7ad1384"
            }
          },
          "metadata": {}
        },
        {
          "output_type": "stream",
          "name": "stdout",
          "text": [
            "Requirement already satisfied: tensorflow_hub==0.16.1 in /usr/local/lib/python3.10/dist-packages (0.16.1)\n",
            "Collecting tensorflow_text==2.15.0\n",
            "  Downloading tensorflow_text-2.15.0-cp310-cp310-manylinux_2_17_x86_64.manylinux2014_x86_64.whl (5.2 MB)\n",
            "\u001b[2K     \u001b[90m━━━━━━━━━━━━━━━━━━━━━━━━━━━━━━━━━━━━━━━━\u001b[0m \u001b[32m5.2/5.2 MB\u001b[0m \u001b[31m13.5 MB/s\u001b[0m eta \u001b[36m0:00:00\u001b[0m\n",
            "\u001b[?25hRequirement already satisfied: numpy>=1.12.0 in /usr/local/lib/python3.10/dist-packages (from tensorflow_hub==0.16.1) (1.25.2)\n",
            "Requirement already satisfied: protobuf>=3.19.6 in /usr/local/lib/python3.10/dist-packages (from tensorflow_hub==0.16.1) (3.20.3)\n",
            "Requirement already satisfied: tf-keras>=2.14.1 in /usr/local/lib/python3.10/dist-packages (from tensorflow_hub==0.16.1) (2.15.1)\n",
            "Requirement already satisfied: tensorflow<2.16,>=2.15.0 in /usr/local/lib/python3.10/dist-packages (from tensorflow_text==2.15.0) (2.15.0)\n",
            "Requirement already satisfied: absl-py>=1.0.0 in /usr/local/lib/python3.10/dist-packages (from tensorflow<2.16,>=2.15.0->tensorflow_text==2.15.0) (1.4.0)\n",
            "Requirement already satisfied: astunparse>=1.6.0 in /usr/local/lib/python3.10/dist-packages (from tensorflow<2.16,>=2.15.0->tensorflow_text==2.15.0) (1.6.3)\n",
            "Requirement already satisfied: flatbuffers>=23.5.26 in /usr/local/lib/python3.10/dist-packages (from tensorflow<2.16,>=2.15.0->tensorflow_text==2.15.0) (24.3.25)\n",
            "Requirement already satisfied: gast!=0.5.0,!=0.5.1,!=0.5.2,>=0.2.1 in /usr/local/lib/python3.10/dist-packages (from tensorflow<2.16,>=2.15.0->tensorflow_text==2.15.0) (0.5.4)\n",
            "Requirement already satisfied: google-pasta>=0.1.1 in /usr/local/lib/python3.10/dist-packages (from tensorflow<2.16,>=2.15.0->tensorflow_text==2.15.0) (0.2.0)\n",
            "Requirement already satisfied: h5py>=2.9.0 in /usr/local/lib/python3.10/dist-packages (from tensorflow<2.16,>=2.15.0->tensorflow_text==2.15.0) (3.9.0)\n",
            "Requirement already satisfied: libclang>=13.0.0 in /usr/local/lib/python3.10/dist-packages (from tensorflow<2.16,>=2.15.0->tensorflow_text==2.15.0) (18.1.1)\n",
            "Requirement already satisfied: ml-dtypes~=0.2.0 in /usr/local/lib/python3.10/dist-packages (from tensorflow<2.16,>=2.15.0->tensorflow_text==2.15.0) (0.2.0)\n",
            "Requirement already satisfied: opt-einsum>=2.3.2 in /usr/local/lib/python3.10/dist-packages (from tensorflow<2.16,>=2.15.0->tensorflow_text==2.15.0) (3.3.0)\n",
            "Requirement already satisfied: packaging in /root/.local/lib/python3.10/site-packages (from tensorflow<2.16,>=2.15.0->tensorflow_text==2.15.0) (23.2)\n",
            "Requirement already satisfied: setuptools in /usr/local/lib/python3.10/dist-packages (from tensorflow<2.16,>=2.15.0->tensorflow_text==2.15.0) (67.7.2)\n",
            "Requirement already satisfied: six>=1.12.0 in /usr/local/lib/python3.10/dist-packages (from tensorflow<2.16,>=2.15.0->tensorflow_text==2.15.0) (1.16.0)\n",
            "Requirement already satisfied: termcolor>=1.1.0 in /usr/local/lib/python3.10/dist-packages (from tensorflow<2.16,>=2.15.0->tensorflow_text==2.15.0) (2.4.0)\n",
            "Requirement already satisfied: typing-extensions>=3.6.6 in /root/.local/lib/python3.10/site-packages (from tensorflow<2.16,>=2.15.0->tensorflow_text==2.15.0) (4.9.0)\n",
            "Requirement already satisfied: wrapt<1.15,>=1.11.0 in /usr/local/lib/python3.10/dist-packages (from tensorflow<2.16,>=2.15.0->tensorflow_text==2.15.0) (1.14.1)\n",
            "Requirement already satisfied: tensorflow-io-gcs-filesystem>=0.23.1 in /usr/local/lib/python3.10/dist-packages (from tensorflow<2.16,>=2.15.0->tensorflow_text==2.15.0) (0.36.0)\n",
            "Requirement already satisfied: grpcio<2.0,>=1.24.3 in /usr/local/lib/python3.10/dist-packages (from tensorflow<2.16,>=2.15.0->tensorflow_text==2.15.0) (1.62.2)\n",
            "Requirement already satisfied: tensorboard<2.16,>=2.15 in /usr/local/lib/python3.10/dist-packages (from tensorflow<2.16,>=2.15.0->tensorflow_text==2.15.0) (2.15.2)\n",
            "Requirement already satisfied: tensorflow-estimator<2.16,>=2.15.0 in /usr/local/lib/python3.10/dist-packages (from tensorflow<2.16,>=2.15.0->tensorflow_text==2.15.0) (2.15.0)\n",
            "Requirement already satisfied: keras<2.16,>=2.15.0 in /usr/local/lib/python3.10/dist-packages (from tensorflow<2.16,>=2.15.0->tensorflow_text==2.15.0) (2.15.0)\n",
            "Requirement already satisfied: wheel<1.0,>=0.23.0 in /usr/local/lib/python3.10/dist-packages (from astunparse>=1.6.0->tensorflow<2.16,>=2.15.0->tensorflow_text==2.15.0) (0.43.0)\n",
            "Requirement already satisfied: google-auth<3,>=1.6.3 in /usr/local/lib/python3.10/dist-packages (from tensorboard<2.16,>=2.15->tensorflow<2.16,>=2.15.0->tensorflow_text==2.15.0) (2.27.0)\n",
            "Requirement already satisfied: google-auth-oauthlib<2,>=0.5 in /usr/local/lib/python3.10/dist-packages (from tensorboard<2.16,>=2.15->tensorflow<2.16,>=2.15.0->tensorflow_text==2.15.0) (1.2.0)\n",
            "Requirement already satisfied: markdown>=2.6.8 in /usr/local/lib/python3.10/dist-packages (from tensorboard<2.16,>=2.15->tensorflow<2.16,>=2.15.0->tensorflow_text==2.15.0) (3.6)\n",
            "Requirement already satisfied: requests<3,>=2.21.0 in /usr/local/lib/python3.10/dist-packages (from tensorboard<2.16,>=2.15->tensorflow<2.16,>=2.15.0->tensorflow_text==2.15.0) (2.31.0)\n",
            "Requirement already satisfied: tensorboard-data-server<0.8.0,>=0.7.0 in /usr/local/lib/python3.10/dist-packages (from tensorboard<2.16,>=2.15->tensorflow<2.16,>=2.15.0->tensorflow_text==2.15.0) (0.7.2)\n",
            "Requirement already satisfied: werkzeug>=1.0.1 in /usr/local/lib/python3.10/dist-packages (from tensorboard<2.16,>=2.15->tensorflow<2.16,>=2.15.0->tensorflow_text==2.15.0) (3.0.2)\n",
            "Requirement already satisfied: cachetools<6.0,>=2.0.0 in /usr/local/lib/python3.10/dist-packages (from google-auth<3,>=1.6.3->tensorboard<2.16,>=2.15->tensorflow<2.16,>=2.15.0->tensorflow_text==2.15.0) (5.3.3)\n",
            "Requirement already satisfied: pyasn1-modules>=0.2.1 in /usr/local/lib/python3.10/dist-packages (from google-auth<3,>=1.6.3->tensorboard<2.16,>=2.15->tensorflow<2.16,>=2.15.0->tensorflow_text==2.15.0) (0.4.0)\n",
            "Requirement already satisfied: rsa<5,>=3.1.4 in /usr/local/lib/python3.10/dist-packages (from google-auth<3,>=1.6.3->tensorboard<2.16,>=2.15->tensorflow<2.16,>=2.15.0->tensorflow_text==2.15.0) (4.9)\n",
            "Requirement already satisfied: requests-oauthlib>=0.7.0 in /usr/local/lib/python3.10/dist-packages (from google-auth-oauthlib<2,>=0.5->tensorboard<2.16,>=2.15->tensorflow<2.16,>=2.15.0->tensorflow_text==2.15.0) (1.3.1)\n",
            "Requirement already satisfied: charset-normalizer<4,>=2 in /usr/local/lib/python3.10/dist-packages (from requests<3,>=2.21.0->tensorboard<2.16,>=2.15->tensorflow<2.16,>=2.15.0->tensorflow_text==2.15.0) (3.3.2)\n",
            "Requirement already satisfied: idna<4,>=2.5 in /usr/local/lib/python3.10/dist-packages (from requests<3,>=2.21.0->tensorboard<2.16,>=2.15->tensorflow<2.16,>=2.15.0->tensorflow_text==2.15.0) (3.7)\n",
            "Requirement already satisfied: urllib3<3,>=1.21.1 in /usr/local/lib/python3.10/dist-packages (from requests<3,>=2.21.0->tensorboard<2.16,>=2.15->tensorflow<2.16,>=2.15.0->tensorflow_text==2.15.0) (2.0.7)\n",
            "Requirement already satisfied: certifi>=2017.4.17 in /usr/local/lib/python3.10/dist-packages (from requests<3,>=2.21.0->tensorboard<2.16,>=2.15->tensorflow<2.16,>=2.15.0->tensorflow_text==2.15.0) (2024.2.2)\n",
            "Requirement already satisfied: MarkupSafe>=2.1.1 in /usr/local/lib/python3.10/dist-packages (from werkzeug>=1.0.1->tensorboard<2.16,>=2.15->tensorflow<2.16,>=2.15.0->tensorflow_text==2.15.0) (2.1.5)\n",
            "Requirement already satisfied: pyasn1<0.7.0,>=0.4.6 in /usr/local/lib/python3.10/dist-packages (from pyasn1-modules>=0.2.1->google-auth<3,>=1.6.3->tensorboard<2.16,>=2.15->tensorflow<2.16,>=2.15.0->tensorflow_text==2.15.0) (0.6.0)\n",
            "Requirement already satisfied: oauthlib>=3.0.0 in /usr/local/lib/python3.10/dist-packages (from requests-oauthlib>=0.7.0->google-auth-oauthlib<2,>=0.5->tensorboard<2.16,>=2.15->tensorflow<2.16,>=2.15.0->tensorflow_text==2.15.0) (3.2.2)\n",
            "Installing collected packages: tensorflow_text\n",
            "Successfully installed tensorflow_text-2.15.0\n"
          ]
        }
      ]
    },
    {
      "cell_type": "markdown",
      "source": [
        "# Download custom Python modules and utilities\n",
        "The cell below will download some helper functions needed for using Vertex AI Matching Engine in this notebook. These helper functions were created to keep this notebook more tidy and concise, and you can also view them directly on Github."
      ],
      "metadata": {
        "id": "6OZzDQ5deijJ"
      }
    },
    {
      "cell_type": "code",
      "source": [
        "import os\n",
        "import urllib.request\n",
        "\n",
        "if not os.path.exists(\"utils\"):\n",
        "    os.makedirs(\"utils\")\n",
        "\n",
        "url_prefix = \"https://raw.githubusercontent.com/GoogleCloudPlatform/generative-ai/main/language/use-cases/document-qa/utils\"\n",
        "files = [\"__init__.py\", \"matching_engine.py\", \"matching_engine_utils.py\"]\n",
        "\n",
        "for fname in files:\n",
        "    urllib.request.urlretrieve(f\"{url_prefix}/{fname}\", filename=f\"utils/{fname}\")"
      ],
      "metadata": {
        "id": "mFHJ0rkqcy9v"
      },
      "execution_count": null,
      "outputs": []
    },
    {
      "cell_type": "code",
      "source": [
        "# Automatically restart kernel after installs so that your environment can access the new packages\n",
        "import IPython\n",
        "\n",
        "app = IPython.Application.instance()\n",
        "app.kernel.do_shutdown(True)"
      ],
      "metadata": {
        "colab": {
          "base_uri": "https://localhost:8080/"
        },
        "id": "jyZ0DQNQ7Zlf",
        "outputId": "59e8fc9a-12ee-49cb-ad66-0b4ec39110ae"
      },
      "execution_count": null,
      "outputs": [
        {
          "output_type": "execute_result",
          "data": {
            "text/plain": [
              "{'status': 'ok', 'restart': True}"
            ]
          },
          "metadata": {},
          "execution_count": 2
        }
      ]
    },
    {
      "cell_type": "code",
      "source": [
        "#Authenticating your notebook environment\n",
        "import sys\n",
        "\n",
        "if \"google.colab\" in sys.modules:\n",
        "    from google.colab import auth\n",
        "\n",
        "    auth.authenticate_user()"
      ],
      "metadata": {
        "id": "AK_Gt3rn7ZoV"
      },
      "execution_count": null,
      "outputs": []
    },
    {
      "cell_type": "markdown",
      "source": [
        "# Enable APIs\n",
        "Run the following to enable APIs for Compute Engine, Vertex AI, Cloud Storage and BigQuery with this Google Cloud project."
      ],
      "metadata": {
        "id": "3MLT16rc9xWe"
      }
    },
    {
      "cell_type": "code",
      "source": [
        "! gcloud services enable compute.googleapis.com aiplatform.googleapis.com storage.googleapis.com bigquery.googleapis.com --project {PROJECT_ID}"
      ],
      "metadata": {
        "colab": {
          "base_uri": "https://localhost:8080/"
        },
        "id": "gQbN5EjY9xp-",
        "outputId": "a63cbc62-0c72-4c80-99ca-9acaec1ac223"
      },
      "execution_count": null,
      "outputs": [
        {
          "output_type": "stream",
          "name": "stdout",
          "text": [
            "Operation \"operations/acat.p2-223914638453-ac2120aa-c7dd-4dcd-a98b-1df67b2a22a5\" finished successfully.\n"
          ]
        }
      ]
    },
    {
      "cell_type": "markdown",
      "source": [
        "### Set IAM permissions\n",
        "\n",
        "Also, we need to add access permissions to the default service account for using those services.\n",
        "\n",
        "- Go to [the IAM page](https://console.cloud.google.com/iam-admin/) in the Console\n",
        "- Look for the principal for default compute service account. It should look like: `<project-number>-compute@developer.gserviceaccount.com`\n",
        "- Click the edit button at right and click `ADD ANOTHER ROLE` to add `Vertex AI User`, `BigQuery User` and `Storage Admin` to the account.\n",
        "\n",
        "This will look like this:\n",
        "\n",
        "![](https://storage.googleapis.com/github-repo/img/embeddings/vs-quickstart/iam-setting.png)"
      ],
      "metadata": {
        "id": "2SSkvR70-R-_"
      }
    },
    {
      "cell_type": "markdown",
      "source": [
        "# Environment variables"
      ],
      "metadata": {
        "id": "GsYO-qeC974G"
      }
    },
    {
      "cell_type": "code",
      "source": [
        "# get project ID\n",
        "PROJECT_ID = ! gcloud config get project\n",
        "\n",
        "LOCATION = \"us-central1\"\n",
        "if PROJECT_ID == \"(unset)\":\n",
        "    print(f\"Please set the project ID manually below\")\n",
        "    # define project information\n",
        "\n",
        "\n",
        "# generate an unique id for this session\n",
        "from datetime import datetime\n",
        "\n",
        "UID = datetime.now().strftime(\"%m%d%H%M\")"
      ],
      "metadata": {
        "id": "oEh-Y-u89_hE"
      },
      "execution_count": null,
      "outputs": []
    },
    {
      "cell_type": "markdown",
      "source": [
        "# Import libraries"
      ],
      "metadata": {
        "id": "eA07E2d89QM1"
      }
    },
    {
      "cell_type": "code",
      "source": [
        "import vertexai\n",
        "\n",
        "#PROJECT_ID = PROJECT_ID # @param {type:\"string\"}\n",
        "REGION = \"us-central1\"\n",
        "\n",
        "vertexai.init(project={PROJECT_ID}, location=REGION)"
      ],
      "metadata": {
        "id": "h4O4anm2AX2V"
      },
      "execution_count": null,
      "outputs": []
    },
    {
      "cell_type": "code",
      "source": [
        "import json\n",
        "import textwrap\n",
        "\n",
        "# Utils\n",
        "import time\n",
        "import uuid\n",
        "from typing import List\n",
        "\n",
        "import numpy as np\n",
        "import vertexai\n",
        "\n",
        "# Vertex AI\n",
        "from google.cloud import aiplatform\n",
        "\n",
        "print(f\"Vertex AI SDK version: {aiplatform.__version__}\")\n",
        "\n",
        "# LangChain\n",
        "import langchain\n",
        "\n",
        "print(f\"LangChain version: {langchain.__version__}\")\n",
        "\n",
        "from langchain.chains import RetrievalQA\n",
        "from langchain.document_loaders import GCSDirectoryLoader\n",
        "from langchain.embeddings import VertexAIEmbeddings\n",
        "from langchain.llms import VertexAI\n",
        "from langchain.prompts import PromptTemplate\n",
        "from langchain.text_splitter import RecursiveCharacterTextSplitter\n",
        "\n",
        "# Import custom Matching Engine packages\n",
        "# from utils.matching_engine import MatchingEngine\n",
        "# from utils.matching_engine_utils import MatchingEngineUtils\n",
        "# Import custom Matching Engine packages\n",
        "from langchain_google_vertexai import VertexAI , VertexAIEmbeddings , VectorSearchVectorStore"
      ],
      "metadata": {
        "colab": {
          "base_uri": "https://localhost:8080/"
        },
        "id": "UD_VfCT8ZXBW",
        "outputId": "940f5a88-6c9b-4793-ecda-59215a7c10a0"
      },
      "execution_count": null,
      "outputs": [
        {
          "output_type": "stream",
          "name": "stdout",
          "text": [
            "Vertex AI SDK version: 1.47.0\n",
            "LangChain version: 0.1.14\n"
          ]
        }
      ]
    },
    {
      "cell_type": "markdown",
      "source": [
        "# connecting to bigquery to extract the text data"
      ],
      "metadata": {
        "id": "txktKW0_9Wy5"
      }
    },
    {
      "cell_type": "code",
      "source": [
        "# load the BQ Table into a Pandas Dataframe\n",
        "import pandas as pd\n",
        "from google.cloud import bigquery\n",
        "\n",
        "\n",
        "bq_client = bigquery.Client(project=PROJECT_ID)\n",
        "QUERY_TEMPLATE = \"\"\"\n",
        "        SELECT * FROM `....Pubmed.pubmed` where content != '';\n",
        "        \"\"\"\n",
        "# query_params=[\n",
        "#         bigquery.ArrayQueryParameter(\"q1\",\"DATE\", q1),\n",
        "#         bigquery.ArrayQueryParameter(\"q2\",\"DATE\", q2),\n",
        "#         bigquery.ArrayQueryParameter(\"q3\",\"DATE\", q3),\n",
        "#         bigquery.ArrayQueryParameter(\"q4\",\"DATE\", q4),\n",
        "#         bigquery.ArrayQueryParameter(\"rule_name\",\"STRING\", rule_name),\n",
        "#         bigquery.ArrayQueryParameter(\"insert_timestamp\",\"DATE\", insert_timestamp),\n",
        "#         bigquery.ArrayQueryParameter(\"Manufacturer\",\"STRING\", Manufacturer),\n",
        "#         bigquery.ArrayQueryParameter(\"partner_code\",\"STRING\", partner_code),\n",
        "    # ]\n",
        "try:\n",
        "  pubmed = bq_client.query(QUERY_TEMPLATE)  # Make an API request.\n",
        "  pubmed_data = pubmed.to_dataframe()\n",
        "except Exception as e:\n",
        "  print('Error',e,'Data_not_found')\n",
        "\n",
        "# examine the data\n",
        "pubmed_data.head()"
      ],
      "metadata": {
        "colab": {
          "base_uri": "https://localhost:8080/",
          "height": 206
        },
        "id": "Fs9CR041-aKX",
        "outputId": "7a735f73-f56b-49ed-dc86-401eb941f700"
      },
      "execution_count": null,
      "outputs": [
        {
          "output_type": "execute_result",
          "data": {
            "text/plain": [
              "                                               Title  \\\n",
              "0          Impact of Alcoholism – Kerala.pdf,page:66   \n",
              "1        Gururaj_-Alcohol-report-NIMHANS.pdf,page:80   \n",
              "2       Gururaj_-Alcohol-report-NIMHANS.pdf,page:116   \n",
              "3       Gururaj_-Alcohol-report-NIMHANS.pdf,page:122   \n",
              "4  Combined_Pharmacotherapies_and_Behavioral_Inte...   \n",
              "\n",
              "                                             content  \n",
              "0  (17.9%)for the Adolescents. A great majority (...  \n",
              "1  (Carey et al, 2003b). Among psychiatric inpati...  \n",
              "2  (although 33.3% had current alcohol use and 16...  \n",
              "3  (d) Public health should be given proper defer...  \n",
              "4  (inthiscase,approximately1inevery report.Poten...  "
            ],
            "text/html": [
              "\n",
              "  <div id=\"df-b040b6cd-be9c-4960-bc10-ca045462928e\" class=\"colab-df-container\">\n",
              "    <div>\n",
              "<style scoped>\n",
              "    .dataframe tbody tr th:only-of-type {\n",
              "        vertical-align: middle;\n",
              "    }\n",
              "\n",
              "    .dataframe tbody tr th {\n",
              "        vertical-align: top;\n",
              "    }\n",
              "\n",
              "    .dataframe thead th {\n",
              "        text-align: right;\n",
              "    }\n",
              "</style>\n",
              "<table border=\"1\" class=\"dataframe\">\n",
              "  <thead>\n",
              "    <tr style=\"text-align: right;\">\n",
              "      <th></th>\n",
              "      <th>Title</th>\n",
              "      <th>content</th>\n",
              "    </tr>\n",
              "  </thead>\n",
              "  <tbody>\n",
              "    <tr>\n",
              "      <th>0</th>\n",
              "      <td>Impact of Alcoholism – Kerala.pdf,page:66</td>\n",
              "      <td>(17.9%)for the Adolescents. A great majority (...</td>\n",
              "    </tr>\n",
              "    <tr>\n",
              "      <th>1</th>\n",
              "      <td>Gururaj_-Alcohol-report-NIMHANS.pdf,page:80</td>\n",
              "      <td>(Carey et al, 2003b). Among psychiatric inpati...</td>\n",
              "    </tr>\n",
              "    <tr>\n",
              "      <th>2</th>\n",
              "      <td>Gururaj_-Alcohol-report-NIMHANS.pdf,page:116</td>\n",
              "      <td>(although 33.3% had current alcohol use and 16...</td>\n",
              "    </tr>\n",
              "    <tr>\n",
              "      <th>3</th>\n",
              "      <td>Gururaj_-Alcohol-report-NIMHANS.pdf,page:122</td>\n",
              "      <td>(d) Public health should be given proper defer...</td>\n",
              "    </tr>\n",
              "    <tr>\n",
              "      <th>4</th>\n",
              "      <td>Combined_Pharmacotherapies_and_Behavioral_Inte...</td>\n",
              "      <td>(inthiscase,approximately1inevery report.Poten...</td>\n",
              "    </tr>\n",
              "  </tbody>\n",
              "</table>\n",
              "</div>\n",
              "    <div class=\"colab-df-buttons\">\n",
              "\n",
              "  <div class=\"colab-df-container\">\n",
              "    <button class=\"colab-df-convert\" onclick=\"convertToInteractive('df-b040b6cd-be9c-4960-bc10-ca045462928e')\"\n",
              "            title=\"Convert this dataframe to an interactive table.\"\n",
              "            style=\"display:none;\">\n",
              "\n",
              "  <svg xmlns=\"http://www.w3.org/2000/svg\" height=\"24px\" viewBox=\"0 -960 960 960\">\n",
              "    <path d=\"M120-120v-720h720v720H120Zm60-500h600v-160H180v160Zm220 220h160v-160H400v160Zm0 220h160v-160H400v160ZM180-400h160v-160H180v160Zm440 0h160v-160H620v160ZM180-180h160v-160H180v160Zm440 0h160v-160H620v160Z\"/>\n",
              "  </svg>\n",
              "    </button>\n",
              "\n",
              "  <style>\n",
              "    .colab-df-container {\n",
              "      display:flex;\n",
              "      gap: 12px;\n",
              "    }\n",
              "\n",
              "    .colab-df-convert {\n",
              "      background-color: #E8F0FE;\n",
              "      border: none;\n",
              "      border-radius: 50%;\n",
              "      cursor: pointer;\n",
              "      display: none;\n",
              "      fill: #1967D2;\n",
              "      height: 32px;\n",
              "      padding: 0 0 0 0;\n",
              "      width: 32px;\n",
              "    }\n",
              "\n",
              "    .colab-df-convert:hover {\n",
              "      background-color: #E2EBFA;\n",
              "      box-shadow: 0px 1px 2px rgba(60, 64, 67, 0.3), 0px 1px 3px 1px rgba(60, 64, 67, 0.15);\n",
              "      fill: #174EA6;\n",
              "    }\n",
              "\n",
              "    .colab-df-buttons div {\n",
              "      margin-bottom: 4px;\n",
              "    }\n",
              "\n",
              "    [theme=dark] .colab-df-convert {\n",
              "      background-color: #3B4455;\n",
              "      fill: #D2E3FC;\n",
              "    }\n",
              "\n",
              "    [theme=dark] .colab-df-convert:hover {\n",
              "      background-color: #434B5C;\n",
              "      box-shadow: 0px 1px 3px 1px rgba(0, 0, 0, 0.15);\n",
              "      filter: drop-shadow(0px 1px 2px rgba(0, 0, 0, 0.3));\n",
              "      fill: #FFFFFF;\n",
              "    }\n",
              "  </style>\n",
              "\n",
              "    <script>\n",
              "      const buttonEl =\n",
              "        document.querySelector('#df-b040b6cd-be9c-4960-bc10-ca045462928e button.colab-df-convert');\n",
              "      buttonEl.style.display =\n",
              "        google.colab.kernel.accessAllowed ? 'block' : 'none';\n",
              "\n",
              "      async function convertToInteractive(key) {\n",
              "        const element = document.querySelector('#df-b040b6cd-be9c-4960-bc10-ca045462928e');\n",
              "        const dataTable =\n",
              "          await google.colab.kernel.invokeFunction('convertToInteractive',\n",
              "                                                    [key], {});\n",
              "        if (!dataTable) return;\n",
              "\n",
              "        const docLinkHtml = 'Like what you see? Visit the ' +\n",
              "          '<a target=\"_blank\" href=https://colab.research.google.com/notebooks/data_table.ipynb>data table notebook</a>'\n",
              "          + ' to learn more about interactive tables.';\n",
              "        element.innerHTML = '';\n",
              "        dataTable['output_type'] = 'display_data';\n",
              "        await google.colab.output.renderOutput(dataTable, element);\n",
              "        const docLink = document.createElement('div');\n",
              "        docLink.innerHTML = docLinkHtml;\n",
              "        element.appendChild(docLink);\n",
              "      }\n",
              "    </script>\n",
              "  </div>\n",
              "\n",
              "\n",
              "<div id=\"df-bcaa98a9-34e7-4ba1-8326-485836b0dbad\">\n",
              "  <button class=\"colab-df-quickchart\" onclick=\"quickchart('df-bcaa98a9-34e7-4ba1-8326-485836b0dbad')\"\n",
              "            title=\"Suggest charts\"\n",
              "            style=\"display:none;\">\n",
              "\n",
              "<svg xmlns=\"http://www.w3.org/2000/svg\" height=\"24px\"viewBox=\"0 0 24 24\"\n",
              "     width=\"24px\">\n",
              "    <g>\n",
              "        <path d=\"M19 3H5c-1.1 0-2 .9-2 2v14c0 1.1.9 2 2 2h14c1.1 0 2-.9 2-2V5c0-1.1-.9-2-2-2zM9 17H7v-7h2v7zm4 0h-2V7h2v10zm4 0h-2v-4h2v4z\"/>\n",
              "    </g>\n",
              "</svg>\n",
              "  </button>\n",
              "\n",
              "<style>\n",
              "  .colab-df-quickchart {\n",
              "      --bg-color: #E8F0FE;\n",
              "      --fill-color: #1967D2;\n",
              "      --hover-bg-color: #E2EBFA;\n",
              "      --hover-fill-color: #174EA6;\n",
              "      --disabled-fill-color: #AAA;\n",
              "      --disabled-bg-color: #DDD;\n",
              "  }\n",
              "\n",
              "  [theme=dark] .colab-df-quickchart {\n",
              "      --bg-color: #3B4455;\n",
              "      --fill-color: #D2E3FC;\n",
              "      --hover-bg-color: #434B5C;\n",
              "      --hover-fill-color: #FFFFFF;\n",
              "      --disabled-bg-color: #3B4455;\n",
              "      --disabled-fill-color: #666;\n",
              "  }\n",
              "\n",
              "  .colab-df-quickchart {\n",
              "    background-color: var(--bg-color);\n",
              "    border: none;\n",
              "    border-radius: 50%;\n",
              "    cursor: pointer;\n",
              "    display: none;\n",
              "    fill: var(--fill-color);\n",
              "    height: 32px;\n",
              "    padding: 0;\n",
              "    width: 32px;\n",
              "  }\n",
              "\n",
              "  .colab-df-quickchart:hover {\n",
              "    background-color: var(--hover-bg-color);\n",
              "    box-shadow: 0 1px 2px rgba(60, 64, 67, 0.3), 0 1px 3px 1px rgba(60, 64, 67, 0.15);\n",
              "    fill: var(--button-hover-fill-color);\n",
              "  }\n",
              "\n",
              "  .colab-df-quickchart-complete:disabled,\n",
              "  .colab-df-quickchart-complete:disabled:hover {\n",
              "    background-color: var(--disabled-bg-color);\n",
              "    fill: var(--disabled-fill-color);\n",
              "    box-shadow: none;\n",
              "  }\n",
              "\n",
              "  .colab-df-spinner {\n",
              "    border: 2px solid var(--fill-color);\n",
              "    border-color: transparent;\n",
              "    border-bottom-color: var(--fill-color);\n",
              "    animation:\n",
              "      spin 1s steps(1) infinite;\n",
              "  }\n",
              "\n",
              "  @keyframes spin {\n",
              "    0% {\n",
              "      border-color: transparent;\n",
              "      border-bottom-color: var(--fill-color);\n",
              "      border-left-color: var(--fill-color);\n",
              "    }\n",
              "    20% {\n",
              "      border-color: transparent;\n",
              "      border-left-color: var(--fill-color);\n",
              "      border-top-color: var(--fill-color);\n",
              "    }\n",
              "    30% {\n",
              "      border-color: transparent;\n",
              "      border-left-color: var(--fill-color);\n",
              "      border-top-color: var(--fill-color);\n",
              "      border-right-color: var(--fill-color);\n",
              "    }\n",
              "    40% {\n",
              "      border-color: transparent;\n",
              "      border-right-color: var(--fill-color);\n",
              "      border-top-color: var(--fill-color);\n",
              "    }\n",
              "    60% {\n",
              "      border-color: transparent;\n",
              "      border-right-color: var(--fill-color);\n",
              "    }\n",
              "    80% {\n",
              "      border-color: transparent;\n",
              "      border-right-color: var(--fill-color);\n",
              "      border-bottom-color: var(--fill-color);\n",
              "    }\n",
              "    90% {\n",
              "      border-color: transparent;\n",
              "      border-bottom-color: var(--fill-color);\n",
              "    }\n",
              "  }\n",
              "</style>\n",
              "\n",
              "  <script>\n",
              "    async function quickchart(key) {\n",
              "      const quickchartButtonEl =\n",
              "        document.querySelector('#' + key + ' button');\n",
              "      quickchartButtonEl.disabled = true;  // To prevent multiple clicks.\n",
              "      quickchartButtonEl.classList.add('colab-df-spinner');\n",
              "      try {\n",
              "        const charts = await google.colab.kernel.invokeFunction(\n",
              "            'suggestCharts', [key], {});\n",
              "      } catch (error) {\n",
              "        console.error('Error during call to suggestCharts:', error);\n",
              "      }\n",
              "      quickchartButtonEl.classList.remove('colab-df-spinner');\n",
              "      quickchartButtonEl.classList.add('colab-df-quickchart-complete');\n",
              "    }\n",
              "    (() => {\n",
              "      let quickchartButtonEl =\n",
              "        document.querySelector('#df-bcaa98a9-34e7-4ba1-8326-485836b0dbad button');\n",
              "      quickchartButtonEl.style.display =\n",
              "        google.colab.kernel.accessAllowed ? 'block' : 'none';\n",
              "    })();\n",
              "  </script>\n",
              "</div>\n",
              "\n",
              "    </div>\n",
              "  </div>\n"
            ],
            "application/vnd.google.colaboratory.intrinsic+json": {
              "type": "dataframe",
              "variable_name": "pubmed_data",
              "summary": "{\n  \"name\": \"pubmed_data\",\n  \"rows\": 1187,\n  \"fields\": [\n    {\n      \"column\": \"Title\",\n      \"properties\": {\n        \"dtype\": \"string\",\n        \"num_unique_values\": 1187,\n        \"samples\": [\n          \"Impact of Alcoholism \\u2013 Kerala.pdf,page:121\",\n          \"Gururaj_-Alcohol-report-NIMHANS.pdf,page:62\",\n          \"Effects of Alcohol Consumption on Various Systems of the Human BodyA Systematic Review.pdf,page:4\"\n        ],\n        \"semantic_type\": \"\",\n        \"description\": \"\"\n      }\n    },\n    {\n      \"column\": \"content\",\n      \"properties\": {\n        \"dtype\": \"string\",\n        \"num_unique_values\": 1187,\n        \"samples\": [\n          \"FITS/Convulsion A query in this regard showed that 8 Adults and 2 Adolescents in the sample had FITS / Convulsions when they stopped drinking. It was also noticed from the data that of the 2 Adolescents, one had the habit of using Ganja/Charas. Two Spouses had reported that their husbands too faced the same problem. (Refer to table 2.6.8) Category-wise, FITS/Convulsion was found to be more (4.1%) among the Harmful Drinkers compared to the Less-Harmful Drinkers (1.1%). (Refer to figure 2.6.3) Delirium Tremens Of those who have tried to stop/cut down drinking, 41 Adults had faced the problem of Delirium tremens (Confusion, disorientation, hallucinations, etc.). None of the Adolescents have reported of the problem, whereas 7 Spouses stated that their husbands had experienced Delirium. (Refer to table 2.6.8) Category-wise, the presence of Delirium tremens(Confusion, disorientation, hallucinations, etc.) in Adult Alcohol Users was comparatively more among the Harmful Drinkers (15.7%) than the Less-Harmful Drinkers (10.7%).(Refer to figure 2.6.3) Table No.2.6.8 Status of having FITS/Convulsion or Delirium tremens Problems Experienced Adults Adolescents Spouse FITS/Convulsions Yes 8 2 2 No 393 111 59 Total 401 113 61 Delirium tremens (Confusion, disorientation, hallucinations etc) Yes 49 0 7 No 352 113 54 Total 401 113 61\",\n          \"brandy have been the preferred drinks, while wine 5.13.4. Context of drinking has been gaining popularity. Country liquor is still Understanding the context of drinking provides in use in rural areas. The type of drink varies insights into cultural aspects, thus helping in between urban and rural areas, among sexes and is planning interventions. The GENACIS study for the influenced by age groups. Commonly IMFL and beer first time documented in detail the pattern of drinking are preferred drinks in urban areas and in younger in a community based representative sample age groups, while arrack and rum are common in (Benegal et al 2005). The key findings from this rural India. study are generally applicable to the pattern of Singh et al (1998a) from Moradabad observed drinking prevalent in many of the communities in that whisky and country liquor were commonly India. consumed alcohol beverages. The latter was the The setting in which most drinking occurs is preferred type in Rohtak city (Meena et al, 2002). essentially under-socialized, solitary and often Gupta et al (2003) noticed that the type of drinks hazardous. The place of drinking has changed over consumed was closely associated with duration of time, especially during the last decade: pubs have drinking, thus indicating affinity to certain types of become an important place of alcohol consumption alcohol. It was noted in the study that IMFL (whisky in urban areas. In the countryside, alcohol is mainly and others) was consumed by nearly 40% of drinkers consumed in local outlets which sell country liquor among those with a shorter duration of drinking. or even adulterated liquor. Particularly among heavy Country liquor was the favored drink in those with a users, drinking is a hasty, furtive pursuit with gulping longer duration of drinking. Stratified analysis of of large amounts of undiluted cheap alcohol the data revealed that nearly three-fourths of the study (drinking the maximum possible in the shortest population was consuming more than 30 grams of possible time). alcohol in a day, irrespective of the type of drink The above factors add up to a predominant consumed. Patterns also varied with availability and pattern of hazardous use. To reiterate, more than affordability. one out of two people who drink, do so at hazardous Silva et al (2003) in Goa noted that in their levels and heavy drinkers are more likely to drink drinking population, 25% had rice beer, while 5% multiple beverages. Those who drink multiple were regular wine drinkers. In a study of patients beverages are generally less educated, have a suffering from liver disorders it was observed that significantly lower income and spend a larger 80% were regular consumers of country liquor and proportion of their income to buy alcohol. illicit liquor. The most common beverage used was Overwhelming clinical experiences point to the slide spirits (IMFL) among 70% of men (Narwane et al, Figure 12: Drinking situations 1998). In the Bangalore study, whisky and brandy (52%) was the commonest alcoholic beverage while 33% consumed arrack (frequency of arrack use was higher in rural areas, town and slums) (Gururaj et al, 2006a, Girish et al, 2010). Benegal et al (2003) observed that 35% were using illicit alcoholic beverages, 38% used IMFL, 23% country arrack, beer <4% and imported liquor <1%. Source: Benegal, 2005\",\n          \"perceive that alcohol is most of the time in the list of risk factors for various diseases. Alcohol has been found to adversely affect our immune system and the matter of concern as far as this issue is concerned is that immune responses are influenced by even moderate amounts of alcohol intake [26]. Alcohol affects innate immunity and also interferes with almost all the various aspects of the adaptive immune response. Alcohol is a key player in impairing anti-inflammatory cytokines and also promotes proinflammatory immune responses. The gastrointestinal biome is severely manipulated by the use of alcohol over a long period of time, which in turn is found to have a link with the establishment of various complications [27]. Alcohol and its metabolites are found to promote inflammation in the intestines and they do so through varied pathways [28]. Alcohol being a teratogen is documented to cause abnormalities of the brain, limbs, etc implications from certain such studies are put forth in Table 1. Author, Country ( if Serial Type of Objectives of the study Implications applicable), number study Year To provide a quantitative assessment Systemic Consumption of alcohol has a significantly large impact Rehm et al., of the association between the risk of review and on the mortality of cirrhosis of the liver when compared July 2010 (1) cirrhosis of the liver and alcohol meta- with morbidity. [19]. intake. analysis To systematically sum up the risk Systemic Consuming about one drink per day in comparison to Roerecke et relationship between the incidence of review and the long-term abstainers showed an increased risk in al., October (2) liver cirrhosis and different alcohol meta- women for liver cirrhosis, but not in men. 2019 [20]. consumption levels. analysis Askgaard et To analyse the impact of various A Recent alcohol consumption rather than earlier in life al., Denmark, drinking patterns in the causation of prospective was found to be associated with a risk of alcoholic (3) May 2015 alcoholic cirrhosis of the liver. cohort study cirrhosis. Pedersen et To investigate the relationship Alcoholic intake significantly increases the risk of rectal al., between the risk of colon and rectal Cohort study cancer but this risk seems to be reduced with the Denmark, (4) cancer and the amount and type of inclusion of wine. June 2003 alcohol. To examine the relationship between A moderate wine intake does not probably increase the Gr\\u00f8nbaek et cancers of the upper digestive tract risk of cancer of the upper digestive tract, whereas a al., Denmark, (oesophageal and oropharyngeal) Cohort study (5) moderate intake of spirits or beers considerably September and different types of alcoholic drinks. increases the risk. 1998 [32]. Gr\\u00f8nbaek et To examine the relationship between Heavy drinkers who avoid wine are found to be at more al., death from all causes, coronary heart Cohort study high risk for death from all causes than heavy drinkers Denmark, (6) disease, and cancer and intake of who do include wine in their alcohol intake. September different alcohol types. 2000 [33]. The morbidity and mortality which is associated with Theobald et To investigate the long-term effects of different consumption levels of alcohol are associated al., Sweden, the consumption of alcohol on Cohort study (7) with the same diseases, which suggests that alcohol November morbidity and mortality. might be one of the causative factors for these diseases. 2001 [34]. Meta- analysis of To provide updated quantification of Showed evidence which strongly depicted an Wang et al., the association between the intake of association between colorectal cancer risk and intake of May 2015 (8) published alcohol intake and colorectal cancer. alcohol. [35]. observational studies Prospective To investigate the association study and a Larsson et between atrial fibrillation risk in a dose- Consumption of alcohol, even though at a moderate al., Sweden, (9) prospective study of Swedish men response level, is one of the risk factors for atrial fibrillation. July 2014 and women and alcohol consumption. meta- [36]. 2022 Varghese et al. Cureus 14(10): e30057. DOI 10.7759/cureus.30057 4 of 6\"\n        ],\n        \"semantic_type\": \"\",\n        \"description\": \"\"\n      }\n    }\n  ]\n}"
            }
          },
          "metadata": {},
          "execution_count": 8
        }
      ]
    },
    {
      "cell_type": "markdown",
      "source": [
        "# Load the text embeddings model\n",
        "from vertexai.preview.language_models import TextEmbeddingModel\n",
        "\n",
        "model = TextEmbeddingModel.from_pretrained(\"textembedding-gecko@001\")"
      ],
      "metadata": {
        "id": "x7dvQYsm0WI_"
      }
    },
    {
      "cell_type": "markdown",
      "source": [
        "# Load the text embeddings model"
      ],
      "metadata": {
        "id": "r12IM-jgQ-S_"
      }
    },
    {
      "cell_type": "code",
      "source": [
        "\n",
        "from langchain_google_vertexai import VertexAIEmbeddings\n",
        "\n",
        "model = VertexAIEmbeddings(model_name=\"textembedding-gecko@003\")"
      ],
      "metadata": {
        "id": "7w6vKrEj0b-u"
      },
      "execution_count": null,
      "outputs": []
    },
    {
      "cell_type": "markdown",
      "source": [
        "# Load the biquery where data for llm is stored"
      ],
      "metadata": {
        "id": "RLqRVFopQ_vn"
      }
    },
    {
      "cell_type": "code",
      "source": [
        "# from langchain.document_loaders import BigQueryLoader #Class for storing a piece of text and associated metadata.\n",
        "# BASE_QUERY = \"\"\"SELECT * FROM `......Pubmed.pubmed` where content != '';\"\"\"\n",
        "# loader = BigQueryLoader(BASE_QUERY,project=\"google.com:centering-river-118922\")\n",
        "# documents = loader.load()"
      ],
      "metadata": {
        "id": "Cs-_Irq15JJ3",
        "colab": {
          "base_uri": "https://localhost:8080/"
        },
        "outputId": "872d94c5-b2ad-4935-8358-610151744791"
      },
      "execution_count": null,
      "outputs": [
        {
          "output_type": "stream",
          "name": "stderr",
          "text": [
            "/root/.local/lib/python3.10/site-packages/langchain_core/_api/deprecation.py:119: LangChainDeprecationWarning: The class `BigQueryLoader` was deprecated in LangChain 0.0.32 and will be removed in 0.2.0. An updated version of the class exists in the langchain-google-community package and should be used instead. To use it run `pip install -U langchain-google-community` and import as `from langchain_google_community import BigQueryLoader`.\n",
            "  warn_deprecated(\n"
          ]
        }
      ]
    },
    {
      "cell_type": "code",
      "source": [
        "# Add document metadata to all the document of documents and formatting page_content to only contain contents of BQ table pubmed as it contained both title and content\n",
        "# for document in documents:\n",
        "#   document.metadata={'source':document.page_content.split('\\n')[0]}\n",
        "#   document.page_content=document.page_content.split('\\n')[1]\n"
      ],
      "metadata": {
        "id": "QWkani8dPvL_"
      },
      "execution_count": null,
      "outputs": []
    },
    {
      "cell_type": "code",
      "source": [
        "# documents[0].metadata"
      ],
      "metadata": {
        "colab": {
          "base_uri": "https://localhost:8080/"
        },
        "id": "ks03NvN9QaUZ",
        "outputId": "355e7903-5eda-4648-df6f-9cd27db2013a"
      },
      "execution_count": null,
      "outputs": [
        {
          "output_type": "execute_result",
          "data": {
            "text/plain": [
              "{'source': 'Title: Impact of Alcoholism – Kerala.pdf,page:66'}"
            ]
          },
          "metadata": {},
          "execution_count": 12
        }
      ]
    },
    {
      "cell_type": "markdown",
      "source": [
        "# Chunk documents\n",
        "Split the documents to smaller chunks. When splitting the document, ensure a few chunks can fit within the context length of LLM."
      ],
      "metadata": {
        "id": "6JeeIlW3QzIE"
      }
    },
    {
      "cell_type": "code",
      "source": [
        "# # split the documents into chunks\n",
        "# text_splitter = RecursiveCharacterTextSplitter(\n",
        "#     chunk_size=1000,\n",
        "#     chunk_overlap=50,\n",
        "#     separators=[\"\\n\\n\", \"\\n\", \".\", \"!\", \"?\", \",\", \" \", \"\"],\n",
        "# )\n",
        "# doc_splits = text_splitter.split_documents(documents)\n",
        "\n",
        "# # Add chunk number to metadata\n",
        "# for idx, split in enumerate(doc_splits):\n",
        "#     split.metadata[\"chunk\"] = idx\n",
        "\n",
        "# print(f\"# of documents = {len(doc_splits)}\")"
      ],
      "metadata": {
        "colab": {
          "base_uri": "https://localhost:8080/"
        },
        "id": "GOXCiunt_UAh",
        "outputId": "a4c7c596-88a9-4078-c832-04cfd8fcecd6"
      },
      "execution_count": null,
      "outputs": [
        {
          "output_type": "stream",
          "name": "stdout",
          "text": [
            "# of documents = 4405\n"
          ]
        }
      ]
    },
    {
      "cell_type": "markdown",
      "source": [
        "# Create Matching Engine Index and Endpoint for Retrieval\n"
      ],
      "metadata": {
        "id": "pIsx-t0wRckE"
      }
    },
    {
      "cell_type": "code",
      "source": [
        "PROJECT_ID =..  # @param {type:\"string\"}\n",
        "REGION = \"us-central1\"  # @param {type:\"string\"}\n",
        "\n",
        "# Initialize Vertex AI SDK\n",
        "vertexai.init(project=PROJECT_ID, location=REGION)"
      ],
      "metadata": {
        "id": "BQ7tFQ8ES0OU"
      },
      "execution_count": null,
      "outputs": []
    },
    {
      "cell_type": "code",
      "source": [
        "ME_REGION = \"<region>\"\n",
        "ME_INDEX_NAME = f\"...\"  # @param {type:\"string\"}\n",
        "ME_EMBEDDING_DIR = f\"..\"  # @param {type:\"string\"}\n",
        "ME_DIMENSIONS = 768  # when using Vertex PaLM Embedding"
      ],
      "metadata": {
        "id": "qVyG0ByCvKzX"
      },
      "execution_count": null,
      "outputs": []
    },
    {
      "cell_type": "code",
      "source": [
        "ME_EMBEDDING_DIR"
      ],
      "metadata": {
        "id": "V6TUHLn0eXGY"
      },
      "execution_count": null,
      "outputs": []
    },
    {
      "cell_type": "markdown",
      "source": [
        "# Make a Google Cloud Storage bucket for your Matching Engine index"
      ],
      "metadata": {
        "id": "La6FH127fTx5"
      }
    },
    {
      "cell_type": "code",
      "source": [
        "# ! set -x && gsutil mb -p $PROJECT_ID -l us-central1 gs://\"........\""
      ],
      "metadata": {
        "id": "wRurVphRrNWs"
      },
      "execution_count": null,
      "outputs": []
    },
    {
      "cell_type": "markdown",
      "source": [
        "# Create Index\n",
        "You can create index on Vertex AI Matching Engine for batch updates or streaming updates.\n",
        "\n",
        "This notebook creates Matching Engine Index:\n",
        "\n",
        "With streaming updates\n",
        "With default configuration - e.g. small shard size\n",
        "You can update the index configuration in the Matching Engine utilities script.\n",
        "\n",
        "\n",
        "\n",
        "While the index is being created and deployed, you can read more about Matching Engine's ANN service which uses a new type of vector quantization developed by Google Research: Accelerating Large-Scale Inference with Anisotropic Vector Quantization.\n",
        "\n",
        "For more information about how this works, see Announcing ScaNN: Efficient Vector Similarity Search."
      ],
      "metadata": {
        "id": "NjGot27sTXNF"
      }
    },
    {
      "cell_type": "code",
      "source": [
        "# # NOTE : This operation can take upto 30 seconds\n",
        "# my_index = aiplatform.MatchingEngineIndex.create_tree_ah_index(\n",
        "#     display_name=\"langchain-index\",\n",
        "#     dimensions=768,\n",
        "#     approximate_neighbors_count=150,\n",
        "#     distance_measure_type=\"DOT_PRODUCT_DISTANCE\",\n",
        "#     index_update_method=\"STREAM_UPDATE\",  # allowed values BATCH_UPDATE , STREAM_UPDATE\n",
        "# )\n",
        "# if my_index:\n",
        "#     print(my_index.name)"
      ],
      "metadata": {
        "colab": {
          "base_uri": "https://localhost:8080/"
        },
        "id": "RBrJqEpdTZhc",
        "outputId": "6ba9edec-77b6-4ec3-aafa-18820b66fc19"
      },
      "execution_count": null,
      "outputs": [
        {
          "output_type": "stream",
          "name": "stderr",
          "text": [
            "INFO:google.cloud.aiplatform.matching_engine.matching_engine_index:Creating MatchingEngineIndex\n",
            "INFO:google.cloud.aiplatform.matching_engine.matching_engine_index:Create MatchingEngineIndex backing LRO: projects/223914638453/locations/us-central1/indexes/5634236230305579008/operations/5421764988446441472\n",
            "INFO:google.cloud.aiplatform.matching_engine.matching_engine_index:MatchingEngineIndex created. Resource name: projects/223914638453/locations/us-central1/indexes/5634236230305579008\n",
            "INFO:google.cloud.aiplatform.matching_engine.matching_engine_index:To use this MatchingEngineIndex in another session:\n",
            "INFO:google.cloud.aiplatform.matching_engine.matching_engine_index:index = aiplatform.MatchingEngineIndex('projects/223914638453/locations/us-central1/indexes/5634236230305579008')\n"
          ]
        },
        {
          "output_type": "stream",
          "name": "stdout",
          "text": [
            "5634236230305579008\n"
          ]
        }
      ]
    },
    {
      "cell_type": "markdown",
      "source": [
        "# Deploy Index to Endpoint\n",
        "Deploy index to Index Endpoint on Matching Engine. This notebook deploys the index to a public endpoint. The deployment operation creates a public endpoint that will be used for querying the index for approximate nearest neighbors.\n",
        "\n",
        "For deploying index to a Private Endpoint, refer to the documentation to set up pre-requisites."
      ],
      "metadata": {
        "id": "CEUH1MQggjeN"
      }
    },
    {
      "cell_type": "code",
      "source": [
        "# # Create an endpoint\n",
        "# index_endpoint = aiplatform.MatchingEngineIndexEndpoint.create(\n",
        "#     display_name=f\"langchain-index-endpoint\", public_endpoint_enabled=True\n",
        "# )\n",
        "# if index_endpoint:\n",
        "#     print(f\"Index endpoint resource name: {index_endpoint.name}\")\n",
        "#     print(\n",
        "#         f\"Index endpoint public domain name: {index_endpoint.public_endpoint_domain_name}\"\n",
        "#     )"
      ],
      "metadata": {
        "colab": {
          "base_uri": "https://localhost:8080/"
        },
        "id": "q_9nx3kygiHX",
        "outputId": "428595f0-dc28-42cf-9254-57d766716c9e"
      },
      "execution_count": null,
      "outputs": [
        {
          "output_type": "stream",
          "name": "stderr",
          "text": [
            "INFO:google.cloud.aiplatform.matching_engine.matching_engine_index_endpoint:Creating MatchingEngineIndexEndpoint\n",
            "INFO:google.cloud.aiplatform.matching_engine.matching_engine_index_endpoint:Create MatchingEngineIndexEndpoint backing LRO: projects/223914638453/locations/us-central1/indexEndpoints/2919832292396367872/operations/5487911607973445632\n",
            "INFO:google.cloud.aiplatform.matching_engine.matching_engine_index_endpoint:MatchingEngineIndexEndpoint created. Resource name: projects/223914638453/locations/us-central1/indexEndpoints/2919832292396367872\n",
            "INFO:google.cloud.aiplatform.matching_engine.matching_engine_index_endpoint:To use this MatchingEngineIndexEndpoint in another session:\n",
            "INFO:google.cloud.aiplatform.matching_engine.matching_engine_index_endpoint:index_endpoint = aiplatform.MatchingEngineIndexEndpoint('projects/223914638453/locations/us-central1/indexEndpoints/2919832292396367872')\n"
          ]
        },
        {
          "output_type": "stream",
          "name": "stdout",
          "text": [
            "Index endpoint resource name: 2919832292396367872\n",
            "Index endpoint public domain name: 1238255132.us-central1-223914638453.vdb.vertexai.goog\n"
          ]
        }
      ]
    },
    {
      "cell_type": "code",
      "source": [
        "# #Deploy Index to endpoint\n",
        "# # NOTE : This operation can take upto 20 minutes\n",
        "# my_index_endpoint = index_endpoint.deploy_index(\n",
        "#     index=my_index, deployed_index_id=\"langchain_index_endpoint_deployed_index\"\n",
        "# )\n",
        "\n",
        "# my_index_endpoint.deployed_indexes"
      ],
      "metadata": {
        "colab": {
          "base_uri": "https://localhost:8080/"
        },
        "id": "F6yyPxi0fFhd",
        "outputId": "be485520-0aaa-4a2b-c512-ed4b34891af7"
      },
      "execution_count": null,
      "outputs": [
        {
          "output_type": "stream",
          "name": "stderr",
          "text": [
            "INFO:google.cloud.aiplatform.matching_engine.matching_engine_index_endpoint:Deploying index MatchingEngineIndexEndpoint index_endpoint: projects/223914638453/locations/us-central1/indexEndpoints/2919832292396367872\n",
            "INFO:google.cloud.aiplatform.matching_engine.matching_engine_index_endpoint:Deploy index MatchingEngineIndexEndpoint index_endpoint backing LRO: projects/223914638453/locations/us-central1/indexEndpoints/2919832292396367872/operations/9132731081399730176\n",
            "INFO:google.cloud.aiplatform.matching_engine.matching_engine_index_endpoint:MatchingEngineIndexEndpoint index_endpoint Deployed index. Resource name: projects/223914638453/locations/us-central1/indexEndpoints/2919832292396367872\n"
          ]
        },
        {
          "output_type": "execute_result",
          "data": {
            "text/plain": [
              "[id: \"langchain_index_endpoint_deployed_index\"\n",
              "index: \"projects/223914638453/locations/us-central1/indexes/5634236230305579008\"\n",
              "create_time {\n",
              "  seconds: 1713616537\n",
              "  nanos: 759710000\n",
              "}\n",
              "index_sync_time {\n",
              "  seconds: 1713616537\n",
              "  nanos: 759710000\n",
              "}\n",
              "automatic_resources {\n",
              "  min_replica_count: 2\n",
              "  max_replica_count: 2\n",
              "}\n",
              "deployment_group: \"default\"\n",
              "]"
            ]
          },
          "metadata": {},
          "execution_count": 21
        }
      ]
    },
    {
      "cell_type": "markdown",
      "source": [
        "# Initialize LangChain Models\n",
        "You initialize LangChain Models with the pre-trained text, chat and embeddings generation model called text-bison@001, chat-bison@001 and textembedding-gecko@001 respectively."
      ],
      "metadata": {
        "id": "lL0iWBDrnK3E"
      }
    },
    {
      "cell_type": "code",
      "source": [
        "# Text model instance integrated with langChain\n",
        "llm = VertexAI(\n",
        "    model_name=\"text-bison@002\",\n",
        "    max_output_tokens=1024,\n",
        "    temperature=0.2,\n",
        "    top_p=0.8,\n",
        "    top_k=40,\n",
        "    verbose=True,\n",
        ")\n",
        "\n",
        "# Embeddings API integrated with langChain\n",
        "embeddings = VertexAIEmbeddings(\n",
        "    model_name= \"textembedding-gecko@003\"\n",
        ")"
      ],
      "metadata": {
        "id": "DK-qxDt0nKLQ"
      },
      "execution_count": null,
      "outputs": []
    },
    {
      "cell_type": "code",
      "source": [
        "# my_index.name='5634236230305579008'"
      ],
      "metadata": {
        "colab": {
          "base_uri": "https://localhost:8080/",
          "height": 35
        },
        "id": "MvLyhL1GwjkG",
        "outputId": "e6fe6d27-5ce5-480c-c120-4a346428f179"
      },
      "execution_count": null,
      "outputs": [
        {
          "output_type": "execute_result",
          "data": {
            "text/plain": [
              "'3387502966201122816'"
            ],
            "application/vnd.google.colaboratory.intrinsic+json": {
              "type": "string"
            }
          },
          "metadata": {},
          "execution_count": 42
        }
      ]
    },
    {
      "cell_type": "code",
      "source": [
        "#my_index.name"
      ],
      "metadata": {
        "colab": {
          "base_uri": "https://localhost:8080/",
          "height": 35
        },
        "id": "UvKxIEyykB8g",
        "outputId": "4e0e6082-fdf7-4d38-cc13-0ebafdaebc8e"
      },
      "execution_count": null,
      "outputs": [
        {
          "output_type": "execute_result",
          "data": {
            "text/plain": [
              "'5634236230305579008'"
            ],
            "application/vnd.google.colaboratory.intrinsic+json": {
              "type": "string"
            }
          },
          "metadata": {},
          "execution_count": 23
        }
      ]
    },
    {
      "cell_type": "code",
      "source": [
        "#index_endpoint.name"
      ],
      "metadata": {
        "colab": {
          "base_uri": "https://localhost:8080/",
          "height": 35
        },
        "id": "bgPRdsxrj-Mt",
        "outputId": "ed9bd14d-fbae-4c58-aaf8-88090a402ee0"
      },
      "execution_count": null,
      "outputs": [
        {
          "output_type": "execute_result",
          "data": {
            "text/plain": [
              "'2919832292396367872'"
            ],
            "application/vnd.google.colaboratory.intrinsic+json": {
              "type": "string"
            }
          },
          "metadata": {},
          "execution_count": 24
        }
      ]
    },
    {
      "cell_type": "code",
      "source": [
        "# index_endpoint.name='2919832292396367872'"
      ],
      "metadata": {
        "colab": {
          "base_uri": "https://localhost:8080/",
          "height": 35
        },
        "id": "JH5i06Pywkp9",
        "outputId": "afa87c72-25c3-40c2-a1a4-491ddfd92e6b"
      },
      "execution_count": null,
      "outputs": [
        {
          "output_type": "execute_result",
          "data": {
            "text/plain": [
              "'4871579780908056576'"
            ],
            "application/vnd.google.colaboratory.intrinsic+json": {
              "type": "string"
            }
          },
          "metadata": {},
          "execution_count": 43
        }
      ]
    },
    {
      "cell_type": "code",
      "source": [
        "#gcs_bucket_name='centering-river-118922-me-bucket'"
      ],
      "metadata": {
        "colab": {
          "base_uri": "https://localhost:8080/",
          "height": 35
        },
        "id": "7w5WT-eTw_7y",
        "outputId": "f79722b9-9122-4b42-c591-395c887ec646"
      },
      "execution_count": null,
      "outputs": [
        {
          "output_type": "execute_result",
          "data": {
            "text/plain": [
              "'centering-river-118922-me-bucket'"
            ],
            "application/vnd.google.colaboratory.intrinsic+json": {
              "type": "string"
            }
          },
          "metadata": {},
          "execution_count": 46
        }
      ]
    },
    {
      "cell_type": "markdown",
      "source": [
        "# Configure Matching Engine as Vector Store\n",
        "Initialize Matching Engine vector store with text embeddings model"
      ],
      "metadata": {
        "id": "6Qz3LDpunA64"
      }
    },
    {
      "cell_type": "code",
      "source": [
        "# initialize vector store\n",
        "me = VectorSearchVectorStore.from_components(\n",
        "    project_id=PROJECT_ID,\n",
        "    region='us-central1',\n",
        "    gcs_bucket_name=f\"gs://{ME_EMBEDDING_DIR}\".split(\"/\")[2],\n",
        "    embedding=embeddings,\n",
        "    index_id='5634236230305579008',\n",
        "    endpoint_id='2919832292396367872',\n",
        "    stream_update=True,\n",
        ")"
      ],
      "metadata": {
        "id": "FAA-H2NVnEHQ"
      },
      "execution_count": null,
      "outputs": []
    },
    {
      "cell_type": "markdown",
      "source": [
        "# Add documents as embeddings in Matching Engine as index\n",
        "The document chunks are transformed as embeddings (vectors) using Vertex AI Embeddings API and added to the index with streaming index update. With Streaming Updates, you can update and query your index within a few seconds.\n",
        "\n",
        "The original document text is stored on Cloud Storage bucket had referenced by id.\n",
        "\n",
        "Prepare text and metadata to be added to the vectors"
      ],
      "metadata": {
        "id": "syWpaTgWnWpH"
      }
    },
    {
      "cell_type": "code",
      "source": [
        "# # Store docs as embeddings in Matching Engine index\n",
        "# # It may take a while since API is rate limited\n",
        "# texts = [doc.page_content for doc in doc_splits]\n",
        "# metadatas = [doc.metadata for doc in doc_splits]"
      ],
      "metadata": {
        "id": "jYnOpjXnnWJy"
      },
      "execution_count": null,
      "outputs": []
    },
    {
      "cell_type": "code",
      "source": [
        "# print(len(texts))"
      ],
      "metadata": {
        "colab": {
          "base_uri": "https://localhost:8080/"
        },
        "id": "cCmgSHLLn8DV",
        "outputId": "882357d4-bd25-4377-eb84-538d29f4a78d"
      },
      "execution_count": null,
      "outputs": [
        {
          "output_type": "stream",
          "name": "stdout",
          "text": [
            "4405\n"
          ]
        }
      ]
    },
    {
      "cell_type": "code",
      "source": [
        "# print(len(texts[0]))"
      ],
      "metadata": {
        "colab": {
          "base_uri": "https://localhost:8080/"
        },
        "id": "bnvxd68unnzI",
        "outputId": "44b62888-e4ca-49a1-c4a5-a7b29ad4e111"
      },
      "execution_count": null,
      "outputs": [
        {
          "output_type": "stream",
          "name": "stdout",
          "text": [
            "706\n"
          ]
        }
      ]
    },
    {
      "cell_type": "code",
      "source": [
        "# for i in range (0 , len(texts)):\n",
        "#   if len(texts[i])>20000:\n",
        "#     print(texts[i])\n",
        "#     print(metadatas[i])\n"
      ],
      "metadata": {
        "id": "I6gRDYthnO3v"
      },
      "execution_count": null,
      "outputs": []
    },
    {
      "cell_type": "markdown",
      "source": [
        "# Add embeddings to the vector store\n",
        "\n",
        "NOTE: Depending on the volume and size of documents, this step may take time."
      ],
      "metadata": {
        "id": "bCZr1oNfnfDt"
      }
    },
    {
      "cell_type": "code",
      "source": [
        "# # This will add embedding to vector engine and it's respective text to GCS\n",
        "# for i in range (0 , len(texts) , 100):\n",
        "#     me.add_texts(texts[i:i+100], metadatas[i:i+100])"
      ],
      "metadata": {
        "colab": {
          "base_uri": "https://localhost:8080/"
        },
        "id": "srL03xYAqHw5",
        "outputId": "e96f8ea3-c6b2-47ab-dc69-c57a390d43da"
      },
      "execution_count": null,
      "outputs": [
        {
          "output_type": "stream",
          "name": "stderr",
          "text": [
            "INFO:google.cloud.aiplatform.matching_engine.matching_engine_index:Upserting datapoints MatchingEngineIndex index: projects/223914638453/locations/us-central1/indexes/5634236230305579008\n",
            "INFO:google.cloud.aiplatform.matching_engine.matching_engine_index:MatchingEngineIndex index Upserted datapoints. Resource name: projects/223914638453/locations/us-central1/indexes/5634236230305579008\n",
            "INFO:google.cloud.aiplatform.matching_engine.matching_engine_index:Upserting datapoints MatchingEngineIndex index: projects/223914638453/locations/us-central1/indexes/5634236230305579008\n",
            "INFO:google.cloud.aiplatform.matching_engine.matching_engine_index:MatchingEngineIndex index Upserted datapoints. Resource name: projects/223914638453/locations/us-central1/indexes/5634236230305579008\n",
            "INFO:google.cloud.aiplatform.matching_engine.matching_engine_index:Upserting datapoints MatchingEngineIndex index: projects/223914638453/locations/us-central1/indexes/5634236230305579008\n",
            "INFO:google.cloud.aiplatform.matching_engine.matching_engine_index:MatchingEngineIndex index Upserted datapoints. Resource name: projects/223914638453/locations/us-central1/indexes/5634236230305579008\n",
            "INFO:google.cloud.aiplatform.matching_engine.matching_engine_index:Upserting datapoints MatchingEngineIndex index: projects/223914638453/locations/us-central1/indexes/5634236230305579008\n",
            "INFO:google.cloud.aiplatform.matching_engine.matching_engine_index:MatchingEngineIndex index Upserted datapoints. Resource name: projects/223914638453/locations/us-central1/indexes/5634236230305579008\n",
            "INFO:google.cloud.aiplatform.matching_engine.matching_engine_index:Upserting datapoints MatchingEngineIndex index: projects/223914638453/locations/us-central1/indexes/5634236230305579008\n",
            "INFO:google.cloud.aiplatform.matching_engine.matching_engine_index:MatchingEngineIndex index Upserted datapoints. Resource name: projects/223914638453/locations/us-central1/indexes/5634236230305579008\n",
            "INFO:google.cloud.aiplatform.matching_engine.matching_engine_index:Upserting datapoints MatchingEngineIndex index: projects/223914638453/locations/us-central1/indexes/5634236230305579008\n",
            "INFO:google.cloud.aiplatform.matching_engine.matching_engine_index:MatchingEngineIndex index Upserted datapoints. Resource name: projects/223914638453/locations/us-central1/indexes/5634236230305579008\n",
            "INFO:google.cloud.aiplatform.matching_engine.matching_engine_index:Upserting datapoints MatchingEngineIndex index: projects/223914638453/locations/us-central1/indexes/5634236230305579008\n",
            "INFO:google.cloud.aiplatform.matching_engine.matching_engine_index:MatchingEngineIndex index Upserted datapoints. Resource name: projects/223914638453/locations/us-central1/indexes/5634236230305579008\n",
            "INFO:google.cloud.aiplatform.matching_engine.matching_engine_index:Upserting datapoints MatchingEngineIndex index: projects/223914638453/locations/us-central1/indexes/5634236230305579008\n",
            "INFO:google.cloud.aiplatform.matching_engine.matching_engine_index:MatchingEngineIndex index Upserted datapoints. Resource name: projects/223914638453/locations/us-central1/indexes/5634236230305579008\n",
            "INFO:google.cloud.aiplatform.matching_engine.matching_engine_index:Upserting datapoints MatchingEngineIndex index: projects/223914638453/locations/us-central1/indexes/5634236230305579008\n",
            "INFO:google.cloud.aiplatform.matching_engine.matching_engine_index:MatchingEngineIndex index Upserted datapoints. Resource name: projects/223914638453/locations/us-central1/indexes/5634236230305579008\n",
            "INFO:google.cloud.aiplatform.matching_engine.matching_engine_index:Upserting datapoints MatchingEngineIndex index: projects/223914638453/locations/us-central1/indexes/5634236230305579008\n",
            "INFO:google.cloud.aiplatform.matching_engine.matching_engine_index:MatchingEngineIndex index Upserted datapoints. Resource name: projects/223914638453/locations/us-central1/indexes/5634236230305579008\n",
            "INFO:google.cloud.aiplatform.matching_engine.matching_engine_index:Upserting datapoints MatchingEngineIndex index: projects/223914638453/locations/us-central1/indexes/5634236230305579008\n",
            "INFO:google.cloud.aiplatform.matching_engine.matching_engine_index:MatchingEngineIndex index Upserted datapoints. Resource name: projects/223914638453/locations/us-central1/indexes/5634236230305579008\n",
            "INFO:google.cloud.aiplatform.matching_engine.matching_engine_index:Upserting datapoints MatchingEngineIndex index: projects/223914638453/locations/us-central1/indexes/5634236230305579008\n",
            "INFO:google.cloud.aiplatform.matching_engine.matching_engine_index:MatchingEngineIndex index Upserted datapoints. Resource name: projects/223914638453/locations/us-central1/indexes/5634236230305579008\n",
            "INFO:google.cloud.aiplatform.matching_engine.matching_engine_index:Upserting datapoints MatchingEngineIndex index: projects/223914638453/locations/us-central1/indexes/5634236230305579008\n",
            "INFO:google.cloud.aiplatform.matching_engine.matching_engine_index:MatchingEngineIndex index Upserted datapoints. Resource name: projects/223914638453/locations/us-central1/indexes/5634236230305579008\n",
            "INFO:google.cloud.aiplatform.matching_engine.matching_engine_index:Upserting datapoints MatchingEngineIndex index: projects/223914638453/locations/us-central1/indexes/5634236230305579008\n",
            "INFO:google.cloud.aiplatform.matching_engine.matching_engine_index:MatchingEngineIndex index Upserted datapoints. Resource name: projects/223914638453/locations/us-central1/indexes/5634236230305579008\n",
            "INFO:google.cloud.aiplatform.matching_engine.matching_engine_index:Upserting datapoints MatchingEngineIndex index: projects/223914638453/locations/us-central1/indexes/5634236230305579008\n",
            "INFO:google.cloud.aiplatform.matching_engine.matching_engine_index:MatchingEngineIndex index Upserted datapoints. Resource name: projects/223914638453/locations/us-central1/indexes/5634236230305579008\n",
            "INFO:google.cloud.aiplatform.matching_engine.matching_engine_index:Upserting datapoints MatchingEngineIndex index: projects/223914638453/locations/us-central1/indexes/5634236230305579008\n",
            "INFO:google.cloud.aiplatform.matching_engine.matching_engine_index:MatchingEngineIndex index Upserted datapoints. Resource name: projects/223914638453/locations/us-central1/indexes/5634236230305579008\n",
            "INFO:google.cloud.aiplatform.matching_engine.matching_engine_index:Upserting datapoints MatchingEngineIndex index: projects/223914638453/locations/us-central1/indexes/5634236230305579008\n",
            "INFO:google.cloud.aiplatform.matching_engine.matching_engine_index:MatchingEngineIndex index Upserted datapoints. Resource name: projects/223914638453/locations/us-central1/indexes/5634236230305579008\n",
            "INFO:google.cloud.aiplatform.matching_engine.matching_engine_index:Upserting datapoints MatchingEngineIndex index: projects/223914638453/locations/us-central1/indexes/5634236230305579008\n",
            "INFO:google.cloud.aiplatform.matching_engine.matching_engine_index:MatchingEngineIndex index Upserted datapoints. Resource name: projects/223914638453/locations/us-central1/indexes/5634236230305579008\n",
            "INFO:google.cloud.aiplatform.matching_engine.matching_engine_index:Upserting datapoints MatchingEngineIndex index: projects/223914638453/locations/us-central1/indexes/5634236230305579008\n",
            "INFO:google.cloud.aiplatform.matching_engine.matching_engine_index:MatchingEngineIndex index Upserted datapoints. Resource name: projects/223914638453/locations/us-central1/indexes/5634236230305579008\n",
            "INFO:google.cloud.aiplatform.matching_engine.matching_engine_index:Upserting datapoints MatchingEngineIndex index: projects/223914638453/locations/us-central1/indexes/5634236230305579008\n",
            "INFO:google.cloud.aiplatform.matching_engine.matching_engine_index:MatchingEngineIndex index Upserted datapoints. Resource name: projects/223914638453/locations/us-central1/indexes/5634236230305579008\n",
            "INFO:google.cloud.aiplatform.matching_engine.matching_engine_index:Upserting datapoints MatchingEngineIndex index: projects/223914638453/locations/us-central1/indexes/5634236230305579008\n",
            "INFO:google.cloud.aiplatform.matching_engine.matching_engine_index:MatchingEngineIndex index Upserted datapoints. Resource name: projects/223914638453/locations/us-central1/indexes/5634236230305579008\n",
            "INFO:google.cloud.aiplatform.matching_engine.matching_engine_index:Upserting datapoints MatchingEngineIndex index: projects/223914638453/locations/us-central1/indexes/5634236230305579008\n",
            "INFO:google.cloud.aiplatform.matching_engine.matching_engine_index:MatchingEngineIndex index Upserted datapoints. Resource name: projects/223914638453/locations/us-central1/indexes/5634236230305579008\n",
            "INFO:google.cloud.aiplatform.matching_engine.matching_engine_index:Upserting datapoints MatchingEngineIndex index: projects/223914638453/locations/us-central1/indexes/5634236230305579008\n",
            "INFO:google.cloud.aiplatform.matching_engine.matching_engine_index:MatchingEngineIndex index Upserted datapoints. Resource name: projects/223914638453/locations/us-central1/indexes/5634236230305579008\n",
            "INFO:google.cloud.aiplatform.matching_engine.matching_engine_index:Upserting datapoints MatchingEngineIndex index: projects/223914638453/locations/us-central1/indexes/5634236230305579008\n",
            "INFO:google.cloud.aiplatform.matching_engine.matching_engine_index:MatchingEngineIndex index Upserted datapoints. Resource name: projects/223914638453/locations/us-central1/indexes/5634236230305579008\n",
            "INFO:google.cloud.aiplatform.matching_engine.matching_engine_index:Upserting datapoints MatchingEngineIndex index: projects/223914638453/locations/us-central1/indexes/5634236230305579008\n",
            "INFO:google.cloud.aiplatform.matching_engine.matching_engine_index:MatchingEngineIndex index Upserted datapoints. Resource name: projects/223914638453/locations/us-central1/indexes/5634236230305579008\n",
            "INFO:google.cloud.aiplatform.matching_engine.matching_engine_index:Upserting datapoints MatchingEngineIndex index: projects/223914638453/locations/us-central1/indexes/5634236230305579008\n",
            "INFO:google.cloud.aiplatform.matching_engine.matching_engine_index:MatchingEngineIndex index Upserted datapoints. Resource name: projects/223914638453/locations/us-central1/indexes/5634236230305579008\n",
            "INFO:google.cloud.aiplatform.matching_engine.matching_engine_index:Upserting datapoints MatchingEngineIndex index: projects/223914638453/locations/us-central1/indexes/5634236230305579008\n",
            "INFO:google.cloud.aiplatform.matching_engine.matching_engine_index:MatchingEngineIndex index Upserted datapoints. Resource name: projects/223914638453/locations/us-central1/indexes/5634236230305579008\n",
            "INFO:google.cloud.aiplatform.matching_engine.matching_engine_index:Upserting datapoints MatchingEngineIndex index: projects/223914638453/locations/us-central1/indexes/5634236230305579008\n",
            "INFO:google.cloud.aiplatform.matching_engine.matching_engine_index:MatchingEngineIndex index Upserted datapoints. Resource name: projects/223914638453/locations/us-central1/indexes/5634236230305579008\n",
            "INFO:google.cloud.aiplatform.matching_engine.matching_engine_index:Upserting datapoints MatchingEngineIndex index: projects/223914638453/locations/us-central1/indexes/5634236230305579008\n",
            "INFO:google.cloud.aiplatform.matching_engine.matching_engine_index:MatchingEngineIndex index Upserted datapoints. Resource name: projects/223914638453/locations/us-central1/indexes/5634236230305579008\n",
            "INFO:google.cloud.aiplatform.matching_engine.matching_engine_index:Upserting datapoints MatchingEngineIndex index: projects/223914638453/locations/us-central1/indexes/5634236230305579008\n",
            "INFO:google.cloud.aiplatform.matching_engine.matching_engine_index:MatchingEngineIndex index Upserted datapoints. Resource name: projects/223914638453/locations/us-central1/indexes/5634236230305579008\n",
            "INFO:google.cloud.aiplatform.matching_engine.matching_engine_index:Upserting datapoints MatchingEngineIndex index: projects/223914638453/locations/us-central1/indexes/5634236230305579008\n",
            "INFO:google.cloud.aiplatform.matching_engine.matching_engine_index:MatchingEngineIndex index Upserted datapoints. Resource name: projects/223914638453/locations/us-central1/indexes/5634236230305579008\n",
            "INFO:google.cloud.aiplatform.matching_engine.matching_engine_index:Upserting datapoints MatchingEngineIndex index: projects/223914638453/locations/us-central1/indexes/5634236230305579008\n",
            "INFO:google.cloud.aiplatform.matching_engine.matching_engine_index:MatchingEngineIndex index Upserted datapoints. Resource name: projects/223914638453/locations/us-central1/indexes/5634236230305579008\n",
            "INFO:google.cloud.aiplatform.matching_engine.matching_engine_index:Upserting datapoints MatchingEngineIndex index: projects/223914638453/locations/us-central1/indexes/5634236230305579008\n",
            "INFO:google.cloud.aiplatform.matching_engine.matching_engine_index:MatchingEngineIndex index Upserted datapoints. Resource name: projects/223914638453/locations/us-central1/indexes/5634236230305579008\n",
            "INFO:google.cloud.aiplatform.matching_engine.matching_engine_index:Upserting datapoints MatchingEngineIndex index: projects/223914638453/locations/us-central1/indexes/5634236230305579008\n",
            "INFO:google.cloud.aiplatform.matching_engine.matching_engine_index:MatchingEngineIndex index Upserted datapoints. Resource name: projects/223914638453/locations/us-central1/indexes/5634236230305579008\n",
            "INFO:google.cloud.aiplatform.matching_engine.matching_engine_index:Upserting datapoints MatchingEngineIndex index: projects/223914638453/locations/us-central1/indexes/5634236230305579008\n",
            "INFO:google.cloud.aiplatform.matching_engine.matching_engine_index:MatchingEngineIndex index Upserted datapoints. Resource name: projects/223914638453/locations/us-central1/indexes/5634236230305579008\n",
            "INFO:google.cloud.aiplatform.matching_engine.matching_engine_index:Upserting datapoints MatchingEngineIndex index: projects/223914638453/locations/us-central1/indexes/5634236230305579008\n",
            "INFO:google.cloud.aiplatform.matching_engine.matching_engine_index:MatchingEngineIndex index Upserted datapoints. Resource name: projects/223914638453/locations/us-central1/indexes/5634236230305579008\n",
            "INFO:google.cloud.aiplatform.matching_engine.matching_engine_index:Upserting datapoints MatchingEngineIndex index: projects/223914638453/locations/us-central1/indexes/5634236230305579008\n",
            "INFO:google.cloud.aiplatform.matching_engine.matching_engine_index:MatchingEngineIndex index Upserted datapoints. Resource name: projects/223914638453/locations/us-central1/indexes/5634236230305579008\n",
            "INFO:google.cloud.aiplatform.matching_engine.matching_engine_index:Upserting datapoints MatchingEngineIndex index: projects/223914638453/locations/us-central1/indexes/5634236230305579008\n",
            "INFO:google.cloud.aiplatform.matching_engine.matching_engine_index:MatchingEngineIndex index Upserted datapoints. Resource name: projects/223914638453/locations/us-central1/indexes/5634236230305579008\n",
            "INFO:google.cloud.aiplatform.matching_engine.matching_engine_index:Upserting datapoints MatchingEngineIndex index: projects/223914638453/locations/us-central1/indexes/5634236230305579008\n",
            "INFO:google.cloud.aiplatform.matching_engine.matching_engine_index:MatchingEngineIndex index Upserted datapoints. Resource name: projects/223914638453/locations/us-central1/indexes/5634236230305579008\n",
            "INFO:google.cloud.aiplatform.matching_engine.matching_engine_index:Upserting datapoints MatchingEngineIndex index: projects/223914638453/locations/us-central1/indexes/5634236230305579008\n",
            "INFO:google.cloud.aiplatform.matching_engine.matching_engine_index:MatchingEngineIndex index Upserted datapoints. Resource name: projects/223914638453/locations/us-central1/indexes/5634236230305579008\n",
            "INFO:google.cloud.aiplatform.matching_engine.matching_engine_index:Upserting datapoints MatchingEngineIndex index: projects/223914638453/locations/us-central1/indexes/5634236230305579008\n",
            "INFO:google.cloud.aiplatform.matching_engine.matching_engine_index:MatchingEngineIndex index Upserted datapoints. Resource name: projects/223914638453/locations/us-central1/indexes/5634236230305579008\n",
            "INFO:google.cloud.aiplatform.matching_engine.matching_engine_index:Upserting datapoints MatchingEngineIndex index: projects/223914638453/locations/us-central1/indexes/5634236230305579008\n",
            "INFO:google.cloud.aiplatform.matching_engine.matching_engine_index:MatchingEngineIndex index Upserted datapoints. Resource name: projects/223914638453/locations/us-central1/indexes/5634236230305579008\n",
            "INFO:google.cloud.aiplatform.matching_engine.matching_engine_index:Upserting datapoints MatchingEngineIndex index: projects/223914638453/locations/us-central1/indexes/5634236230305579008\n",
            "INFO:google.cloud.aiplatform.matching_engine.matching_engine_index:MatchingEngineIndex index Upserted datapoints. Resource name: projects/223914638453/locations/us-central1/indexes/5634236230305579008\n",
            "INFO:google.cloud.aiplatform.matching_engine.matching_engine_index:Upserting datapoints MatchingEngineIndex index: projects/223914638453/locations/us-central1/indexes/5634236230305579008\n",
            "INFO:google.cloud.aiplatform.matching_engine.matching_engine_index:MatchingEngineIndex index Upserted datapoints. Resource name: projects/223914638453/locations/us-central1/indexes/5634236230305579008\n",
            "INFO:google.cloud.aiplatform.matching_engine.matching_engine_index:Upserting datapoints MatchingEngineIndex index: projects/223914638453/locations/us-central1/indexes/5634236230305579008\n",
            "INFO:google.cloud.aiplatform.matching_engine.matching_engine_index:MatchingEngineIndex index Upserted datapoints. Resource name: projects/223914638453/locations/us-central1/indexes/5634236230305579008\n"
          ]
        }
      ]
    },
    {
      "cell_type": "code",
      "source": [
        "# # # This will add embedding to vector engine and it's respective text to GCS\n",
        "# # for i in range (0 , len(texts) , 500):\n",
        "# #     me.add_texts(texts[i:i+500], metadatas[i:i+500])\n",
        "# INFO:google.cloud.aiplatform.matching_engine.matching_engine_index:Upserting datapoints MatchingEngineIndex index: projects/223914638453/locations/us-central1/indexes/5634236230305579008\n",
        "# INFO:google.cloud.aiplatform.matching_engine.matching_engine_index:MatchingEngineIndex index Upserted datapoints. Resource name: projects/223914638453/locations/us-central1/indexes/5634236230305579008\n",
        "# INFO:google.cloud.aiplatform.matching_engine.matching_engine_index:Upserting datapoints MatchingEngineIndex index: projects/223914638453/locations/us-central1/indexes/5634236230305579008\n",
        "# INFO:google.cloud.aiplatform.matching_engine.matching_engine_index:MatchingEngineIndex index Upserted datapoints. Resource name: projects/223914638453/locations/us-central1/indexes/5634236230305579008\n",
        "# INFO:google.cloud.aiplatform.matching_engine.matching_engine_index:Upserting datapoints MatchingEngineIndex index: projects/223914638453/locations/us-central1/indexes/5634236230305579008\n",
        "# INFO:google.cloud.aiplatform.matching_engine.matching_engine_index:MatchingEngineIndex index Upserted datapoints. Resource name: projects/223914638453/locations/us-central1/indexes/5634236230305579008\n",
        "# ---------------------------------------------------------------------------\n",
        "# _InactiveRpcError                         Traceback (most recent call last)\n",
        "# /usr/local/lib/python3.10/dist-packages/google/api_core/grpc_helpers.py in error_remapped_callable(*args, **kwargs)\n",
        "#      71         try:\n",
        "# ---> 72             return callable_(*args, **kwargs)\n",
        "#      73         except grpc.RpcError as exc:\n",
        "\n",
        "# 21 frames\n",
        "# _InactiveRpcError: <_InactiveRpcError of RPC that terminated with:\n",
        "# \tstatus = StatusCode.INVALID_ARGUMENT\n",
        "# \tdetails = \"Unable to submit request because the input token count is 20926 but the model supports up to 20000. Reduce the input token count and try again. You can also use the CountTokens API to calculate prompt token count and billable characters. Learn more: https://cloud.google.com/vertex-ai/generative-ai/docs/learn/models\"\n",
        "# \tdebug_error_string = \"UNKNOWN:Error received from peer ipv4:108.177.11.95:443 {grpc_message:\"Unable to submit request because the input token count is 20926 but the model supports up to 20000. Reduce the input token count and try again. You can also use the CountTokens API to calculate prompt token count and billable characters. Learn more: https://cloud.google.com/vertex-ai/generative-ai/docs/learn/models\", grpc_status:3, created_time:\"2024-04-20T13:14:06.404622008+00:00\"}\"\n",
        "# >\n",
        "\n",
        "# The above exception was the direct cause of the following exception:\n",
        "\n",
        "# InvalidArgument                           Traceback (most recent call last)\n",
        "# /usr/local/lib/python3.10/dist-packages/google/api_core/grpc_helpers.py in error_remapped_callable(*args, **kwargs)\n",
        "#      72             return callable_(*args, **kwargs)\n",
        "#      73         except grpc.RpcError as exc:\n",
        "# ---> 74             raise exceptions.from_grpc_error(exc) from exc\n",
        "#      75\n",
        "#      76     return error_remapped_callable\n",
        "\n",
        "# InvalidArgument: 400 Unable to submit request because the input token count is 20926 but the model supports up to 20000. Reduce the input token count and try again. You can also use the CountTokens API to calculate prompt token count and billable characters. Learn more: https://cloud.google.com/vertex-ai/generative-ai/docs/learn/models"
      ],
      "metadata": {
        "id": "w4hgbs1cndDy"
      },
      "execution_count": null,
      "outputs": []
    },
    {
      "cell_type": "code",
      "source": [
        "me.similarity_search(\"prolong alcohol intake impact human health?\", k=5)"
      ],
      "metadata": {
        "colab": {
          "base_uri": "https://localhost:8080/"
        },
        "id": "WtJX-e9hqZ1D",
        "outputId": "919738e6-64b6-405e-8e60-5c97030eb903"
      },
      "execution_count": null,
      "outputs": [
        {
          "output_type": "execute_result",
          "data": {
            "text/plain": [
              "[Document(page_content='content: Open Access Review Article DOI: 10.7759/cureus.30057 Effects of Alcohol Consumption on Various Systems of the Human Body: A Systematic Review Jerin Varghese 1 , Sarika Dakhode 2 Received 09/16/2022 Review began 09/20/2022 Review ended 09/30/2022 1. Medical School, Jawaharlal Nehru Medical College, Datta Meghe Institute of Medical Sciences, Wardha, IND 2. Published 10/08/2022 Community Medicine, Jawaharlal Nehru Medical College, Datta Meghe Institute of Medical Sciences, Wardha, IND Varghese et al. This is an open access Corresponding author: Jerin Varghese, jerinazero@gmail.com article distributed under the terms of the Creative Commons Attribution License CC- BY 4.0., which permits unrestricted use, distribution, and reproduction in any Abstract medium, provided the original author and source are credited. Prolonged alcohol intake for many years has been known to cause serious ailments in human beings since time memorial', metadata={'source': 'Title: Effects of Alcohol Consumption on Various Systems of the Human BodyA Systematic Review.pdf,page:1', 'chunk': 2630}),\n",
              " Document(page_content='content: Does alcohol cause brain changes? For ethical reasons, it is not possible to conduct prospective research on the subject of alcohol use and brain effects in children and young people. However, the available observational evidence suggests that adolescents are likely to be more vulnerable than adults to both subtle brain damage and long lasting cognitive deficits following significant alcohol exposure [25]. Cognitive and learning impairments from chronic heavy exposure to alcohol can arise from the neuro-toxic effects of ethanol on vulnerable hippocampus and limbic structures. Research findings from animal models and observational human studies have shown that persistent alcohol abuse can result in a decrease in the overall volume of the hippocampus, the area responsible for long term learning and memory [25]', metadata={'source': 'Title: Impact of Alcohol Consumption on Young People.pdf,page:24', 'chunk': 1171}),\n",
              " Document(page_content='content: Does alcohol cause brain changes? For ethical reasons, it is not possible to conduct prospective research on the subject of alcohol use and brain effects in children and young people. However, the available observational evidence suggests that adolescents are likely to be more vulnerable than adults to both subtle brain damage and long lasting cognitive deficits following significant alcohol exposure [25]. Cognitive and learning impairments from chronic heavy exposure to alcohol can arise from the neuro-toxic effects of ethanol on vulnerable hippocampus and limbic structures. Research findings from animal models and observational human studies have shown that persistent alcohol abuse can result in a decrease in the overall volume of the hippocampus, the area responsible for long term learning and memory [25]', metadata={'source': 'Title: Impact of Alcohol Consumption on Young People.pdf,page:24', 'chunk': 1171}),\n",
              " Document(page_content='content: Does alcohol cause brain changes? For ethical reasons, it is not possible to conduct prospective research on the subject of alcohol use and brain effects in children and young people. However, the available observational evidence suggests that adolescents are likely to be more vulnerable than adults to both subtle brain damage and long lasting cognitive deficits following significant alcohol exposure [25]. Cognitive and learning impairments from chronic heavy exposure to alcohol can arise from the neuro-toxic effects of ethanol on vulnerable hippocampus and limbic structures. Research findings from animal models and observational human studies have shown that persistent alcohol abuse can result in a decrease in the overall volume of the hippocampus, the area responsible for long term learning and memory [25]', metadata={'source': 'Title: Impact of Alcohol Consumption on Young People.pdf,page:24', 'chunk': 1171}),\n",
              " Document(page_content='.\" (Abraham J, 1995) \"The conclusion that a certain amount of alcohol can have a beneficial effect on personal health, decreasing mortality from some major conditions to such an extent that it more than compensates for an increased mortality from other conditions, greatly complicates the formation of public health policy. Before a beneficial effect was appreciated, policy could, and generally did, aim to discourage drinking altogether. Policies aimed solely at reducing heavy drinking had little success and the most effective means of reducing alcohol abuse seemed to be a policy aimed at reducing the average amount consumed by the population as a whole..', metadata={'source': 'Title: Gururaj_-Alcohol-report-NIMHANS.pdf,page:132', 'chunk': 3446})]"
            ]
          },
          "metadata": {},
          "execution_count": 60
        }
      ]
    },
    {
      "cell_type": "code",
      "source": [
        "me.asimilarity_search_with_score(\"prolong alcohol intake impact human health?\", k=5)"
      ],
      "metadata": {
        "colab": {
          "base_uri": "https://localhost:8080/"
        },
        "id": "Gvl6OyNGnCB4",
        "outputId": "cb1d3661-8476-4ce2-a0ca-2773e3a9fda4"
      },
      "execution_count": null,
      "outputs": [
        {
          "output_type": "execute_result",
          "data": {
            "text/plain": [
              "<coroutine object VectorStore.asimilarity_search_with_score at 0x7c1951ee3060>"
            ]
          },
          "metadata": {},
          "execution_count": 61
        }
      ]
    },
    {
      "cell_type": "code",
      "source": [
        "me.similarity_search(\"What is e-cigarrette?\", k=5)"
      ],
      "metadata": {
        "colab": {
          "base_uri": "https://localhost:8080/"
        },
        "id": "0pvoFNHH-wlE",
        "outputId": "6e18b49c-ff17-492a-e949-18734a454591"
      },
      "execution_count": null,
      "outputs": [
        {
          "output_type": "execute_result",
          "data": {
            "text/plain": [
              "[Document(page_content='content: Electronic cigarettes (e-cigarettes) are devices that allow the user to inhale nicotine in a vapor, and are primarily marketed as a means of quitting smoking and a less harmful replacement for traditional cigarette smoking. However, further research is needed to determine if vaping nicotine via e-cigarettes can be effective. Conversely, nicotine has been considered a gateway drug to alcohol and other addictive drugs and e-cigarettes containing nicotine may have the same effects. Previous reports have shown that e-cigarette use may open the gate for the use of other drugs including conventional cigarettes, cannabis, opioids, etc. The increasing prevalence of e-cigarettes, particularly among youth and adolescents in the last decade have led to an increase in the dual use of e-cigarettes with alcohol, cannabis, and other illicit drug use like heroin and 3-4-methylenedioxymethamphetamine (MDMA)', metadata={'source': 'Title: E-cigarettes may serve as a gateway to conventional cigarettes and other addictive drugs.page:38389821', 'chunk': 1241}),\n",
              " Document(page_content='content: Electronic cigarettes (e-cigarettes) are devices that allow the user to inhale nicotine in a vapor, and are primarily marketed as a means of quitting smoking and a less harmful replacement for traditional cigarette smoking. However, further research is needed to determine if vaping nicotine via e-cigarettes can be effective. Conversely, nicotine has been considered a gateway drug to alcohol and other addictive drugs and e-cigarettes containing nicotine may have the same effects. Previous reports have shown that e-cigarette use may open the gate for the use of other drugs including conventional cigarettes, cannabis, opioids, etc. The increasing prevalence of e-cigarettes, particularly among youth and adolescents in the last decade have led to an increase in the dual use of e-cigarettes with alcohol, cannabis, and other illicit drug use like heroin and 3-4-methylenedioxymethamphetamine (MDMA)', metadata={'source': 'Title: E-cigarettes may serve as a gateway to conventional cigarettes and other addictive drugs.page:38389821', 'chunk': 1241}),\n",
              " Document(page_content='content: Electronic cigarettes (e-cigarettes) are devices that allow the user to inhale nicotine in a vapor, and are primarily marketed as a means of quitting smoking and a less harmful replacement for traditional cigarette smoking. However, further research is needed to determine if vaping nicotine via e-cigarettes can be effective. Conversely, nicotine has been considered a gateway drug to alcohol and other addictive drugs and e-cigarettes containing nicotine may have the same effects. Previous reports have shown that e-cigarette use may open the gate for the use of other drugs including conventional cigarettes, cannabis, opioids, etc. The increasing prevalence of e-cigarettes, particularly among youth and adolescents in the last decade have led to an increase in the dual use of e-cigarettes with alcohol, cannabis, and other illicit drug use like heroin and 3-4-methylenedioxymethamphetamine (MDMA)', metadata={'source': 'Title: E-cigarettes may serve as a gateway to conventional cigarettes and other addictive drugs.page:38389821', 'chunk': 1241}),\n",
              " Document(page_content='. The advent of e-cigarettes as a device to self-administer addictive agents such as cocaine and synthetic cathinones may bring about additional adverse health effects associated with their concurrent use. This review aims to briefly describe e-cigarettes and their different generations, and their co-use with other addictive drugs as well as the use of the device as a tool to self-administer addictive drugs, such as cocaine, etc.', metadata={'source': 'Title: E-cigarettes may serve as a gateway to conventional cigarettes and other addictive drugs.page:38389821', 'chunk': 1242}),\n",
              " Document(page_content='. The advent of e-cigarettes as a device to self-administer addictive agents such as cocaine and synthetic cathinones may bring about additional adverse health effects associated with their concurrent use. This review aims to briefly describe e-cigarettes and their different generations, and their co-use with other addictive drugs as well as the use of the device as a tool to self-administer addictive drugs, such as cocaine, etc.', metadata={'source': 'Title: E-cigarettes may serve as a gateway to conventional cigarettes and other addictive drugs.page:38389821', 'chunk': 1242})]"
            ]
          },
          "metadata": {},
          "execution_count": 62
        }
      ]
    },
    {
      "cell_type": "code",
      "source": [
        "# Create chain to answer questions\n",
        "NUMBER_OF_RESULTS = 5\n",
        "SEARCH_DISTANCE_THRESHOLD = 0.8\n",
        "\n",
        "# Expose index to the retriever\n",
        "retriever = me.as_retriever(\n",
        "    search_type=\"similarity\",\n",
        "    search_kwargs={\n",
        "        \"k\": NUMBER_OF_RESULTS,\n",
        "        \"search_distance\": SEARCH_DISTANCE_THRESHOLD,\n",
        "    },\n",
        "    filters=None,\n",
        ")"
      ],
      "metadata": {
        "id": "JY4zDrJfqxmK"
      },
      "execution_count": null,
      "outputs": []
    },
    {
      "cell_type": "code",
      "source": [
        "template = \"\"\"SYSTEM: You are an intelligent assistant helping the users with their questions on research papers.\n",
        "\n",
        "Question: {question}\n",
        "\n",
        "Strictly Use ONLY the following pieces of context to answer the question at the end. Think step-by-step and then answer.\n",
        "\n",
        "Do not try to make up an answer:\n",
        " - If the answer to the question cannot be determined from the context alone, say \"I cannot determine the answer to that.\"\n",
        " - If the context is empty, just say \"I do not know the answer to that.\"\n",
        "\n",
        "=============\n",
        "{context}\n",
        "=============\n",
        "\n",
        "Question: {question}\n",
        "Helpful Answer:\"\"\""
      ],
      "metadata": {
        "id": "GPGl1I3aqznh"
      },
      "execution_count": null,
      "outputs": []
    },
    {
      "cell_type": "code",
      "source": [
        "# Uses LLM to synthesize results from the search index.\n",
        "# Use Vertex PaLM Text API for LLM\n",
        "qa = RetrievalQA.from_chain_type(\n",
        "    llm=llm,\n",
        "    chain_type=\"stuff\",\n",
        "    retriever=retriever,\n",
        "    return_source_documents=True,\n",
        "    verbose=True,\n",
        "    chain_type_kwargs={\n",
        "        \"prompt\": PromptTemplate(\n",
        "            template=template,\n",
        "            input_variables=[\"context\", \"question\"],\n",
        "        ),\n",
        "    },\n",
        ")"
      ],
      "metadata": {
        "id": "O_FrJhr-q49L"
      },
      "execution_count": null,
      "outputs": []
    },
    {
      "cell_type": "code",
      "source": [
        "# Enable for troubleshooting\n",
        "qa.combine_documents_chain.verbose = True\n",
        "qa.combine_documents_chain.llm_chain.verbose = True\n",
        "qa.combine_documents_chain.llm_chain.llm.verbose = True"
      ],
      "metadata": {
        "id": "gHWLQIiHq7pV"
      },
      "execution_count": null,
      "outputs": []
    },
    {
      "cell_type": "code",
      "source": [
        "def formatter(result):\n",
        "    print(f\"Query: {result['query']}\")\n",
        "    print(\".\" * 80)\n",
        "    if \"source_documents\" in result.keys():\n",
        "        for idx, ref in enumerate(result[\"source_documents\"]):\n",
        "            print(\"-\" * 80)\n",
        "            print(f\"REFERENCE #{idx}\")\n",
        "            print(\"-\" * 80)\n",
        "            if \"score\" in ref.metadata:\n",
        "                print(f\"Matching Score: {ref.metadata['score']}\")\n",
        "            if \"source\" in ref.metadata:\n",
        "                print(f\"Document Source: {ref.metadata['source']}\")\n",
        "            if \"document_name\" in ref.metadata:\n",
        "                print(f\"Document Name: {ref.metadata['document_name']}\")\n",
        "            print(\".\" * 80)\n",
        "            print(f\"Content: \\n{wrap(ref.page_content)}\")\n",
        "    print(\".\" * 80)\n",
        "    print(f\"Response: {wrap(result['result'])}\")\n",
        "    print(\".\" * 80)\n",
        "\n",
        "\n",
        "def wrap(s):\n",
        "    return \"\\n\".join(textwrap.wrap(s, width=120, break_long_words=False))\n",
        "\n",
        "\n",
        "def ask(\n",
        "    query,\n",
        "    qa=qa,\n",
        "    k=NUMBER_OF_RESULTS,\n",
        "    search_distance=SEARCH_DISTANCE_THRESHOLD,\n",
        "    filters={},\n",
        "):\n",
        "    qa.retriever.search_kwargs[\"search_distance\"] = search_distance\n",
        "    qa.retriever.search_kwargs[\"k\"] = k\n",
        "    qa.retriever.search_kwargs[\"filters\"] = filters\n",
        "    result = qa({\"query\": query})\n",
        "    return formatter(result)"
      ],
      "metadata": {
        "id": "WATy7XXSq8ub"
      },
      "execution_count": null,
      "outputs": []
    },
    {
      "cell_type": "code",
      "source": [
        "ask(\"prolong alcohol intake impact human health?\")"
      ],
      "metadata": {
        "colab": {
          "base_uri": "https://localhost:8080/"
        },
        "id": "Ja9GLwK-ucet",
        "outputId": "2ab67dbc-d42f-4aec-c848-87d924f9aecd"
      },
      "execution_count": null,
      "outputs": [
        {
          "output_type": "stream",
          "name": "stderr",
          "text": [
            "/root/.local/lib/python3.10/site-packages/langchain_core/_api/deprecation.py:119: LangChainDeprecationWarning: The method `Chain.__call__` was deprecated in langchain 0.1.0 and will be removed in 0.2.0. Use invoke instead.\n",
            "  warn_deprecated(\n"
          ]
        },
        {
          "output_type": "stream",
          "name": "stdout",
          "text": [
            "\n",
            "\n",
            "\u001b[1m> Entering new RetrievalQA chain...\u001b[0m\n",
            "\n",
            "\n",
            "\u001b[1m> Entering new StuffDocumentsChain chain...\u001b[0m\n",
            "\n",
            "\n",
            "\u001b[1m> Entering new LLMChain chain...\u001b[0m\n",
            "Prompt after formatting:\n",
            "\u001b[32;1m\u001b[1;3mSYSTEM: You are an intelligent assistant helping the users with their questions on research papers.\n",
            "\n",
            "Question: prolong alcohol intake impact human health?\n",
            "\n",
            "Strictly Use ONLY the following pieces of context to answer the question at the end. Think step-by-step and then answer.\n",
            "\n",
            "Do not try to make up an answer:\n",
            " - If the answer to the question cannot be determined from the context alone, say \"I cannot determine the answer to that.\"\n",
            " - If the context is empty, just say \"I do not know the answer to that.\"\n",
            "\n",
            "=============\n",
            "content: Open Access Review Article DOI: 10.7759/cureus.30057 Effects of Alcohol Consumption on Various Systems of the Human Body: A Systematic Review Jerin Varghese 1 , Sarika Dakhode 2 Received 09/16/2022 Review began 09/20/2022 Review ended 09/30/2022 1. Medical School, Jawaharlal Nehru Medical College, Datta Meghe Institute of Medical Sciences, Wardha, IND 2. Published 10/08/2022 Community Medicine, Jawaharlal Nehru Medical College, Datta Meghe Institute of Medical Sciences, Wardha, IND Varghese et al. This is an open access Corresponding author: Jerin Varghese, jerinazero@gmail.com article distributed under the terms of the Creative Commons Attribution License CC- BY 4.0., which permits unrestricted use, distribution, and reproduction in any Abstract medium, provided the original author and source are credited. Prolonged alcohol intake for many years has been known to cause serious ailments in human beings since time memorial\n",
            "\n",
            "content: Does alcohol cause brain changes? For ethical reasons, it is not possible to conduct prospective research on the subject of alcohol use and brain effects in children and young people. However, the available observational evidence suggests that adolescents are likely to be more vulnerable than adults to both subtle brain damage and long lasting cognitive deficits following significant alcohol exposure [25]. Cognitive and learning impairments from chronic heavy exposure to alcohol can arise from the neuro-toxic effects of ethanol on vulnerable hippocampus and limbic structures. Research findings from animal models and observational human studies have shown that persistent alcohol abuse can result in a decrease in the overall volume of the hippocampus, the area responsible for long term learning and memory [25]\n",
            "\n",
            "content: Does alcohol cause brain changes? For ethical reasons, it is not possible to conduct prospective research on the subject of alcohol use and brain effects in children and young people. However, the available observational evidence suggests that adolescents are likely to be more vulnerable than adults to both subtle brain damage and long lasting cognitive deficits following significant alcohol exposure [25]. Cognitive and learning impairments from chronic heavy exposure to alcohol can arise from the neuro-toxic effects of ethanol on vulnerable hippocampus and limbic structures. Research findings from animal models and observational human studies have shown that persistent alcohol abuse can result in a decrease in the overall volume of the hippocampus, the area responsible for long term learning and memory [25]\n",
            "\n",
            "content: Does alcohol cause brain changes? For ethical reasons, it is not possible to conduct prospective research on the subject of alcohol use and brain effects in children and young people. However, the available observational evidence suggests that adolescents are likely to be more vulnerable than adults to both subtle brain damage and long lasting cognitive deficits following significant alcohol exposure [25]. Cognitive and learning impairments from chronic heavy exposure to alcohol can arise from the neuro-toxic effects of ethanol on vulnerable hippocampus and limbic structures. Research findings from animal models and observational human studies have shown that persistent alcohol abuse can result in a decrease in the overall volume of the hippocampus, the area responsible for long term learning and memory [25]\n",
            "\n",
            ".\" (Abraham J, 1995) \"The conclusion that a certain amount of alcohol can have a beneficial effect on personal health, decreasing mortality from some major conditions to such an extent that it more than compensates for an increased mortality from other conditions, greatly complicates the formation of public health policy. Before a beneficial effect was appreciated, policy could, and generally did, aim to discourage drinking altogether. Policies aimed solely at reducing heavy drinking had little success and the most effective means of reducing alcohol abuse seemed to be a policy aimed at reducing the average amount consumed by the population as a whole..\n",
            "=============\n",
            "\n",
            "Question: prolong alcohol intake impact human health?\n",
            "Helpful Answer:\u001b[0m\n",
            "\n",
            "\u001b[1m> Finished chain.\u001b[0m\n",
            "\n",
            "\u001b[1m> Finished chain.\u001b[0m\n",
            "\n",
            "\u001b[1m> Finished chain.\u001b[0m\n",
            "Query: prolong alcohol intake impact human health?\n",
            "................................................................................\n",
            "--------------------------------------------------------------------------------\n",
            "REFERENCE #0\n",
            "--------------------------------------------------------------------------------\n",
            "Document Source: Title: Effects of Alcohol Consumption on Various Systems of the Human BodyA Systematic Review.pdf,page:1\n",
            "................................................................................\n",
            "Content: \n",
            "content: Open Access Review Article DOI: 10.7759/cureus.30057 Effects of Alcohol Consumption on Various Systems of the\n",
            "Human Body: A Systematic Review Jerin Varghese 1 , Sarika Dakhode 2 Received 09/16/2022 Review began 09/20/2022 Review\n",
            "ended 09/30/2022 1. Medical School, Jawaharlal Nehru Medical College, Datta Meghe Institute of Medical Sciences, Wardha,\n",
            "IND 2. Published 10/08/2022 Community Medicine, Jawaharlal Nehru Medical College, Datta Meghe Institute of Medical\n",
            "Sciences, Wardha, IND Varghese et al. This is an open access Corresponding author: Jerin Varghese, jerinazero@gmail.com\n",
            "article distributed under the terms of the Creative Commons Attribution License CC- BY 4.0., which permits unrestricted\n",
            "use, distribution, and reproduction in any Abstract medium, provided the original author and source are credited.\n",
            "Prolonged alcohol intake for many years has been known to cause serious ailments in human beings since time memorial\n",
            "--------------------------------------------------------------------------------\n",
            "REFERENCE #1\n",
            "--------------------------------------------------------------------------------\n",
            "Document Source: Title: Impact of Alcohol Consumption on Young People.pdf,page:24\n",
            "................................................................................\n",
            "Content: \n",
            "content: Does alcohol cause brain changes? For ethical reasons, it is not possible to conduct prospective research on\n",
            "the subject of alcohol use and brain effects in children and young people. However, the available observational evidence\n",
            "suggests that adolescents are likely to be more vulnerable than adults to both subtle brain damage and long lasting\n",
            "cognitive deficits following significant alcohol exposure [25]. Cognitive and learning impairments from chronic heavy\n",
            "exposure to alcohol can arise from the neuro-toxic effects of ethanol on vulnerable hippocampus and limbic structures.\n",
            "Research findings from animal models and observational human studies have shown that persistent alcohol abuse can result\n",
            "in a decrease in the overall volume of the hippocampus, the area responsible for long term learning and memory [25]\n",
            "--------------------------------------------------------------------------------\n",
            "REFERENCE #2\n",
            "--------------------------------------------------------------------------------\n",
            "Document Source: Title: Impact of Alcohol Consumption on Young People.pdf,page:24\n",
            "................................................................................\n",
            "Content: \n",
            "content: Does alcohol cause brain changes? For ethical reasons, it is not possible to conduct prospective research on\n",
            "the subject of alcohol use and brain effects in children and young people. However, the available observational evidence\n",
            "suggests that adolescents are likely to be more vulnerable than adults to both subtle brain damage and long lasting\n",
            "cognitive deficits following significant alcohol exposure [25]. Cognitive and learning impairments from chronic heavy\n",
            "exposure to alcohol can arise from the neuro-toxic effects of ethanol on vulnerable hippocampus and limbic structures.\n",
            "Research findings from animal models and observational human studies have shown that persistent alcohol abuse can result\n",
            "in a decrease in the overall volume of the hippocampus, the area responsible for long term learning and memory [25]\n",
            "--------------------------------------------------------------------------------\n",
            "REFERENCE #3\n",
            "--------------------------------------------------------------------------------\n",
            "Document Source: Title: Impact of Alcohol Consumption on Young People.pdf,page:24\n",
            "................................................................................\n",
            "Content: \n",
            "content: Does alcohol cause brain changes? For ethical reasons, it is not possible to conduct prospective research on\n",
            "the subject of alcohol use and brain effects in children and young people. However, the available observational evidence\n",
            "suggests that adolescents are likely to be more vulnerable than adults to both subtle brain damage and long lasting\n",
            "cognitive deficits following significant alcohol exposure [25]. Cognitive and learning impairments from chronic heavy\n",
            "exposure to alcohol can arise from the neuro-toxic effects of ethanol on vulnerable hippocampus and limbic structures.\n",
            "Research findings from animal models and observational human studies have shown that persistent alcohol abuse can result\n",
            "in a decrease in the overall volume of the hippocampus, the area responsible for long term learning and memory [25]\n",
            "--------------------------------------------------------------------------------\n",
            "REFERENCE #4\n",
            "--------------------------------------------------------------------------------\n",
            "Document Source: Title: Gururaj_-Alcohol-report-NIMHANS.pdf,page:132\n",
            "................................................................................\n",
            "Content: \n",
            ".\" (Abraham J, 1995) \"The conclusion that a certain amount of alcohol can have a beneficial effect on personal health,\n",
            "decreasing mortality from some major conditions to such an extent that it more than compensates for an increased\n",
            "mortality from other conditions, greatly complicates the formation of public health policy. Before a beneficial effect\n",
            "was appreciated, policy could, and generally did, aim to discourage drinking altogether. Policies aimed solely at\n",
            "reducing heavy drinking had little success and the most effective means of reducing alcohol abuse seemed to be a policy\n",
            "aimed at reducing the average amount consumed by the population as a whole..\n",
            "................................................................................\n",
            "Response:  Prolonged alcohol intake for many years has been known to cause serious ailments in human beings.\n",
            "................................................................................\n"
          ]
        }
      ]
    },
    {
      "cell_type": "code",
      "source": [
        "ask(\"Why are causal associations?\")"
      ],
      "metadata": {
        "colab": {
          "base_uri": "https://localhost:8080/"
        },
        "id": "kvrCf6Z2sYjK",
        "outputId": "a3c3fa9a-50ff-4db7-c6f8-5529c65303f9"
      },
      "execution_count": null,
      "outputs": [
        {
          "output_type": "stream",
          "name": "stdout",
          "text": [
            "\n",
            "\n",
            "\u001b[1m> Entering new RetrievalQA chain...\u001b[0m\n",
            "\n",
            "\n",
            "\u001b[1m> Entering new StuffDocumentsChain chain...\u001b[0m\n",
            "\n",
            "\n",
            "\u001b[1m> Entering new LLMChain chain...\u001b[0m\n",
            "Prompt after formatting:\n",
            "\u001b[32;1m\u001b[1;3mSYSTEM: You are an intelligent assistant helping the users with their questions on research papers.\n",
            "\n",
            "Question: Why are causal associations?\n",
            "\n",
            "Strictly Use ONLY the following pieces of context to answer the question at the end. Think step-by-step and then answer.\n",
            "\n",
            "Do not try to make up an answer:\n",
            " - If the answer to the question cannot be determined from the context alone, say \"I cannot determine the answer to that.\"\n",
            " - If the context is empty, just say \"I do not know the answer to that.\"\n",
            "\n",
            "=============\n",
            ". First, most human studies are correlative in nature, meaning that causal associations cannot be made between in uterocannabis exposure and health and behavioral outcomes later in life. Due to obvious ethical constraints, it is not possible to randomly assign pregnant mothers to cannabis or other drug exposure conditions-a requirement needed to establish causality. In addition, clinical studies often lack quantitative information on maternal exposure (i.e., dose, frequency, and duration), include a small number of individuals, lack replication of outcome measures across cohorts, rely on self-report to establish maternal drug use, and suffer from unmeasured or residual confounding factors. Causal associations between maternal cannabis exposure and offspring outcomes are possible in preclinical cohorts but there is a large amount of heterogeneity across study designs and developmental differences between rodents and humans may limit translatability\n",
            "\n",
            "content: However, this field of work is riddled with many interlinked variables related to both risks and consequences of drinking by young people. However, it is difficult to tease these variables apart and establish the actual relationships between them. Thus it is not possible to ascribe a causal link between individuals’ personal attributes or life-circumstances and drinking behaviour, or indeed alcohol use and a wide range of activities that may result from drinking (but that may also arise due to other unidentified variable(s). As one author reported, we know that a lot of students drink a lot and we know that a lot of students have unsafe sex; however, what we do not know is whether the two things are directly related. For obvious ethical reasons, it is not possible to design prospective studies or controlled trials to elucidate the issue of behavioural causality in this field\n",
            "\n",
            "content: However, this field of work is riddled with many interlinked variables related to both risks and consequences of drinking by young people. However, it is difficult to tease these variables apart and establish the actual relationships between them. Thus it is not possible to ascribe a causal link between individuals’ personal attributes or life-circumstances and drinking behaviour, or indeed alcohol use and a wide range of activities that may result from drinking (but that may also arise due to other unidentified variable(s). As one author reported, we know that a lot of students drink a lot and we know that a lot of students have unsafe sex; however, what we do not know is whether the two things are directly related. For obvious ethical reasons, it is not possible to design prospective studies or controlled trials to elucidate the issue of behavioural causality in this field\n",
            "\n",
            "content: However, this field of work is riddled with many interlinked variables related to both risks and consequences of drinking by young people. However, it is difficult to tease these variables apart and establish the actual relationships between them. Thus it is not possible to ascribe a causal link between individuals’ personal attributes or life-circumstances and drinking behaviour, or indeed alcohol use and a wide range of activities that may result from drinking (but that may also arise due to other unidentified variable(s). As one author reported, we know that a lot of students drink a lot and we know that a lot of students have unsafe sex; however, what we do not know is whether the two things are directly related. For obvious ethical reasons, it is not possible to design prospective studies or controlled trials to elucidate the issue of behavioural causality in this field\n",
            "\n",
            ". Evidence relating to causality In order to isolate factors predicting male-to-female marital violence, Leonard and Senchak, (1996) followed for one year a sample of 541 newlywed couples. They measured several plausible predictors of marital violence: alcohol problems and drinking levels; hostile disposition; masculinity-femininity; perceived power imbalance; history of family violence; and marital conflict style (problem-solving, verbal aggression and withdrawal). They took into account premarital aggression of the husband as well as controlling for socio- demographic and background factors of both partners (age, education, occupation, race- ethnicity, religion, employment and parental status)\n",
            "=============\n",
            "\n",
            "Question: Why are causal associations?\n",
            "Helpful Answer:\u001b[0m\n",
            "\n",
            "\u001b[1m> Finished chain.\u001b[0m\n",
            "\n",
            "\u001b[1m> Finished chain.\u001b[0m\n",
            "\n",
            "\u001b[1m> Finished chain.\u001b[0m\n",
            "Query: Why are causal associations?\n",
            "................................................................................\n",
            "--------------------------------------------------------------------------------\n",
            "REFERENCE #0\n",
            "--------------------------------------------------------------------------------\n",
            "Document Source: Title: Influence of prenatal cannabinoid exposure on early development and beyond.page:38389825\n",
            "................................................................................\n",
            "Content: \n",
            ". First, most human studies are correlative in nature, meaning that causal associations cannot be made between in\n",
            "uterocannabis exposure and health and behavioral outcomes later in life. Due to obvious ethical constraints, it is not\n",
            "possible to randomly assign pregnant mothers to cannabis or other drug exposure conditions-a requirement needed to\n",
            "establish causality. In addition, clinical studies often lack quantitative information on maternal exposure (i.e., dose,\n",
            "frequency, and duration), include a small number of individuals, lack replication of outcome measures across cohorts,\n",
            "rely on self-report to establish maternal drug use, and suffer from unmeasured or residual confounding factors. Causal\n",
            "associations between maternal cannabis exposure and offspring outcomes are possible in preclinical cohorts but there is\n",
            "a large amount of heterogeneity across study designs and developmental differences between rodents and humans may limit\n",
            "translatability\n",
            "--------------------------------------------------------------------------------\n",
            "REFERENCE #1\n",
            "--------------------------------------------------------------------------------\n",
            "Document Source: Title: Impact of Alcohol Consumption on Young People.pdf,page:38\n",
            "................................................................................\n",
            "Content: \n",
            "content: However, this field of work is riddled with many interlinked variables related to both risks and consequences\n",
            "of drinking by young people. However, it is difficult to tease these variables apart and establish the actual\n",
            "relationships between them. Thus it is not possible to ascribe a causal link between individuals’ personal attributes or\n",
            "life-circumstances and drinking behaviour, or indeed alcohol use and a wide range of activities that may result from\n",
            "drinking (but that may also arise due to other unidentified variable(s). As one author reported, we know that a lot of\n",
            "students drink a lot and we know that a lot of students have unsafe sex; however, what we do not know is whether the two\n",
            "things are directly related. For obvious ethical reasons, it is not possible to design prospective studies or controlled\n",
            "trials to elucidate the issue of behavioural causality in this field\n",
            "--------------------------------------------------------------------------------\n",
            "REFERENCE #2\n",
            "--------------------------------------------------------------------------------\n",
            "Document Source: Title: Impact of Alcohol Consumption on Young People.pdf,page:38\n",
            "................................................................................\n",
            "Content: \n",
            "content: However, this field of work is riddled with many interlinked variables related to both risks and consequences\n",
            "of drinking by young people. However, it is difficult to tease these variables apart and establish the actual\n",
            "relationships between them. Thus it is not possible to ascribe a causal link between individuals’ personal attributes or\n",
            "life-circumstances and drinking behaviour, or indeed alcohol use and a wide range of activities that may result from\n",
            "drinking (but that may also arise due to other unidentified variable(s). As one author reported, we know that a lot of\n",
            "students drink a lot and we know that a lot of students have unsafe sex; however, what we do not know is whether the two\n",
            "things are directly related. For obvious ethical reasons, it is not possible to design prospective studies or controlled\n",
            "trials to elucidate the issue of behavioural causality in this field\n",
            "--------------------------------------------------------------------------------\n",
            "REFERENCE #3\n",
            "--------------------------------------------------------------------------------\n",
            "Document Source: Title: Impact of Alcohol Consumption on Young People.pdf,page:38\n",
            "................................................................................\n",
            "Content: \n",
            "content: However, this field of work is riddled with many interlinked variables related to both risks and consequences\n",
            "of drinking by young people. However, it is difficult to tease these variables apart and establish the actual\n",
            "relationships between them. Thus it is not possible to ascribe a causal link between individuals’ personal attributes or\n",
            "life-circumstances and drinking behaviour, or indeed alcohol use and a wide range of activities that may result from\n",
            "drinking (but that may also arise due to other unidentified variable(s). As one author reported, we know that a lot of\n",
            "students drink a lot and we know that a lot of students have unsafe sex; however, what we do not know is whether the two\n",
            "things are directly related. For obvious ethical reasons, it is not possible to design prospective studies or controlled\n",
            "trials to elucidate the issue of behavioural causality in this field\n",
            "--------------------------------------------------------------------------------\n",
            "REFERENCE #4\n",
            "--------------------------------------------------------------------------------\n",
            "Document Source: Title: The impact of alcohol use disorders on family life.pdf,page:26\n",
            "................................................................................\n",
            "Content: \n",
            ". Evidence relating to causality In order to isolate factors predicting male-to-female marital violence, Leonard and\n",
            "Senchak, (1996) followed for one year a sample of 541 newlywed couples. They measured several plausible predictors of\n",
            "marital violence: alcohol problems and drinking levels; hostile disposition; masculinity-femininity; perceived power\n",
            "imbalance; history of family violence; and marital conflict style (problem-solving, verbal aggression and withdrawal).\n",
            "They took into account premarital aggression of the husband as well as controlling for socio- demographic and background\n",
            "factors of both partners (age, education, occupation, race- ethnicity, religion, employment and parental status)\n",
            "................................................................................\n",
            "Response:  In human studies, causal associations between factors are often difficult to establish due to ethical constraints and\n",
            "limitations in study design. For example, it is not possible to randomly assign pregnant mothers to cannabis or other\n",
            "drug exposure conditions to determine the causal effects of in utero exposure on health and behavioral outcomes.\n",
            "Similarly, in studies on alcohol use and related behaviors among young people, it is challenging to disentangle the\n",
            "complex web of interlinked variables and establish direct causal links between personal attributes, drinking behavior,\n",
            "and various outcomes.\n",
            "................................................................................\n"
          ]
        }
      ]
    },
    {
      "cell_type": "code",
      "source": [
        "ask(\"What is Electronic cigarettes?\")"
      ],
      "metadata": {
        "colab": {
          "base_uri": "https://localhost:8080/"
        },
        "id": "sdTkIkCowBa5",
        "outputId": "e9fa8585-81cb-4d61-df1f-b7443706782f"
      },
      "execution_count": null,
      "outputs": [
        {
          "output_type": "stream",
          "name": "stdout",
          "text": [
            "\n",
            "\n",
            "\u001b[1m> Entering new RetrievalQA chain...\u001b[0m\n",
            "\n",
            "\n",
            "\u001b[1m> Entering new StuffDocumentsChain chain...\u001b[0m\n",
            "\n",
            "\n",
            "\u001b[1m> Entering new LLMChain chain...\u001b[0m\n",
            "Prompt after formatting:\n",
            "\u001b[32;1m\u001b[1;3mSYSTEM: You are an intelligent assistant helping the users with their questions on research papers.\n",
            "\n",
            "Question: What is Electronic cigarettes?\n",
            "\n",
            "Strictly Use ONLY the following pieces of context to answer the question at the end. Think step-by-step and then answer.\n",
            "\n",
            "Do not try to make up an answer:\n",
            " - If the answer to the question cannot be determined from the context alone, say \"I cannot determine the answer to that.\"\n",
            " - If the context is empty, just say \"I do not know the answer to that.\"\n",
            "\n",
            "=============\n",
            "content: Electronic cigarettes (e-cigarettes) are devices that allow the user to inhale nicotine in a vapor, and are primarily marketed as a means of quitting smoking and a less harmful replacement for traditional cigarette smoking. However, further research is needed to determine if vaping nicotine via e-cigarettes can be effective. Conversely, nicotine has been considered a gateway drug to alcohol and other addictive drugs and e-cigarettes containing nicotine may have the same effects. Previous reports have shown that e-cigarette use may open the gate for the use of other drugs including conventional cigarettes, cannabis, opioids, etc. The increasing prevalence of e-cigarettes, particularly among youth and adolescents in the last decade have led to an increase in the dual use of e-cigarettes with alcohol, cannabis, and other illicit drug use like heroin and 3-4-methylenedioxymethamphetamine (MDMA)\n",
            "\n",
            "content: Electronic cigarettes (e-cigarettes) are devices that allow the user to inhale nicotine in a vapor, and are primarily marketed as a means of quitting smoking and a less harmful replacement for traditional cigarette smoking. However, further research is needed to determine if vaping nicotine via e-cigarettes can be effective. Conversely, nicotine has been considered a gateway drug to alcohol and other addictive drugs and e-cigarettes containing nicotine may have the same effects. Previous reports have shown that e-cigarette use may open the gate for the use of other drugs including conventional cigarettes, cannabis, opioids, etc. The increasing prevalence of e-cigarettes, particularly among youth and adolescents in the last decade have led to an increase in the dual use of e-cigarettes with alcohol, cannabis, and other illicit drug use like heroin and 3-4-methylenedioxymethamphetamine (MDMA)\n",
            "\n",
            "content: Electronic cigarettes (e-cigarettes) are devices that allow the user to inhale nicotine in a vapor, and are primarily marketed as a means of quitting smoking and a less harmful replacement for traditional cigarette smoking. However, further research is needed to determine if vaping nicotine via e-cigarettes can be effective. Conversely, nicotine has been considered a gateway drug to alcohol and other addictive drugs and e-cigarettes containing nicotine may have the same effects. Previous reports have shown that e-cigarette use may open the gate for the use of other drugs including conventional cigarettes, cannabis, opioids, etc. The increasing prevalence of e-cigarettes, particularly among youth and adolescents in the last decade have led to an increase in the dual use of e-cigarettes with alcohol, cannabis, and other illicit drug use like heroin and 3-4-methylenedioxymethamphetamine (MDMA)\n",
            "\n",
            ". The advent of e-cigarettes as a device to self-administer addictive agents such as cocaine and synthetic cathinones may bring about additional adverse health effects associated with their concurrent use. This review aims to briefly describe e-cigarettes and their different generations, and their co-use with other addictive drugs as well as the use of the device as a tool to self-administer addictive drugs, such as cocaine, etc.\n",
            "\n",
            ". The advent of e-cigarettes as a device to self-administer addictive agents such as cocaine and synthetic cathinones may bring about additional adverse health effects associated with their concurrent use. This review aims to briefly describe e-cigarettes and their different generations, and their co-use with other addictive drugs as well as the use of the device as a tool to self-administer addictive drugs, such as cocaine, etc.\n",
            "=============\n",
            "\n",
            "Question: What is Electronic cigarettes?\n",
            "Helpful Answer:\u001b[0m\n",
            "\n",
            "\u001b[1m> Finished chain.\u001b[0m\n",
            "\n",
            "\u001b[1m> Finished chain.\u001b[0m\n",
            "\n",
            "\u001b[1m> Finished chain.\u001b[0m\n",
            "Query: What is Electronic cigarettes?\n",
            "................................................................................\n",
            "--------------------------------------------------------------------------------\n",
            "REFERENCE #0\n",
            "--------------------------------------------------------------------------------\n",
            "Document Source: Title: E-cigarettes may serve as a gateway to conventional cigarettes and other addictive drugs.page:38389821\n",
            "................................................................................\n",
            "Content: \n",
            "content: Electronic cigarettes (e-cigarettes) are devices that allow the user to inhale nicotine in a vapor, and are\n",
            "primarily marketed as a means of quitting smoking and a less harmful replacement for traditional cigarette smoking.\n",
            "However, further research is needed to determine if vaping nicotine via e-cigarettes can be effective. Conversely,\n",
            "nicotine has been considered a gateway drug to alcohol and other addictive drugs and e-cigarettes containing nicotine\n",
            "may have the same effects. Previous reports have shown that e-cigarette use may open the gate for the use of other drugs\n",
            "including conventional cigarettes, cannabis, opioids, etc. The increasing prevalence of e-cigarettes, particularly among\n",
            "youth and adolescents in the last decade have led to an increase in the dual use of e-cigarettes with alcohol, cannabis,\n",
            "and other illicit drug use like heroin and 3-4-methylenedioxymethamphetamine (MDMA)\n",
            "--------------------------------------------------------------------------------\n",
            "REFERENCE #1\n",
            "--------------------------------------------------------------------------------\n",
            "Document Source: Title: E-cigarettes may serve as a gateway to conventional cigarettes and other addictive drugs.page:38389821\n",
            "................................................................................\n",
            "Content: \n",
            "content: Electronic cigarettes (e-cigarettes) are devices that allow the user to inhale nicotine in a vapor, and are\n",
            "primarily marketed as a means of quitting smoking and a less harmful replacement for traditional cigarette smoking.\n",
            "However, further research is needed to determine if vaping nicotine via e-cigarettes can be effective. Conversely,\n",
            "nicotine has been considered a gateway drug to alcohol and other addictive drugs and e-cigarettes containing nicotine\n",
            "may have the same effects. Previous reports have shown that e-cigarette use may open the gate for the use of other drugs\n",
            "including conventional cigarettes, cannabis, opioids, etc. The increasing prevalence of e-cigarettes, particularly among\n",
            "youth and adolescents in the last decade have led to an increase in the dual use of e-cigarettes with alcohol, cannabis,\n",
            "and other illicit drug use like heroin and 3-4-methylenedioxymethamphetamine (MDMA)\n",
            "--------------------------------------------------------------------------------\n",
            "REFERENCE #2\n",
            "--------------------------------------------------------------------------------\n",
            "Document Source: Title: E-cigarettes may serve as a gateway to conventional cigarettes and other addictive drugs.page:38389821\n",
            "................................................................................\n",
            "Content: \n",
            "content: Electronic cigarettes (e-cigarettes) are devices that allow the user to inhale nicotine in a vapor, and are\n",
            "primarily marketed as a means of quitting smoking and a less harmful replacement for traditional cigarette smoking.\n",
            "However, further research is needed to determine if vaping nicotine via e-cigarettes can be effective. Conversely,\n",
            "nicotine has been considered a gateway drug to alcohol and other addictive drugs and e-cigarettes containing nicotine\n",
            "may have the same effects. Previous reports have shown that e-cigarette use may open the gate for the use of other drugs\n",
            "including conventional cigarettes, cannabis, opioids, etc. The increasing prevalence of e-cigarettes, particularly among\n",
            "youth and adolescents in the last decade have led to an increase in the dual use of e-cigarettes with alcohol, cannabis,\n",
            "and other illicit drug use like heroin and 3-4-methylenedioxymethamphetamine (MDMA)\n",
            "--------------------------------------------------------------------------------\n",
            "REFERENCE #3\n",
            "--------------------------------------------------------------------------------\n",
            "Document Source: Title: E-cigarettes may serve as a gateway to conventional cigarettes and other addictive drugs.page:38389821\n",
            "................................................................................\n",
            "Content: \n",
            ". The advent of e-cigarettes as a device to self-administer addictive agents such as cocaine and synthetic cathinones\n",
            "may bring about additional adverse health effects associated with their concurrent use. This review aims to briefly\n",
            "describe e-cigarettes and their different generations, and their co-use with other addictive drugs as well as the use of\n",
            "the device as a tool to self-administer addictive drugs, such as cocaine, etc.\n",
            "--------------------------------------------------------------------------------\n",
            "REFERENCE #4\n",
            "--------------------------------------------------------------------------------\n",
            "Document Source: Title: E-cigarettes may serve as a gateway to conventional cigarettes and other addictive drugs.page:38389821\n",
            "................................................................................\n",
            "Content: \n",
            ". The advent of e-cigarettes as a device to self-administer addictive agents such as cocaine and synthetic cathinones\n",
            "may bring about additional adverse health effects associated with their concurrent use. This review aims to briefly\n",
            "describe e-cigarettes and their different generations, and their co-use with other addictive drugs as well as the use of\n",
            "the device as a tool to self-administer addictive drugs, such as cocaine, etc.\n",
            "................................................................................\n",
            "Response:  Electronic cigarettes (e-cigarettes) are devices that allow users to inhale nicotine in a vapor. They are primarily\n",
            "marketed as a means of quitting smoking and a less harmful replacement for traditional cigarette smoking.\n",
            "................................................................................\n"
          ]
        }
      ]
    },
    {
      "cell_type": "markdown",
      "source": [
        "# Trying gemini model"
      ],
      "metadata": {
        "id": "t8joXFV42hcW"
      }
    },
    {
      "cell_type": "code",
      "source": [
        "llm1 = VertexAI(model_name=\"gemini-1.0-pro\",max_output_tokens=8042, temperature=0)"
      ],
      "metadata": {
        "id": "YkutiQHw4hvo"
      },
      "execution_count": null,
      "outputs": []
    },
    {
      "cell_type": "code",
      "source": [
        "template = \"\"\"SYSTEM: You are an intelligent assistant helping the users with their questions on research papers.\n",
        "\n",
        "Question: {question}\n",
        "\n",
        "Strictly Use ONLY the following pieces of context to answer the question at the end. Think step-by-step and then answer.\n",
        "\n",
        "Do not try to make up an answer:\n",
        " - If the answer to the question cannot be determined from the context alone, say \"I cannot determine the answer to that.\"\n",
        " - If the context is empty, just say \"I do not know the answer to that.\"\n",
        "\n",
        "=============\n",
        "{context}\n",
        "=============\n",
        "\n",
        "Question: {question}\n",
        "Helpful Answer:\"\"\""
      ],
      "metadata": {
        "id": "5TU7Ivur4szq"
      },
      "execution_count": null,
      "outputs": []
    },
    {
      "cell_type": "code",
      "source": [
        "# Uses LLM to synthesize results from the search index.\n",
        "# Use Vertex PaLM Text API for LLM\n",
        "qa1 = RetrievalQA.from_chain_type(\n",
        "    llm=llm1,\n",
        "    chain_type=\"stuff\",\n",
        "    retriever=retriever,\n",
        "    return_source_documents=True,\n",
        "    verbose=True,\n",
        "    chain_type_kwargs={\n",
        "        \"prompt\": PromptTemplate(\n",
        "            template=template,\n",
        "            input_variables=[\"context\", \"question\"],\n",
        "        ),\n",
        "    },\n",
        ")"
      ],
      "metadata": {
        "id": "uelW2aiq4hzX"
      },
      "execution_count": null,
      "outputs": []
    },
    {
      "cell_type": "code",
      "source": [
        "# Enable for troubleshooting\n",
        "qa1.combine_documents_chain.verbose = True\n",
        "qa1.combine_documents_chain.llm_chain.verbose = True\n",
        "qa1.combine_documents_chain.llm_chain.llm.verbose = True"
      ],
      "metadata": {
        "id": "7qRa-Am34h3B"
      },
      "execution_count": null,
      "outputs": []
    },
    {
      "cell_type": "code",
      "source": [
        "def formatter(result):\n",
        "    print(f\"Query: {result['query']}\")\n",
        "    print(\".\" * 80)\n",
        "    if \"source_documents\" in result.keys():\n",
        "        for idx, ref in enumerate(result[\"source_documents\"]):\n",
        "            print(\"-\" * 80)\n",
        "            print(f\"REFERENCE #{idx}\")\n",
        "            print(\"-\" * 80)\n",
        "            if \"score\" in ref.metadata:\n",
        "                print(f\"Matching Score: {ref.metadata['score']}\")\n",
        "            if \"source\" in ref.metadata:\n",
        "                print(f\"Document Source: {ref.metadata['source']}\")\n",
        "            if \"document_name\" in ref.metadata:\n",
        "                print(f\"Document Name: {ref.metadata['document_name']}\")\n",
        "            print(\".\" * 80)\n",
        "            print(f\"Content: \\n{wrap(ref.page_content)}\")\n",
        "    print(\".\" * 80)\n",
        "    print(f\"Response: {wrap(result['result'])}\")\n",
        "    print(\".\" * 80)\n",
        "\n",
        "\n",
        "def wrap(s):\n",
        "    return \"\\n\".join(textwrap.wrap(s, width=120, break_long_words=False))\n",
        "\n",
        "\n",
        "def ask(\n",
        "    query,\n",
        "    qa=qa1,\n",
        "    k=NUMBER_OF_RESULTS,\n",
        "    search_distance=SEARCH_DISTANCE_THRESHOLD,\n",
        "    filters={},\n",
        "):\n",
        "    qa1.retriever.search_kwargs[\"search_distance\"] = search_distance\n",
        "    qa1.retriever.search_kwargs[\"k\"] = k\n",
        "    qa1.retriever.search_kwargs[\"filters\"] = filters\n",
        "    result = qa1({\"query\": query})\n",
        "    return formatter(result)"
      ],
      "metadata": {
        "id": "wJhglD2G40eU"
      },
      "execution_count": null,
      "outputs": []
    },
    {
      "cell_type": "code",
      "source": [
        "ask(\"prolong alcohol intake impact human health?\")"
      ],
      "metadata": {
        "colab": {
          "base_uri": "https://localhost:8080/"
        },
        "id": "AWatNKwV5NZf",
        "outputId": "b13b025d-c948-4c86-8a9a-9d06716a2b22"
      },
      "execution_count": null,
      "outputs": [
        {
          "output_type": "stream",
          "name": "stdout",
          "text": [
            "\n",
            "\n",
            "\u001b[1m> Entering new RetrievalQA chain...\u001b[0m\n",
            "\n",
            "\n",
            "\u001b[1m> Entering new StuffDocumentsChain chain...\u001b[0m\n",
            "\n",
            "\n",
            "\u001b[1m> Entering new LLMChain chain...\u001b[0m\n",
            "Prompt after formatting:\n",
            "\u001b[32;1m\u001b[1;3mSYSTEM: You are an intelligent assistant helping the users with their questions on research papers.\n",
            "\n",
            "Question: prolong alcohol intake impact human health?\n",
            "\n",
            "I'm an adult. Provide a detailed answer using bullet points.\n",
            "\n",
            "Do not try to make up an answer:\n",
            " - If the answer to the question cannot be determined from the context alone, say \"I cannot determine the answer to that.\"\n",
            " - If the context is empty, just say \"I do not know the answer to that.\"\n",
            "\n",
            "=============\n",
            "content: Open Access Review Article DOI: 10.7759/cureus.30057 Effects of Alcohol Consumption on Various Systems of the Human Body: A Systematic Review Jerin Varghese 1 , Sarika Dakhode 2 Received 09/16/2022 Review began 09/20/2022 Review ended 09/30/2022 1. Medical School, Jawaharlal Nehru Medical College, Datta Meghe Institute of Medical Sciences, Wardha, IND 2. Published 10/08/2022 Community Medicine, Jawaharlal Nehru Medical College, Datta Meghe Institute of Medical Sciences, Wardha, IND Varghese et al. This is an open access Corresponding author: Jerin Varghese, jerinazero@gmail.com article distributed under the terms of the Creative Commons Attribution License CC- BY 4.0., which permits unrestricted use, distribution, and reproduction in any Abstract medium, provided the original author and source are credited. Prolonged alcohol intake for many years has been known to cause serious ailments in human beings since time memorial\n",
            "\n",
            "content: Does alcohol cause brain changes? For ethical reasons, it is not possible to conduct prospective research on the subject of alcohol use and brain effects in children and young people. However, the available observational evidence suggests that adolescents are likely to be more vulnerable than adults to both subtle brain damage and long lasting cognitive deficits following significant alcohol exposure [25]. Cognitive and learning impairments from chronic heavy exposure to alcohol can arise from the neuro-toxic effects of ethanol on vulnerable hippocampus and limbic structures. Research findings from animal models and observational human studies have shown that persistent alcohol abuse can result in a decrease in the overall volume of the hippocampus, the area responsible for long term learning and memory [25]\n",
            "\n",
            "content: Does alcohol cause brain changes? For ethical reasons, it is not possible to conduct prospective research on the subject of alcohol use and brain effects in children and young people. However, the available observational evidence suggests that adolescents are likely to be more vulnerable than adults to both subtle brain damage and long lasting cognitive deficits following significant alcohol exposure [25]. Cognitive and learning impairments from chronic heavy exposure to alcohol can arise from the neuro-toxic effects of ethanol on vulnerable hippocampus and limbic structures. Research findings from animal models and observational human studies have shown that persistent alcohol abuse can result in a decrease in the overall volume of the hippocampus, the area responsible for long term learning and memory [25]\n",
            "\n",
            "content: Does alcohol cause brain changes? For ethical reasons, it is not possible to conduct prospective research on the subject of alcohol use and brain effects in children and young people. However, the available observational evidence suggests that adolescents are likely to be more vulnerable than adults to both subtle brain damage and long lasting cognitive deficits following significant alcohol exposure [25]. Cognitive and learning impairments from chronic heavy exposure to alcohol can arise from the neuro-toxic effects of ethanol on vulnerable hippocampus and limbic structures. Research findings from animal models and observational human studies have shown that persistent alcohol abuse can result in a decrease in the overall volume of the hippocampus, the area responsible for long term learning and memory [25]\n",
            "\n",
            ".\" (Abraham J, 1995) \"The conclusion that a certain amount of alcohol can have a beneficial effect on personal health, decreasing mortality from some major conditions to such an extent that it more than compensates for an increased mortality from other conditions, greatly complicates the formation of public health policy. Before a beneficial effect was appreciated, policy could, and generally did, aim to discourage drinking altogether. Policies aimed solely at reducing heavy drinking had little success and the most effective means of reducing alcohol abuse seemed to be a policy aimed at reducing the average amount consumed by the population as a whole..\n",
            "=============\n",
            "\n",
            "Question: prolong alcohol intake impact human health?\n",
            "Helpful Answer:\u001b[0m\n",
            "\n",
            "\u001b[1m> Finished chain.\u001b[0m\n",
            "\n",
            "\u001b[1m> Finished chain.\u001b[0m\n",
            "\n",
            "\u001b[1m> Finished chain.\u001b[0m\n",
            "Query: prolong alcohol intake impact human health?\n",
            "................................................................................\n",
            "--------------------------------------------------------------------------------\n",
            "REFERENCE #0\n",
            "--------------------------------------------------------------------------------\n",
            "Document Source: Title: Effects of Alcohol Consumption on Various Systems of the Human BodyA Systematic Review.pdf,page:1\n",
            "................................................................................\n",
            "Content: \n",
            "content: Open Access Review Article DOI: 10.7759/cureus.30057 Effects of Alcohol Consumption on Various Systems of the\n",
            "Human Body: A Systematic Review Jerin Varghese 1 , Sarika Dakhode 2 Received 09/16/2022 Review began 09/20/2022 Review\n",
            "ended 09/30/2022 1. Medical School, Jawaharlal Nehru Medical College, Datta Meghe Institute of Medical Sciences, Wardha,\n",
            "IND 2. Published 10/08/2022 Community Medicine, Jawaharlal Nehru Medical College, Datta Meghe Institute of Medical\n",
            "Sciences, Wardha, IND Varghese et al. This is an open access Corresponding author: Jerin Varghese, jerinazero@gmail.com\n",
            "article distributed under the terms of the Creative Commons Attribution License CC- BY 4.0., which permits unrestricted\n",
            "use, distribution, and reproduction in any Abstract medium, provided the original author and source are credited.\n",
            "Prolonged alcohol intake for many years has been known to cause serious ailments in human beings since time memorial\n",
            "--------------------------------------------------------------------------------\n",
            "REFERENCE #1\n",
            "--------------------------------------------------------------------------------\n",
            "Document Source: Title: Impact of Alcohol Consumption on Young People.pdf,page:24\n",
            "................................................................................\n",
            "Content: \n",
            "content: Does alcohol cause brain changes? For ethical reasons, it is not possible to conduct prospective research on\n",
            "the subject of alcohol use and brain effects in children and young people. However, the available observational evidence\n",
            "suggests that adolescents are likely to be more vulnerable than adults to both subtle brain damage and long lasting\n",
            "cognitive deficits following significant alcohol exposure [25]. Cognitive and learning impairments from chronic heavy\n",
            "exposure to alcohol can arise from the neuro-toxic effects of ethanol on vulnerable hippocampus and limbic structures.\n",
            "Research findings from animal models and observational human studies have shown that persistent alcohol abuse can result\n",
            "in a decrease in the overall volume of the hippocampus, the area responsible for long term learning and memory [25]\n",
            "--------------------------------------------------------------------------------\n",
            "REFERENCE #2\n",
            "--------------------------------------------------------------------------------\n",
            "Document Source: Title: Impact of Alcohol Consumption on Young People.pdf,page:24\n",
            "................................................................................\n",
            "Content: \n",
            "content: Does alcohol cause brain changes? For ethical reasons, it is not possible to conduct prospective research on\n",
            "the subject of alcohol use and brain effects in children and young people. However, the available observational evidence\n",
            "suggests that adolescents are likely to be more vulnerable than adults to both subtle brain damage and long lasting\n",
            "cognitive deficits following significant alcohol exposure [25]. Cognitive and learning impairments from chronic heavy\n",
            "exposure to alcohol can arise from the neuro-toxic effects of ethanol on vulnerable hippocampus and limbic structures.\n",
            "Research findings from animal models and observational human studies have shown that persistent alcohol abuse can result\n",
            "in a decrease in the overall volume of the hippocampus, the area responsible for long term learning and memory [25]\n",
            "--------------------------------------------------------------------------------\n",
            "REFERENCE #3\n",
            "--------------------------------------------------------------------------------\n",
            "Document Source: Title: Impact of Alcohol Consumption on Young People.pdf,page:24\n",
            "................................................................................\n",
            "Content: \n",
            "content: Does alcohol cause brain changes? For ethical reasons, it is not possible to conduct prospective research on\n",
            "the subject of alcohol use and brain effects in children and young people. However, the available observational evidence\n",
            "suggests that adolescents are likely to be more vulnerable than adults to both subtle brain damage and long lasting\n",
            "cognitive deficits following significant alcohol exposure [25]. Cognitive and learning impairments from chronic heavy\n",
            "exposure to alcohol can arise from the neuro-toxic effects of ethanol on vulnerable hippocampus and limbic structures.\n",
            "Research findings from animal models and observational human studies have shown that persistent alcohol abuse can result\n",
            "in a decrease in the overall volume of the hippocampus, the area responsible for long term learning and memory [25]\n",
            "--------------------------------------------------------------------------------\n",
            "REFERENCE #4\n",
            "--------------------------------------------------------------------------------\n",
            "Document Source: Title: Gururaj_-Alcohol-report-NIMHANS.pdf,page:132\n",
            "................................................................................\n",
            "Content: \n",
            ".\" (Abraham J, 1995) \"The conclusion that a certain amount of alcohol can have a beneficial effect on personal health,\n",
            "decreasing mortality from some major conditions to such an extent that it more than compensates for an increased\n",
            "mortality from other conditions, greatly complicates the formation of public health policy. Before a beneficial effect\n",
            "was appreciated, policy could, and generally did, aim to discourage drinking altogether. Policies aimed solely at\n",
            "reducing heavy drinking had little success and the most effective means of reducing alcohol abuse seemed to be a policy\n",
            "aimed at reducing the average amount consumed by the population as a whole..\n",
            "................................................................................\n",
            "Response: ## Prolonged Alcohol Intake Impact on Human Health:  **Negative Impacts:**  * **Brain:**     * Cognitive decline and\n",
            "memory impairment.     * Increased risk of dementia and Alzheimer's disease.     * Brain shrinkage and damage to the\n",
            "hippocampus, affecting learning and memory. * **Liver:**     * Fatty liver disease, alcoholic hepatitis, and cirrhosis.\n",
            "* Increased risk of liver cancer. * **Heart:**     * High blood pressure, cardiomyopathy, and arrhythmias.     *\n",
            "Increased risk of stroke and heart attack. * **Immune System:**     * Weakened immune system, making you more\n",
            "susceptible to infections. * **Cancer:**     * Increased risk of developing various types of cancer, including mouth,\n",
            "throat, esophagus, breast, and liver cancer. * **Mental Health:**     * Increased risk of depression, anxiety, and other\n",
            "mental health disorders. * **Social and Family Life:**     * Relationship problems, job loss, and financial\n",
            "difficulties.  **Positive Impacts (in moderation):**  * **Reduced risk of coronary heart disease.** * **May improve\n",
            "cognitive function in older adults.** * **May reduce the risk of type 2 diabetes.**  **Important Note:**  * The negative\n",
            "impacts of alcohol consumption outweigh the potential benefits. * The amount of alcohol considered \"moderate\" varies\n",
            "depending on individual factors such as age, gender, and health status. * It is always best to consult with a healthcare\n",
            "professional for personalized advice on alcohol consumption.  **Additional Information:**  * The World Health\n",
            "Organization (WHO) recommends that adults limit their alcohol intake to no more than 14 units per week for men and 7\n",
            "units per week for women. * One unit of alcohol is equivalent to 10 ml or 8 g of pure alcohol. * This is roughly\n",
            "equivalent to a small glass of wine (125 ml), a half-pint of beer (250 ml), or a single measure of spirits (25 ml).\n",
            "**Disclaimer:**  I am an AI chatbot and cannot provide medical advice. The information provided above is for general\n",
            "knowledge and informational purposes only, and does not constitute medical advice. It is essential to consult with a\n",
            "qualified healthcare professional for any health concerns or before making any decisions related to your health or\n",
            "treatment.\n",
            "................................................................................\n"
          ]
        }
      ]
    },
    {
      "cell_type": "code",
      "source": [
        "llm1 = VertexAI(model_name=\"gemini-1.0-pro\",max_output_tokens=8042, temperature=0.9)"
      ],
      "metadata": {
        "id": "IYe0C3o-x4ZZ"
      },
      "execution_count": null,
      "outputs": []
    },
    {
      "cell_type": "code",
      "source": [
        "\n",
        "template = \"\"\"SYSTEM: You are an intelligent assistant helping the users with their questions on research papers.\n",
        "\n",
        "Question: {question}\n",
        "\n",
        "I'm an adult. Provide a detailed answer using bullet points.\n",
        "\n",
        "Do not try to make up an answer:\n",
        " - If the answer to the question cannot be determined from the context alone, say \"I cannot determine the answer to that.\"\n",
        " - If the context is empty, just say \"I do not know the answer to that.\"\n",
        "\n",
        "=============\n",
        "{context}\n",
        "=============\n",
        "\n",
        "Question: {question}\n",
        "Helpful Answer:\"\"\""
      ],
      "metadata": {
        "id": "NkM3YA5_x90d"
      },
      "execution_count": null,
      "outputs": []
    },
    {
      "cell_type": "code",
      "source": [
        "# Use Vertex PaLM Text API for LLM\n",
        "qa1 = RetrievalQA.from_chain_type(\n",
        "    llm=llm1,\n",
        "    chain_type=\"stuff\",\n",
        "    retriever=retriever,\n",
        "    return_source_documents=True,\n",
        "    verbose=True,\n",
        "    chain_type_kwargs={\n",
        "        \"prompt\": PromptTemplate(\n",
        "            template=template,\n",
        "            input_variables=[\"context\", \"question\"],\n",
        "        ),\n",
        "    },\n",
        ")"
      ],
      "metadata": {
        "id": "ay0ZfNt-x94X"
      },
      "execution_count": null,
      "outputs": []
    },
    {
      "cell_type": "code",
      "source": [
        "# Enable for troubleshooting\n",
        "qa1.combine_documents_chain.verbose = True\n",
        "qa1.combine_documents_chain.llm_chain.verbose = True\n",
        "qa1.combine_documents_chain.llm_chain.llm.verbose = True"
      ],
      "metadata": {
        "id": "jJMzftoxx97e"
      },
      "execution_count": null,
      "outputs": []
    },
    {
      "cell_type": "code",
      "source": [
        "def formatter(result):\n",
        "    print(f\"Query: {result['query']}\")\n",
        "    print(\".\" * 80)\n",
        "    if \"source_documents\" in result.keys():\n",
        "        for idx, ref in enumerate(result[\"source_documents\"]):\n",
        "            print(\"-\" * 80)\n",
        "            print(f\"REFERENCE #{idx}\")\n",
        "            print(\"-\" * 80)\n",
        "            if \"score\" in ref.metadata:\n",
        "                print(f\"Matching Score: {ref.metadata['score']}\")\n",
        "            if \"source\" in ref.metadata:\n",
        "                print(f\"Document Source: {ref.metadata['source']}\")\n",
        "            if \"document_name\" in ref.metadata:\n",
        "                print(f\"Document Name: {ref.metadata['document_name']}\")\n",
        "            print(\".\" * 80)\n",
        "            print(f\"Content: \\n{wrap(ref.page_content)}\")\n",
        "    print(\".\" * 80)\n",
        "    print(f\"Response: {wrap(result['result'])}\")\n",
        "    print(\".\" * 80)\n",
        "\n",
        "\n",
        "def wrap(s):\n",
        "    return \"\\n\".join(textwrap.wrap(s, width=120, break_long_words=False))\n",
        "\n",
        "\n",
        "def ask(\n",
        "    query,\n",
        "    qa=qa1,\n",
        "    k=NUMBER_OF_RESULTS,\n",
        "    search_distance=SEARCH_DISTANCE_THRESHOLD,\n",
        "    filters={},\n",
        "):\n",
        "    qa1.retriever.search_kwargs[\"search_distance\"] = search_distance\n",
        "    qa1.retriever.search_kwargs[\"k\"] = k\n",
        "    qa1.retriever.search_kwargs[\"filters\"] = filters\n",
        "    result = qa1({\"query\": query})\n",
        "    return formatter(result),result"
      ],
      "metadata": {
        "id": "lpOs3yYYyHyA"
      },
      "execution_count": null,
      "outputs": []
    },
    {
      "cell_type": "code",
      "source": [
        "result,result1=ask(\"prolong alcohol intake impact human health?\")"
      ],
      "metadata": {
        "colab": {
          "base_uri": "https://localhost:8080/"
        },
        "id": "NT89ZCBMXAUt",
        "outputId": "53637040-f30c-4b0d-91df-1ec8357c5ebf"
      },
      "execution_count": null,
      "outputs": [
        {
          "output_type": "stream",
          "name": "stdout",
          "text": [
            "\n",
            "\n",
            "\u001b[1m> Entering new RetrievalQA chain...\u001b[0m\n",
            "\n",
            "\n",
            "\u001b[1m> Entering new StuffDocumentsChain chain...\u001b[0m\n",
            "\n",
            "\n",
            "\u001b[1m> Entering new LLMChain chain...\u001b[0m\n",
            "Prompt after formatting:\n",
            "\u001b[32;1m\u001b[1;3mSYSTEM: You are an intelligent assistant helping the users with their questions on research papers.\n",
            "\n",
            "Question: prolong alcohol intake impact human health?\n",
            "\n",
            "I'm an adult. Provide a detailed answer using bullet points.\n",
            "\n",
            "Do not try to make up an answer:\n",
            " - If the answer to the question cannot be determined from the context alone, say \"I cannot determine the answer to that.\"\n",
            " - If the context is empty, just say \"I do not know the answer to that.\"\n",
            "\n",
            "=============\n",
            "content: Open Access Review Article DOI: 10.7759/cureus.30057 Effects of Alcohol Consumption on Various Systems of the Human Body: A Systematic Review Jerin Varghese 1 , Sarika Dakhode 2 Received 09/16/2022 Review began 09/20/2022 Review ended 09/30/2022 1. Medical School, Jawaharlal Nehru Medical College, Datta Meghe Institute of Medical Sciences, Wardha, IND 2. Published 10/08/2022 Community Medicine, Jawaharlal Nehru Medical College, Datta Meghe Institute of Medical Sciences, Wardha, IND Varghese et al. This is an open access Corresponding author: Jerin Varghese, jerinazero@gmail.com article distributed under the terms of the Creative Commons Attribution License CC- BY 4.0., which permits unrestricted use, distribution, and reproduction in any Abstract medium, provided the original author and source are credited. Prolonged alcohol intake for many years has been known to cause serious ailments in human beings since time memorial\n",
            "\n",
            "content: Does alcohol cause brain changes? For ethical reasons, it is not possible to conduct prospective research on the subject of alcohol use and brain effects in children and young people. However, the available observational evidence suggests that adolescents are likely to be more vulnerable than adults to both subtle brain damage and long lasting cognitive deficits following significant alcohol exposure [25]. Cognitive and learning impairments from chronic heavy exposure to alcohol can arise from the neuro-toxic effects of ethanol on vulnerable hippocampus and limbic structures. Research findings from animal models and observational human studies have shown that persistent alcohol abuse can result in a decrease in the overall volume of the hippocampus, the area responsible for long term learning and memory [25]\n",
            "\n",
            "content: Does alcohol cause brain changes? For ethical reasons, it is not possible to conduct prospective research on the subject of alcohol use and brain effects in children and young people. However, the available observational evidence suggests that adolescents are likely to be more vulnerable than adults to both subtle brain damage and long lasting cognitive deficits following significant alcohol exposure [25]. Cognitive and learning impairments from chronic heavy exposure to alcohol can arise from the neuro-toxic effects of ethanol on vulnerable hippocampus and limbic structures. Research findings from animal models and observational human studies have shown that persistent alcohol abuse can result in a decrease in the overall volume of the hippocampus, the area responsible for long term learning and memory [25]\n",
            "\n",
            "content: Does alcohol cause brain changes? For ethical reasons, it is not possible to conduct prospective research on the subject of alcohol use and brain effects in children and young people. However, the available observational evidence suggests that adolescents are likely to be more vulnerable than adults to both subtle brain damage and long lasting cognitive deficits following significant alcohol exposure [25]. Cognitive and learning impairments from chronic heavy exposure to alcohol can arise from the neuro-toxic effects of ethanol on vulnerable hippocampus and limbic structures. Research findings from animal models and observational human studies have shown that persistent alcohol abuse can result in a decrease in the overall volume of the hippocampus, the area responsible for long term learning and memory [25]\n",
            "\n",
            ".\" (Abraham J, 1995) \"The conclusion that a certain amount of alcohol can have a beneficial effect on personal health, decreasing mortality from some major conditions to such an extent that it more than compensates for an increased mortality from other conditions, greatly complicates the formation of public health policy. Before a beneficial effect was appreciated, policy could, and generally did, aim to discourage drinking altogether. Policies aimed solely at reducing heavy drinking had little success and the most effective means of reducing alcohol abuse seemed to be a policy aimed at reducing the average amount consumed by the population as a whole..\n",
            "=============\n",
            "\n",
            "Question: prolong alcohol intake impact human health?\n",
            "Helpful Answer:\u001b[0m\n",
            "\n",
            "\u001b[1m> Finished chain.\u001b[0m\n",
            "\n",
            "\u001b[1m> Finished chain.\u001b[0m\n",
            "\n",
            "\u001b[1m> Finished chain.\u001b[0m\n",
            "Query: prolong alcohol intake impact human health?\n",
            "................................................................................\n",
            "--------------------------------------------------------------------------------\n",
            "REFERENCE #0\n",
            "--------------------------------------------------------------------------------\n",
            "Document Source: Title: Effects of Alcohol Consumption on Various Systems of the Human BodyA Systematic Review.pdf,page:1\n",
            "................................................................................\n",
            "Content: \n",
            "content: Open Access Review Article DOI: 10.7759/cureus.30057 Effects of Alcohol Consumption on Various Systems of the\n",
            "Human Body: A Systematic Review Jerin Varghese 1 , Sarika Dakhode 2 Received 09/16/2022 Review began 09/20/2022 Review\n",
            "ended 09/30/2022 1. Medical School, Jawaharlal Nehru Medical College, Datta Meghe Institute of Medical Sciences, Wardha,\n",
            "IND 2. Published 10/08/2022 Community Medicine, Jawaharlal Nehru Medical College, Datta Meghe Institute of Medical\n",
            "Sciences, Wardha, IND Varghese et al. This is an open access Corresponding author: Jerin Varghese, jerinazero@gmail.com\n",
            "article distributed under the terms of the Creative Commons Attribution License CC- BY 4.0., which permits unrestricted\n",
            "use, distribution, and reproduction in any Abstract medium, provided the original author and source are credited.\n",
            "Prolonged alcohol intake for many years has been known to cause serious ailments in human beings since time memorial\n",
            "--------------------------------------------------------------------------------\n",
            "REFERENCE #1\n",
            "--------------------------------------------------------------------------------\n",
            "Document Source: Title: Impact of Alcohol Consumption on Young People.pdf,page:24\n",
            "................................................................................\n",
            "Content: \n",
            "content: Does alcohol cause brain changes? For ethical reasons, it is not possible to conduct prospective research on\n",
            "the subject of alcohol use and brain effects in children and young people. However, the available observational evidence\n",
            "suggests that adolescents are likely to be more vulnerable than adults to both subtle brain damage and long lasting\n",
            "cognitive deficits following significant alcohol exposure [25]. Cognitive and learning impairments from chronic heavy\n",
            "exposure to alcohol can arise from the neuro-toxic effects of ethanol on vulnerable hippocampus and limbic structures.\n",
            "Research findings from animal models and observational human studies have shown that persistent alcohol abuse can result\n",
            "in a decrease in the overall volume of the hippocampus, the area responsible for long term learning and memory [25]\n",
            "--------------------------------------------------------------------------------\n",
            "REFERENCE #2\n",
            "--------------------------------------------------------------------------------\n",
            "Document Source: Title: Impact of Alcohol Consumption on Young People.pdf,page:24\n",
            "................................................................................\n",
            "Content: \n",
            "content: Does alcohol cause brain changes? For ethical reasons, it is not possible to conduct prospective research on\n",
            "the subject of alcohol use and brain effects in children and young people. However, the available observational evidence\n",
            "suggests that adolescents are likely to be more vulnerable than adults to both subtle brain damage and long lasting\n",
            "cognitive deficits following significant alcohol exposure [25]. Cognitive and learning impairments from chronic heavy\n",
            "exposure to alcohol can arise from the neuro-toxic effects of ethanol on vulnerable hippocampus and limbic structures.\n",
            "Research findings from animal models and observational human studies have shown that persistent alcohol abuse can result\n",
            "in a decrease in the overall volume of the hippocampus, the area responsible for long term learning and memory [25]\n",
            "--------------------------------------------------------------------------------\n",
            "REFERENCE #3\n",
            "--------------------------------------------------------------------------------\n",
            "Document Source: Title: Impact of Alcohol Consumption on Young People.pdf,page:24\n",
            "................................................................................\n",
            "Content: \n",
            "content: Does alcohol cause brain changes? For ethical reasons, it is not possible to conduct prospective research on\n",
            "the subject of alcohol use and brain effects in children and young people. However, the available observational evidence\n",
            "suggests that adolescents are likely to be more vulnerable than adults to both subtle brain damage and long lasting\n",
            "cognitive deficits following significant alcohol exposure [25]. Cognitive and learning impairments from chronic heavy\n",
            "exposure to alcohol can arise from the neuro-toxic effects of ethanol on vulnerable hippocampus and limbic structures.\n",
            "Research findings from animal models and observational human studies have shown that persistent alcohol abuse can result\n",
            "in a decrease in the overall volume of the hippocampus, the area responsible for long term learning and memory [25]\n",
            "--------------------------------------------------------------------------------\n",
            "REFERENCE #4\n",
            "--------------------------------------------------------------------------------\n",
            "Document Source: Title: Gururaj_-Alcohol-report-NIMHANS.pdf,page:132\n",
            "................................................................................\n",
            "Content: \n",
            ".\" (Abraham J, 1995) \"The conclusion that a certain amount of alcohol can have a beneficial effect on personal health,\n",
            "decreasing mortality from some major conditions to such an extent that it more than compensates for an increased\n",
            "mortality from other conditions, greatly complicates the formation of public health policy. Before a beneficial effect\n",
            "was appreciated, policy could, and generally did, aim to discourage drinking altogether. Policies aimed solely at\n",
            "reducing heavy drinking had little success and the most effective means of reducing alcohol abuse seemed to be a policy\n",
            "aimed at reducing the average amount consumed by the population as a whole..\n",
            "................................................................................\n",
            "Response: ## Prolonged Alcohol Intake and Its Effects on Human Health:  **Negative impacts:**  * **Brain:**     * Reduced grey and\n",
            "white matter volume     * Cognitive decline and impaired memory     * Increased risk of dementia     * Higher\n",
            "vulnerability in adolescents * **Liver:**     * Fatty liver disease     * Alcoholic hepatitis     * Cirrhosis     *\n",
            "Increased risk of liver cancer * **Heart:**     * High blood pressure     * Cardiomyopathy     * Stroke     * Arrhythmia\n",
            "* **Immune system:**     * Increased susceptibility to infections     * Weakened immune response * **Cancer:**     *\n",
            "Increased risk of various cancers, including mouth, throat, esophagus, liver, and breast cancer * **Mental health:**\n",
            "* Depression     * Anxiety     * Suicidal ideation * **Social and relationships:**     * Conflicts and relationship\n",
            "problems     * Job loss     * Financial difficulties  **Positive impacts (controversial and heavily debated):**  *\n",
            "**Moderate consumption (1 drink per day for women, 2 drinks per day for men) may be associated with a reduced risk of:**\n",
            "* Coronary heart disease     * Ischemic stroke     * Type 2 diabetes  **Important note:**   The research on the positive\n",
            "impacts of moderate alcohol consumption is complex and inconclusive. Many factors influence the potential benefits and\n",
            "risks, including individual health, genetics, and lifestyle.  **Overall:**  Prolonged alcohol intake has significant\n",
            "negative impacts on various aspects of human health. While there may be some potential benefits associated with moderate\n",
            "consumption, the risks generally outweigh the potential advantages.\n",
            "................................................................................\n"
          ]
        }
      ]
    },
    {
      "cell_type": "markdown",
      "source": [
        "# Topic Modelling"
      ],
      "metadata": {
        "id": "NCnsqGj2WppK"
      }
    },
    {
      "cell_type": "code",
      "source": [
        "from vertexai.generative_models import GenerationConfig, GenerativeModel"
      ],
      "metadata": {
        "id": "c885ajkLWskm"
      },
      "execution_count": null,
      "outputs": []
    },
    {
      "cell_type": "code",
      "source": [
        "model = GenerativeModel(\"gemini-1.0-pro\")"
      ],
      "metadata": {
        "id": "UqkUtjv7WtsR"
      },
      "execution_count": null,
      "outputs": []
    },
    {
      "cell_type": "code",
      "source": [
        "text=result1.get('result')"
      ],
      "metadata": {
        "id": "646pAB4vhFHT"
      },
      "execution_count": null,
      "outputs": []
    },
    {
      "cell_type": "code",
      "source": [
        "modified_prompt =  \"\"\"\n",
        "Encoded Text Representation: {}\n",
        "\n",
        "Generate 5 questions... \"\"\".format(text)"
      ],
      "metadata": {
        "id": "JXfPi1iJ0NRz"
      },
      "execution_count": null,
      "outputs": []
    },
    {
      "cell_type": "code",
      "source": [
        "generation_config = GenerationConfig(\n",
        "    temperature=0.2, max_output_tokens=1024, top_k=40, top_p=0.8\n",
        ")\n",
        "\n",
        "print(model.generate_content(modified_prompt, generation_config=generation_config).text)"
      ],
      "metadata": {
        "colab": {
          "base_uri": "https://localhost:8080/"
        },
        "id": "8WiTChVvXxL9",
        "outputId": "a2ea943d-f078-40a9-fdb9-7306f2443a3d"
      },
      "execution_count": null,
      "outputs": [
        {
          "output_type": "stream",
          "name": "stdout",
          "text": [
            "## 5 Questions about Prolonged Alcohol Intake and Its Effects on Human Health:\n",
            "\n",
            "1. **What are the specific mechanisms by which prolonged alcohol intake leads to brain damage and cognitive decline?**\n",
            "2. **How does the severity of negative health impacts vary depending on the amount and duration of alcohol consumption?**\n",
            "3. **Is there a safe limit for alcohol consumption that minimizes health risks while still offering potential benefits?**\n",
            "4. **What are the most effective strategies for preventing and treating alcohol-related health problems?**\n",
            "5. **How can we better educate individuals and communities about the risks and potential benefits of alcohol consumption?**\n"
          ]
        }
      ]
    },
    {
      "cell_type": "markdown",
      "source": [
        "# Interview question generation"
      ],
      "metadata": {
        "id": "HQWCEtj4gVZ6"
      }
    },
    {
      "cell_type": "code",
      "source": [
        "prompt = \"\"\"\n",
        "Encoded Text Representation: {}\n",
        "Generate 10 questions that test student knowledge about the topic.\n",
        "\n",
        "\n",
        "\"\"\".format(text)"
      ],
      "metadata": {
        "id": "95pjQOhvg1T7"
      },
      "execution_count": null,
      "outputs": []
    },
    {
      "cell_type": "code",
      "source": [
        "print(model.generate_content(prompt, generation_config=generation_config).text)"
      ],
      "metadata": {
        "colab": {
          "base_uri": "https://localhost:8080/"
        },
        "id": "NKESIEkogVxo",
        "outputId": "5ba1bc77-5303-4d7b-dbed-18477819684f"
      },
      "execution_count": null,
      "outputs": [
        {
          "output_type": "stream",
          "name": "stdout",
          "text": [
            "## 10 Questions to Test Student Knowledge about Prolonged Alcohol Intake and Its Effects on Human Health:\n",
            "\n",
            "**Multiple Choice:**\n",
            "\n",
            "1. Which of the following is NOT a negative impact of prolonged alcohol intake on the brain?\n",
            "    a) Reduced grey and white matter volume\n",
            "    b) Improved cognitive function\n",
            "    c) Increased risk of dementia\n",
            "    d) Higher vulnerability in adolescents\n",
            "\n",
            "2. Which of the following is the most common type of liver damage caused by prolonged alcohol intake?\n",
            "    a) Fatty liver disease\n",
            "    b) Alcoholic hepatitis\n",
            "    c) Cirrhosis\n",
            "    d) Liver cancer\n",
            "\n",
            "3. Which of the following is NOT a cardiovascular complication associated with prolonged alcohol intake?\n",
            "    a) High blood pressure\n",
            "    b) Cardiomyopathy\n",
            "    c) Osteoporosis\n",
            "    d) Arrhythmia\n",
            "\n",
            "4. Which of the following cancers is NOT associated with increased risk due to prolonged alcohol intake?\n",
            "    a) Mouth cancer\n",
            "    b) Lung cancer\n",
            "    c) Esophageal cancer\n",
            "    d) Breast cancer\n",
            "\n",
            "5. Which of the following mental health conditions is NOT commonly associated with prolonged alcohol intake?\n",
            "    a) Depression\n",
            "    b) Anxiety\n",
            "    c) Bipolar disorder\n",
            "    d) Suicidal ideation\n",
            "\n",
            "**True/False:**\n",
            "\n",
            "6. Moderate alcohol consumption (1 drink per day for women, 2 drinks per day for men) has been definitively proven to reduce the risk of all types of cancer. (True/False)\n",
            "\n",
            "7. Prolonged alcohol intake can have negative impacts on social relationships and lead to job loss. (True/False)\n",
            "\n",
            "8. The research on the positive impacts of moderate alcohol consumption is clear and conclusive. (True/False)\n",
            "\n",
            "**Open-Ended:**\n",
            "\n",
            "9. Explain the difference between fatty liver disease and alcoholic hepatitis.\n",
            "\n",
            "10. Discuss the ethical considerations involved in researching the potential benefits of moderate alcohol consumption.\n"
          ]
        }
      ]
    },
    {
      "cell_type": "code",
      "source": [
        "print('work in progress for business use case')"
      ],
      "metadata": {
        "colab": {
          "base_uri": "https://localhost:8080/"
        },
        "id": "0xCKvzwbu5ry",
        "outputId": "4398f0bf-d765-49f2-c9f9-ab35ac12a699"
      },
      "execution_count": null,
      "outputs": [
        {
          "output_type": "stream",
          "name": "stdout",
          "text": [
            "work in progress for business use case\n"
          ]
        }
      ]
    }
  ]
}